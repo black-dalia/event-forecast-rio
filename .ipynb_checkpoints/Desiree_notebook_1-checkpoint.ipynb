{
 "cells": [
  {
   "cell_type": "code",
   "execution_count": 1,
   "id": "588acb59",
   "metadata": {},
   "outputs": [],
   "source": [
    "import pandas as pd\n",
    "import numpy as np \n",
    "import matplotlib.pyplot as plt\n",
    "plt.style.use('ggplot')\n",
    "import seaborn as sns\n",
    "import datetime"
   ]
  },
  {
   "cell_type": "markdown",
   "id": "3f729fd2",
   "metadata": {},
   "source": [
    "# Import crime records"
   ]
  },
  {
   "cell_type": "code",
   "execution_count": 2,
   "id": "4ce8f1d9",
   "metadata": {},
   "outputs": [],
   "source": [
    "import numpy as np # linear algebra\n",
    "import pandas as pd # data processing, CSV file I/O (e.g. pd.read_csv)\n",
    "\n",
    "# Input data files are available in the read-only \"../input/\" directory\n",
    "# For example, running this (by clicking run or pressing Shift+Enter) will list all files under the input directory\n",
    "\n",
    "import os\n",
    "for dirname, _, filenames in os.walk('crimes_RJ'):\n",
    "    for filename in filenames:\n",
    "        print(os.path.join(dirname, filename))"
   ]
  },
  {
   "cell_type": "code",
   "execution_count": 3,
   "id": "b9d83071",
   "metadata": {},
   "outputs": [],
   "source": [
    "parte1 = pd.read_csv(\"raw_data/parte1.csv\", sep=\";\", encoding='iso-8859-1')"
   ]
  },
  {
   "cell_type": "code",
   "execution_count": 5,
   "id": "fe66696f",
   "metadata": {
    "scrolled": true
   },
   "outputs": [
    {
     "data": {
      "text/html": [
       "<div>\n",
       "<style scoped>\n",
       "    .dataframe tbody tr th:only-of-type {\n",
       "        vertical-align: middle;\n",
       "    }\n",
       "\n",
       "    .dataframe tbody tr th {\n",
       "        vertical-align: top;\n",
       "    }\n",
       "\n",
       "    .dataframe thead th {\n",
       "        text-align: right;\n",
       "    }\n",
       "</style>\n",
       "<table border=\"1\" class=\"dataframe\">\n",
       "  <thead>\n",
       "    <tr style=\"text-align: right;\">\n",
       "      <th></th>\n",
       "      <th>controle</th>\n",
       "      <th>ano</th>\n",
       "      <th>mes</th>\n",
       "      <th>titulo_do</th>\n",
       "      <th>total_rbft</th>\n",
       "      <th>conteudo</th>\n",
       "      <th>dp</th>\n",
       "      <th>cisp</th>\n",
       "      <th>data_com</th>\n",
       "      <th>data_fato</th>\n",
       "      <th>...</th>\n",
       "      <th>risp</th>\n",
       "      <th>local</th>\n",
       "      <th>sexo</th>\n",
       "      <th>data_nasc</th>\n",
       "      <th>cor</th>\n",
       "      <th>profissao</th>\n",
       "      <th>relacao</th>\n",
       "      <th>bairro_vit</th>\n",
       "      <th>municipio_vit</th>\n",
       "      <th>idade</th>\n",
       "    </tr>\n",
       "  </thead>\n",
       "  <tbody>\n",
       "    <tr>\n",
       "      <th>0</th>\n",
       "      <td>00787401-2009</td>\n",
       "      <td>2009</td>\n",
       "      <td>Janeiro</td>\n",
       "      <td>Lesão corporal dolosa</td>\n",
       "      <td>Não se aplica</td>\n",
       "      <td>vítimas</td>\n",
       "      <td>043a. Pedra de Guaratiba</td>\n",
       "      <td>043a. Pedra de Guaratiba</td>\n",
       "      <td>2009-01-01</td>\n",
       "      <td>2009-01-01</td>\n",
       "      <td>...</td>\n",
       "      <td>RISP 02</td>\n",
       "      <td>Praia</td>\n",
       "      <td>masculino</td>\n",
       "      <td>1992-09-02</td>\n",
       "      <td>parda</td>\n",
       "      <td>Estudante</td>\n",
       "      <td>Ignorado</td>\n",
       "      <td>SANTA CRUZ</td>\n",
       "      <td>RIO DE JANEIRO</td>\n",
       "      <td>16.0</td>\n",
       "    </tr>\n",
       "    <tr>\n",
       "      <th>1</th>\n",
       "      <td>00908861-2009</td>\n",
       "      <td>2009</td>\n",
       "      <td>Janeiro</td>\n",
       "      <td>Lesão corporal dolosa</td>\n",
       "      <td>Não se aplica</td>\n",
       "      <td>vítimas</td>\n",
       "      <td>119a. Rio Bonito</td>\n",
       "      <td>119a. Rio Bonito</td>\n",
       "      <td>2009-01-01</td>\n",
       "      <td>2008-12-31</td>\n",
       "      <td>...</td>\n",
       "      <td>RISP 04</td>\n",
       "      <td>Via pública</td>\n",
       "      <td>sem informação</td>\n",
       "      <td>1979-06-20</td>\n",
       "      <td>sem informação</td>\n",
       "      <td>Cantor(a)</td>\n",
       "      <td>Outra</td>\n",
       "      <td>SERRA DO SAMBE</td>\n",
       "      <td>RIO BONITO</td>\n",
       "      <td>29.0</td>\n",
       "    </tr>\n",
       "    <tr>\n",
       "      <th>2</th>\n",
       "      <td>00954561-2009</td>\n",
       "      <td>2009</td>\n",
       "      <td>Janeiro</td>\n",
       "      <td>Lesão corporal dolosa</td>\n",
       "      <td>Não se aplica</td>\n",
       "      <td>vítimas</td>\n",
       "      <td>Delegacia de Atendimento à Mulher - Volta Redonda</td>\n",
       "      <td>090a. Barra Mansa</td>\n",
       "      <td>2009-01-01</td>\n",
       "      <td>2009-01-01</td>\n",
       "      <td>...</td>\n",
       "      <td>RISP 05</td>\n",
       "      <td>Via pública</td>\n",
       "      <td>feminino</td>\n",
       "      <td>1966-03-28</td>\n",
       "      <td>parda</td>\n",
       "      <td>Ignorado</td>\n",
       "      <td>Genro</td>\n",
       "      <td>COLÔNIA S. ANTONIO</td>\n",
       "      <td>BARRA MANSA</td>\n",
       "      <td>42.0</td>\n",
       "    </tr>\n",
       "    <tr>\n",
       "      <th>3</th>\n",
       "      <td>00987771-2009</td>\n",
       "      <td>2009</td>\n",
       "      <td>Janeiro</td>\n",
       "      <td>Lesão corporal dolosa</td>\n",
       "      <td>Não se aplica</td>\n",
       "      <td>vítimas</td>\n",
       "      <td>145a. São João da Barra</td>\n",
       "      <td>145a. São João da Barra</td>\n",
       "      <td>2009-01-01</td>\n",
       "      <td>2009-01-01</td>\n",
       "      <td>...</td>\n",
       "      <td>RISP 06</td>\n",
       "      <td>Via pública</td>\n",
       "      <td>feminino</td>\n",
       "      <td>1988-09-28</td>\n",
       "      <td>branca</td>\n",
       "      <td>Estudante</td>\n",
       "      <td>Outra</td>\n",
       "      <td>TURF CLUB</td>\n",
       "      <td>CAMPOS</td>\n",
       "      <td>20.0</td>\n",
       "    </tr>\n",
       "    <tr>\n",
       "      <th>4</th>\n",
       "      <td>00987771-2009</td>\n",
       "      <td>2009</td>\n",
       "      <td>Janeiro</td>\n",
       "      <td>Lesão corporal dolosa</td>\n",
       "      <td>Não se aplica</td>\n",
       "      <td>vítimas</td>\n",
       "      <td>145a. São João da Barra</td>\n",
       "      <td>145a. São João da Barra</td>\n",
       "      <td>2009-01-01</td>\n",
       "      <td>2009-01-01</td>\n",
       "      <td>...</td>\n",
       "      <td>RISP 06</td>\n",
       "      <td>Via pública</td>\n",
       "      <td>masculino</td>\n",
       "      <td>1988-09-28</td>\n",
       "      <td>branca</td>\n",
       "      <td>Carteiro(a)</td>\n",
       "      <td>Outra</td>\n",
       "      <td>CENTRO</td>\n",
       "      <td>SAO JOAO DA BARRA</td>\n",
       "      <td>20.0</td>\n",
       "    </tr>\n",
       "  </tbody>\n",
       "</table>\n",
       "<p>5 rows × 25 columns</p>\n",
       "</div>"
      ],
      "text/plain": [
       "        controle   ano      mes              titulo_do     total_rbft  \\\n",
       "0  00787401-2009  2009  Janeiro  Lesão corporal dolosa  Não se aplica   \n",
       "1  00908861-2009  2009  Janeiro  Lesão corporal dolosa  Não se aplica   \n",
       "2  00954561-2009  2009  Janeiro  Lesão corporal dolosa  Não se aplica   \n",
       "3  00987771-2009  2009  Janeiro  Lesão corporal dolosa  Não se aplica   \n",
       "4  00987771-2009  2009  Janeiro  Lesão corporal dolosa  Não se aplica   \n",
       "\n",
       "  conteudo                                                 dp  \\\n",
       "0  vítimas                           043a. Pedra de Guaratiba   \n",
       "1  vítimas                                   119a. Rio Bonito   \n",
       "2  vítimas  Delegacia de Atendimento à Mulher - Volta Redonda   \n",
       "3  vítimas                            145a. São João da Barra   \n",
       "4  vítimas                            145a. São João da Barra   \n",
       "\n",
       "                       cisp    data_com   data_fato  ...     risp  \\\n",
       "0  043a. Pedra de Guaratiba  2009-01-01  2009-01-01  ...  RISP 02   \n",
       "1          119a. Rio Bonito  2009-01-01  2008-12-31  ...  RISP 04   \n",
       "2         090a. Barra Mansa  2009-01-01  2009-01-01  ...  RISP 05   \n",
       "3   145a. São João da Barra  2009-01-01  2009-01-01  ...  RISP 06   \n",
       "4   145a. São João da Barra  2009-01-01  2009-01-01  ...  RISP 06   \n",
       "\n",
       "         local            sexo   data_nasc             cor    profissao  \\\n",
       "0        Praia       masculino  1992-09-02           parda    Estudante   \n",
       "1  Via pública  sem informação  1979-06-20  sem informação    Cantor(a)   \n",
       "2  Via pública        feminino  1966-03-28           parda     Ignorado   \n",
       "3  Via pública        feminino  1988-09-28          branca    Estudante   \n",
       "4  Via pública       masculino  1988-09-28          branca  Carteiro(a)   \n",
       "\n",
       "    relacao          bairro_vit      municipio_vit idade  \n",
       "0  Ignorado          SANTA CRUZ     RIO DE JANEIRO  16.0  \n",
       "1     Outra      SERRA DO SAMBE         RIO BONITO  29.0  \n",
       "2     Genro  COLÔNIA S. ANTONIO        BARRA MANSA  42.0  \n",
       "3     Outra           TURF CLUB             CAMPOS  20.0  \n",
       "4     Outra              CENTRO  SAO JOAO DA BARRA  20.0  \n",
       "\n",
       "[5 rows x 25 columns]"
      ]
     },
     "execution_count": 5,
     "metadata": {},
     "output_type": "execute_result"
    }
   ],
   "source": [
    "parte1.head()"
   ]
  },
  {
   "cell_type": "code",
   "execution_count": 6,
   "id": "606fa6e8",
   "metadata": {},
   "outputs": [
    {
     "data": {
      "text/plain": [
       "Index(['controle', 'ano', 'mes', 'titulo_do', 'total_rbft', 'conteudo', 'dp',\n",
       "       'cisp', 'data_com', 'data_fato', 'hora_com', 'hora_fato', 'bairro_fato',\n",
       "       'municipio_fato', 'aisp', 'risp', 'local', 'sexo', 'data_nasc', 'cor',\n",
       "       'profissao', 'relacao', 'bairro_vit', 'municipio_vit', 'idade'],\n",
       "      dtype='object')"
      ]
     },
     "execution_count": 6,
     "metadata": {},
     "output_type": "execute_result"
    }
   ],
   "source": [
    "parte1.columns"
   ]
  },
  {
   "cell_type": "code",
   "execution_count": 13,
   "id": "327a72fe",
   "metadata": {},
   "outputs": [
    {
     "data": {
      "text/plain": [
       "conteudo\n",
       "vítimas     220202\n",
       "ambos          196\n",
       "dtype: int64"
      ]
     },
     "execution_count": 13,
     "metadata": {},
     "output_type": "execute_result"
    }
   ],
   "source": [
    "parte1[[\"conteudo\"]].value_counts()"
   ]
  },
  {
   "cell_type": "code",
   "execution_count": 15,
   "id": "ab313dbc",
   "metadata": {},
   "outputs": [],
   "source": [
    "parte2 = pd.read_csv(\"raw_data/parte2.csv\", sep=\";\", encoding='iso-8859-1')"
   ]
  },
  {
   "cell_type": "code",
   "execution_count": 16,
   "id": "8bf69d7a",
   "metadata": {},
   "outputs": [],
   "source": [
    "parte3= pd.read_csv(\"raw_data/parte3.csv\", sep=\";\", encoding='iso-8859-1')"
   ]
  },
  {
   "cell_type": "code",
   "execution_count": 17,
   "id": "c7344c2f",
   "metadata": {},
   "outputs": [],
   "source": [
    "parte4= pd.read_csv(\"raw_data/parte4.csv\", sep=\";\", encoding='iso-8859-1')"
   ]
  },
  {
   "cell_type": "code",
   "execution_count": 29,
   "id": "1cd803a4",
   "metadata": {},
   "outputs": [
    {
     "data": {
      "text/plain": [
       "conteudo\n",
       "casos       764923\n",
       "vítimas      34498\n",
       "ambos          579\n",
       "dtype: int64"
      ]
     },
     "execution_count": 29,
     "metadata": {},
     "output_type": "execute_result"
    }
   ],
   "source": [
    "parte3[[\"conteudo\"]].value_counts()"
   ]
  },
  {
   "cell_type": "code",
   "execution_count": 28,
   "id": "9242d65a",
   "metadata": {
    "scrolled": true
   },
   "outputs": [
    {
     "data": {
      "text/plain": [
       "total_rbft   \n",
       "Roubo            513220\n",
       "Furto            252282\n",
       "Não se aplica     34498\n",
       "dtype: int64"
      ]
     },
     "execution_count": 28,
     "metadata": {},
     "output_type": "execute_result"
    }
   ],
   "source": [
    "parte3[[\"total_rbft\"]].value_counts()"
   ]
  },
  {
   "cell_type": "code",
   "execution_count": 21,
   "id": "9960cdac",
   "metadata": {},
   "outputs": [
    {
     "data": {
      "text/plain": [
       "total_rbft   \n",
       "Roubo            504941\n",
       "Furto            166592\n",
       "Não se aplica     30136\n",
       "dtype: int64"
      ]
     },
     "execution_count": 21,
     "metadata": {},
     "output_type": "execute_result"
    }
   ],
   "source": [
    "parte4[[\"total_rbft\"]].value_counts()"
   ]
  },
  {
   "cell_type": "code",
   "execution_count": 22,
   "id": "5559f1a7",
   "metadata": {},
   "outputs": [
    {
     "data": {
      "text/plain": [
       "total_rbft   \n",
       "Não se aplica    220202\n",
       "Roubo               196\n",
       "dtype: int64"
      ]
     },
     "execution_count": 22,
     "metadata": {},
     "output_type": "execute_result"
    }
   ],
   "source": [
    "parte1[[\"total_rbft\"]].value_counts()"
   ]
  },
  {
   "cell_type": "code",
   "execution_count": 7,
   "id": "7624dbff",
   "metadata": {},
   "outputs": [
    {
     "data": {
      "text/plain": [
       "(800000, 23)"
      ]
     },
     "execution_count": 7,
     "metadata": {},
     "output_type": "execute_result"
    }
   ],
   "source": [
    "parte2.head()\n",
    "parte2.shape"
   ]
  },
  {
   "cell_type": "code",
   "execution_count": 30,
   "id": "c5c48dc7",
   "metadata": {},
   "outputs": [
    {
     "data": {
      "text/html": [
       "<div>\n",
       "<style scoped>\n",
       "    .dataframe tbody tr th:only-of-type {\n",
       "        vertical-align: middle;\n",
       "    }\n",
       "\n",
       "    .dataframe tbody tr th {\n",
       "        vertical-align: top;\n",
       "    }\n",
       "\n",
       "    .dataframe thead th {\n",
       "        text-align: right;\n",
       "    }\n",
       "</style>\n",
       "<table border=\"1\" class=\"dataframe\">\n",
       "  <thead>\n",
       "    <tr style=\"text-align: right;\">\n",
       "      <th></th>\n",
       "      <th>ano</th>\n",
       "      <th>idade</th>\n",
       "    </tr>\n",
       "  </thead>\n",
       "  <tbody>\n",
       "    <tr>\n",
       "      <th>count</th>\n",
       "      <td>220398.0</td>\n",
       "      <td>194499.000000</td>\n",
       "    </tr>\n",
       "    <tr>\n",
       "      <th>mean</th>\n",
       "      <td>2009.0</td>\n",
       "      <td>33.579031</td>\n",
       "    </tr>\n",
       "    <tr>\n",
       "      <th>std</th>\n",
       "      <td>0.0</td>\n",
       "      <td>14.374937</td>\n",
       "    </tr>\n",
       "    <tr>\n",
       "      <th>min</th>\n",
       "      <td>2009.0</td>\n",
       "      <td>0.000000</td>\n",
       "    </tr>\n",
       "    <tr>\n",
       "      <th>25%</th>\n",
       "      <td>2009.0</td>\n",
       "      <td>23.000000</td>\n",
       "    </tr>\n",
       "    <tr>\n",
       "      <th>50%</th>\n",
       "      <td>2009.0</td>\n",
       "      <td>31.000000</td>\n",
       "    </tr>\n",
       "    <tr>\n",
       "      <th>75%</th>\n",
       "      <td>2009.0</td>\n",
       "      <td>42.000000</td>\n",
       "    </tr>\n",
       "    <tr>\n",
       "      <th>max</th>\n",
       "      <td>2009.0</td>\n",
       "      <td>104.000000</td>\n",
       "    </tr>\n",
       "  </tbody>\n",
       "</table>\n",
       "</div>"
      ],
      "text/plain": [
       "            ano          idade\n",
       "count  220398.0  194499.000000\n",
       "mean     2009.0      33.579031\n",
       "std         0.0      14.374937\n",
       "min      2009.0       0.000000\n",
       "25%      2009.0      23.000000\n",
       "50%      2009.0      31.000000\n",
       "75%      2009.0      42.000000\n",
       "max      2009.0     104.000000"
      ]
     },
     "execution_count": 30,
     "metadata": {},
     "output_type": "execute_result"
    }
   ],
   "source": [
    "parte1.describe()"
   ]
  },
  {
   "cell_type": "code",
   "execution_count": 31,
   "id": "03aae9fe",
   "metadata": {},
   "outputs": [
    {
     "data": {
      "text/html": [
       "<div>\n",
       "<style scoped>\n",
       "    .dataframe tbody tr th:only-of-type {\n",
       "        vertical-align: middle;\n",
       "    }\n",
       "\n",
       "    .dataframe tbody tr th {\n",
       "        vertical-align: top;\n",
       "    }\n",
       "\n",
       "    .dataframe thead th {\n",
       "        text-align: right;\n",
       "    }\n",
       "</style>\n",
       "<table border=\"1\" class=\"dataframe\">\n",
       "  <thead>\n",
       "    <tr style=\"text-align: right;\">\n",
       "      <th></th>\n",
       "      <th>ano</th>\n",
       "      <th>idade</th>\n",
       "    </tr>\n",
       "  </thead>\n",
       "  <tbody>\n",
       "    <tr>\n",
       "      <th>count</th>\n",
       "      <td>800000.000000</td>\n",
       "      <td>33761.000000</td>\n",
       "    </tr>\n",
       "    <tr>\n",
       "      <th>mean</th>\n",
       "      <td>2011.593226</td>\n",
       "      <td>21.623441</td>\n",
       "    </tr>\n",
       "    <tr>\n",
       "      <th>std</th>\n",
       "      <td>1.210999</td>\n",
       "      <td>14.345382</td>\n",
       "    </tr>\n",
       "    <tr>\n",
       "      <th>min</th>\n",
       "      <td>2010.000000</td>\n",
       "      <td>0.000000</td>\n",
       "    </tr>\n",
       "    <tr>\n",
       "      <th>25%</th>\n",
       "      <td>2010.000000</td>\n",
       "      <td>11.000000</td>\n",
       "    </tr>\n",
       "    <tr>\n",
       "      <th>50%</th>\n",
       "      <td>2012.000000</td>\n",
       "      <td>18.000000</td>\n",
       "    </tr>\n",
       "    <tr>\n",
       "      <th>75%</th>\n",
       "      <td>2013.000000</td>\n",
       "      <td>30.000000</td>\n",
       "    </tr>\n",
       "    <tr>\n",
       "      <th>max</th>\n",
       "      <td>2014.000000</td>\n",
       "      <td>105.000000</td>\n",
       "    </tr>\n",
       "  </tbody>\n",
       "</table>\n",
       "</div>"
      ],
      "text/plain": [
       "                 ano         idade\n",
       "count  800000.000000  33761.000000\n",
       "mean     2011.593226     21.623441\n",
       "std         1.210999     14.345382\n",
       "min      2010.000000      0.000000\n",
       "25%      2010.000000     11.000000\n",
       "50%      2012.000000     18.000000\n",
       "75%      2013.000000     30.000000\n",
       "max      2014.000000    105.000000"
      ]
     },
     "execution_count": 31,
     "metadata": {},
     "output_type": "execute_result"
    }
   ],
   "source": [
    "parte2.describe()"
   ]
  },
  {
   "cell_type": "code",
   "execution_count": 173,
   "id": "0ad5247c",
   "metadata": {},
   "outputs": [],
   "source": [
    "parte3 = pd.read_csv(\"raw_data/parte3.csv\", sep=\";\", encoding='iso-8859-1')"
   ]
  },
  {
   "cell_type": "code",
   "execution_count": 174,
   "id": "79a08798",
   "metadata": {},
   "outputs": [
    {
     "data": {
      "text/html": [
       "<div>\n",
       "<style scoped>\n",
       "    .dataframe tbody tr th:only-of-type {\n",
       "        vertical-align: middle;\n",
       "    }\n",
       "\n",
       "    .dataframe tbody tr th {\n",
       "        vertical-align: top;\n",
       "    }\n",
       "\n",
       "    .dataframe thead th {\n",
       "        text-align: right;\n",
       "    }\n",
       "</style>\n",
       "<table border=\"1\" class=\"dataframe\">\n",
       "  <thead>\n",
       "    <tr style=\"text-align: right;\">\n",
       "      <th></th>\n",
       "      <th>ano</th>\n",
       "      <th>idade</th>\n",
       "    </tr>\n",
       "  </thead>\n",
       "  <tbody>\n",
       "    <tr>\n",
       "      <th>count</th>\n",
       "      <td>800000.000000</td>\n",
       "      <td>28369.000000</td>\n",
       "    </tr>\n",
       "    <tr>\n",
       "      <th>mean</th>\n",
       "      <td>2015.315565</td>\n",
       "      <td>22.480595</td>\n",
       "    </tr>\n",
       "    <tr>\n",
       "      <th>std</th>\n",
       "      <td>0.980450</td>\n",
       "      <td>14.481049</td>\n",
       "    </tr>\n",
       "    <tr>\n",
       "      <th>min</th>\n",
       "      <td>2014.000000</td>\n",
       "      <td>0.000000</td>\n",
       "    </tr>\n",
       "    <tr>\n",
       "      <th>25%</th>\n",
       "      <td>2014.000000</td>\n",
       "      <td>12.000000</td>\n",
       "    </tr>\n",
       "    <tr>\n",
       "      <th>50%</th>\n",
       "      <td>2015.000000</td>\n",
       "      <td>20.000000</td>\n",
       "    </tr>\n",
       "    <tr>\n",
       "      <th>75%</th>\n",
       "      <td>2016.000000</td>\n",
       "      <td>30.000000</td>\n",
       "    </tr>\n",
       "    <tr>\n",
       "      <th>max</th>\n",
       "      <td>2017.000000</td>\n",
       "      <td>105.000000</td>\n",
       "    </tr>\n",
       "  </tbody>\n",
       "</table>\n",
       "</div>"
      ],
      "text/plain": [
       "                 ano         idade\n",
       "count  800000.000000  28369.000000\n",
       "mean     2015.315565     22.480595\n",
       "std         0.980450     14.481049\n",
       "min      2014.000000      0.000000\n",
       "25%      2014.000000     12.000000\n",
       "50%      2015.000000     20.000000\n",
       "75%      2016.000000     30.000000\n",
       "max      2017.000000    105.000000"
      ]
     },
     "execution_count": 174,
     "metadata": {},
     "output_type": "execute_result"
    }
   ],
   "source": [
    "parte3.describe()"
   ]
  },
  {
   "cell_type": "code",
   "execution_count": 175,
   "id": "fdcea26d",
   "metadata": {},
   "outputs": [
    {
     "data": {
      "text/html": [
       "<div>\n",
       "<style scoped>\n",
       "    .dataframe tbody tr th:only-of-type {\n",
       "        vertical-align: middle;\n",
       "    }\n",
       "\n",
       "    .dataframe tbody tr th {\n",
       "        vertical-align: top;\n",
       "    }\n",
       "\n",
       "    .dataframe thead th {\n",
       "        text-align: right;\n",
       "    }\n",
       "</style>\n",
       "<table border=\"1\" class=\"dataframe\">\n",
       "  <thead>\n",
       "    <tr style=\"text-align: right;\">\n",
       "      <th></th>\n",
       "      <th>ano</th>\n",
       "      <th>idade</th>\n",
       "    </tr>\n",
       "  </thead>\n",
       "  <tbody>\n",
       "    <tr>\n",
       "      <th>count</th>\n",
       "      <td>701669.000000</td>\n",
       "      <td>24357.000000</td>\n",
       "    </tr>\n",
       "    <tr>\n",
       "      <th>mean</th>\n",
       "      <td>2018.102339</td>\n",
       "      <td>21.870222</td>\n",
       "    </tr>\n",
       "    <tr>\n",
       "      <th>std</th>\n",
       "      <td>0.774154</td>\n",
       "      <td>14.438066</td>\n",
       "    </tr>\n",
       "    <tr>\n",
       "      <th>min</th>\n",
       "      <td>2017.000000</td>\n",
       "      <td>0.000000</td>\n",
       "    </tr>\n",
       "    <tr>\n",
       "      <th>25%</th>\n",
       "      <td>2017.000000</td>\n",
       "      <td>12.000000</td>\n",
       "    </tr>\n",
       "    <tr>\n",
       "      <th>50%</th>\n",
       "      <td>2018.000000</td>\n",
       "      <td>19.000000</td>\n",
       "    </tr>\n",
       "    <tr>\n",
       "      <th>75%</th>\n",
       "      <td>2019.000000</td>\n",
       "      <td>29.000000</td>\n",
       "    </tr>\n",
       "    <tr>\n",
       "      <th>max</th>\n",
       "      <td>2019.000000</td>\n",
       "      <td>118.000000</td>\n",
       "    </tr>\n",
       "  </tbody>\n",
       "</table>\n",
       "</div>"
      ],
      "text/plain": [
       "                 ano         idade\n",
       "count  701669.000000  24357.000000\n",
       "mean     2018.102339     21.870222\n",
       "std         0.774154     14.438066\n",
       "min      2017.000000      0.000000\n",
       "25%      2017.000000     12.000000\n",
       "50%      2018.000000     19.000000\n",
       "75%      2019.000000     29.000000\n",
       "max      2019.000000    118.000000"
      ]
     },
     "execution_count": 175,
     "metadata": {},
     "output_type": "execute_result"
    }
   ],
   "source": [
    "parte4 = pd.read_csv(\"raw_data/parte4.csv\", sep=\";\", encoding='iso-8859-1')\n",
    "parte4.describe()"
   ]
  },
  {
   "cell_type": "code",
   "execution_count": 176,
   "id": "af56ecc7",
   "metadata": {
    "scrolled": false
   },
   "outputs": [
    {
     "data": {
      "text/html": [
       "<div>\n",
       "<style scoped>\n",
       "    .dataframe tbody tr th:only-of-type {\n",
       "        vertical-align: middle;\n",
       "    }\n",
       "\n",
       "    .dataframe tbody tr th {\n",
       "        vertical-align: top;\n",
       "    }\n",
       "\n",
       "    .dataframe thead th {\n",
       "        text-align: right;\n",
       "    }\n",
       "</style>\n",
       "<table border=\"1\" class=\"dataframe\">\n",
       "  <thead>\n",
       "    <tr style=\"text-align: right;\">\n",
       "      <th></th>\n",
       "      <th>controle</th>\n",
       "      <th>ano</th>\n",
       "      <th>mes</th>\n",
       "      <th>titulo_do</th>\n",
       "      <th>total_rbft</th>\n",
       "      <th>conteudo</th>\n",
       "      <th>dp</th>\n",
       "      <th>cisp</th>\n",
       "      <th>data_com</th>\n",
       "      <th>data_fato</th>\n",
       "      <th>...</th>\n",
       "      <th>municipio_fato</th>\n",
       "      <th>local</th>\n",
       "      <th>sexo</th>\n",
       "      <th>data_nasc</th>\n",
       "      <th>cor</th>\n",
       "      <th>profissao</th>\n",
       "      <th>relacao</th>\n",
       "      <th>bairro_vit</th>\n",
       "      <th>municipio_vit</th>\n",
       "      <th>idade</th>\n",
       "    </tr>\n",
       "  </thead>\n",
       "  <tbody>\n",
       "    <tr>\n",
       "      <th>0</th>\n",
       "      <td>48706621-2017</td>\n",
       "      <td>2017</td>\n",
       "      <td>Maio</td>\n",
       "      <td>Roubo a transeunte</td>\n",
       "      <td>Roubo</td>\n",
       "      <td>casos</td>\n",
       "      <td>060a. Campos Elíseos</td>\n",
       "      <td>060a. Campos Elíseos</td>\n",
       "      <td>2017-05-18</td>\n",
       "      <td>2017-03-24</td>\n",
       "      <td>...</td>\n",
       "      <td>Duque de Caxias</td>\n",
       "      <td>Via pública</td>\n",
       "      <td>não se aplica</td>\n",
       "      <td>NaN</td>\n",
       "      <td>não se aplica</td>\n",
       "      <td>não se aplica</td>\n",
       "      <td>Não se aplica</td>\n",
       "      <td>não se aplica</td>\n",
       "      <td>não se aplica</td>\n",
       "      <td>NaN</td>\n",
       "    </tr>\n",
       "    <tr>\n",
       "      <th>1</th>\n",
       "      <td>48710291-2017</td>\n",
       "      <td>2017</td>\n",
       "      <td>Maio</td>\n",
       "      <td>Furto a transeunte</td>\n",
       "      <td>Furto</td>\n",
       "      <td>casos</td>\n",
       "      <td>010a. Botafogo</td>\n",
       "      <td>005a. Mem de Sá</td>\n",
       "      <td>2017-05-18</td>\n",
       "      <td>2017-05-17</td>\n",
       "      <td>...</td>\n",
       "      <td>Rio de Janeiro (Capital)</td>\n",
       "      <td>Via pública</td>\n",
       "      <td>não se aplica</td>\n",
       "      <td>NaN</td>\n",
       "      <td>não se aplica</td>\n",
       "      <td>não se aplica</td>\n",
       "      <td>Não se aplica</td>\n",
       "      <td>não se aplica</td>\n",
       "      <td>não se aplica</td>\n",
       "      <td>NaN</td>\n",
       "    </tr>\n",
       "    <tr>\n",
       "      <th>2</th>\n",
       "      <td>48713271-2017</td>\n",
       "      <td>2017</td>\n",
       "      <td>Maio</td>\n",
       "      <td>Furto a transeunte</td>\n",
       "      <td>Furto</td>\n",
       "      <td>casos</td>\n",
       "      <td>065a. Magé</td>\n",
       "      <td>065a. Magé</td>\n",
       "      <td>2017-05-18</td>\n",
       "      <td>2017-05-16</td>\n",
       "      <td>...</td>\n",
       "      <td>Magé</td>\n",
       "      <td>Estabelecimento comercial</td>\n",
       "      <td>não se aplica</td>\n",
       "      <td>NaN</td>\n",
       "      <td>não se aplica</td>\n",
       "      <td>não se aplica</td>\n",
       "      <td>Não se aplica</td>\n",
       "      <td>não se aplica</td>\n",
       "      <td>não se aplica</td>\n",
       "      <td>NaN</td>\n",
       "    </tr>\n",
       "    <tr>\n",
       "      <th>3</th>\n",
       "      <td>48901422-2017</td>\n",
       "      <td>2017</td>\n",
       "      <td>Maio</td>\n",
       "      <td>Roubo de aparelho celular</td>\n",
       "      <td>Roubo</td>\n",
       "      <td>casos</td>\n",
       "      <td>029a. Madureira</td>\n",
       "      <td>029a. Madureira</td>\n",
       "      <td>2017-05-18</td>\n",
       "      <td>2017-05-13</td>\n",
       "      <td>...</td>\n",
       "      <td>Rio de Janeiro (Capital)</td>\n",
       "      <td>Via pública</td>\n",
       "      <td>não se aplica</td>\n",
       "      <td>NaN</td>\n",
       "      <td>não se aplica</td>\n",
       "      <td>não se aplica</td>\n",
       "      <td>Não se aplica</td>\n",
       "      <td>não se aplica</td>\n",
       "      <td>não se aplica</td>\n",
       "      <td>NaN</td>\n",
       "    </tr>\n",
       "    <tr>\n",
       "      <th>4</th>\n",
       "      <td>48923711-2017</td>\n",
       "      <td>2017</td>\n",
       "      <td>Maio</td>\n",
       "      <td>Furto de telefone celular</td>\n",
       "      <td>Furto</td>\n",
       "      <td>casos</td>\n",
       "      <td>109a. Sapucaia</td>\n",
       "      <td>109a. Sapucaia</td>\n",
       "      <td>2017-05-18</td>\n",
       "      <td>2017-05-17</td>\n",
       "      <td>...</td>\n",
       "      <td>Sapucaia</td>\n",
       "      <td>Residência</td>\n",
       "      <td>não se aplica</td>\n",
       "      <td>NaN</td>\n",
       "      <td>não se aplica</td>\n",
       "      <td>não se aplica</td>\n",
       "      <td>Não se aplica</td>\n",
       "      <td>não se aplica</td>\n",
       "      <td>não se aplica</td>\n",
       "      <td>NaN</td>\n",
       "    </tr>\n",
       "  </tbody>\n",
       "</table>\n",
       "<p>5 rows × 23 columns</p>\n",
       "</div>"
      ],
      "text/plain": [
       "        controle   ano   mes                  titulo_do total_rbft conteudo  \\\n",
       "0  48706621-2017  2017  Maio         Roubo a transeunte      Roubo    casos   \n",
       "1  48710291-2017  2017  Maio         Furto a transeunte      Furto    casos   \n",
       "2  48713271-2017  2017  Maio         Furto a transeunte      Furto    casos   \n",
       "3  48901422-2017  2017  Maio  Roubo de aparelho celular      Roubo    casos   \n",
       "4  48923711-2017  2017  Maio  Furto de telefone celular      Furto    casos   \n",
       "\n",
       "                     dp                  cisp    data_com   data_fato  ...  \\\n",
       "0  060a. Campos Elíseos  060a. Campos Elíseos  2017-05-18  2017-03-24  ...   \n",
       "1        010a. Botafogo       005a. Mem de Sá  2017-05-18  2017-05-17  ...   \n",
       "2            065a. Magé            065a. Magé  2017-05-18  2017-05-16  ...   \n",
       "3       029a. Madureira       029a. Madureira  2017-05-18  2017-05-13  ...   \n",
       "4        109a. Sapucaia        109a. Sapucaia  2017-05-18  2017-05-17  ...   \n",
       "\n",
       "             municipio_fato                      local           sexo  \\\n",
       "0           Duque de Caxias                Via pública  não se aplica   \n",
       "1  Rio de Janeiro (Capital)                Via pública  não se aplica   \n",
       "2                      Magé  Estabelecimento comercial  não se aplica   \n",
       "3  Rio de Janeiro (Capital)                Via pública  não se aplica   \n",
       "4                  Sapucaia                 Residência  não se aplica   \n",
       "\n",
       "  data_nasc            cor      profissao        relacao     bairro_vit  \\\n",
       "0       NaN  não se aplica  não se aplica  Não se aplica  não se aplica   \n",
       "1       NaN  não se aplica  não se aplica  Não se aplica  não se aplica   \n",
       "2       NaN  não se aplica  não se aplica  Não se aplica  não se aplica   \n",
       "3       NaN  não se aplica  não se aplica  Não se aplica  não se aplica   \n",
       "4       NaN  não se aplica  não se aplica  Não se aplica  não se aplica   \n",
       "\n",
       "   municipio_vit idade  \n",
       "0  não se aplica   NaN  \n",
       "1  não se aplica   NaN  \n",
       "2  não se aplica   NaN  \n",
       "3  não se aplica   NaN  \n",
       "4  não se aplica   NaN  \n",
       "\n",
       "[5 rows x 23 columns]"
      ]
     },
     "execution_count": 176,
     "metadata": {},
     "output_type": "execute_result"
    }
   ],
   "source": [
    "parte4.head()"
   ]
  },
  {
   "cell_type": "code",
   "execution_count": 177,
   "id": "7b455ee9",
   "metadata": {
    "scrolled": true
   },
   "outputs": [
    {
     "data": {
      "text/plain": [
       "Index(['controle', 'ano', 'mes', 'titulo_do', 'total_rbft', 'conteudo', 'dp',\n",
       "       'cisp', 'data_com', 'data_fato', 'hora_com', 'hora_fato', 'bairro_fato',\n",
       "       'municipio_fato', 'local', 'sexo', 'data_nasc', 'cor', 'profissao',\n",
       "       'relacao', 'bairro_vit', 'municipio_vit', 'idade'],\n",
       "      dtype='object')"
      ]
     },
     "execution_count": 177,
     "metadata": {},
     "output_type": "execute_result"
    }
   ],
   "source": [
    "parte4.columns"
   ]
  },
  {
   "cell_type": "code",
   "execution_count": 178,
   "id": "b366ba7c",
   "metadata": {},
   "outputs": [
    {
     "data": {
      "text/plain": [
       "(701669, 23)"
      ]
     },
     "execution_count": 178,
     "metadata": {},
     "output_type": "execute_result"
    }
   ],
   "source": [
    "parte4.shape"
   ]
  },
  {
   "cell_type": "code",
   "execution_count": 179,
   "id": "9d53b927",
   "metadata": {},
   "outputs": [],
   "source": [
    "parte4_2019 = parte4[parte4[\"ano\"] >=2019]"
   ]
  },
  {
   "cell_type": "code",
   "execution_count": 180,
   "id": "a8b63c78",
   "metadata": {},
   "outputs": [
    {
     "data": {
      "text/plain": [
       "(249838, 23)"
      ]
     },
     "execution_count": 180,
     "metadata": {},
     "output_type": "execute_result"
    }
   ],
   "source": [
    "parte4_2019.shape"
   ]
  },
  {
   "cell_type": "code",
   "execution_count": 181,
   "id": "f84387f6",
   "metadata": {},
   "outputs": [
    {
     "data": {
      "text/plain": [
       "(array([27504., 28847., 28309., 25683., 24321., 24466., 23295., 23272.,\n",
       "        21889., 22252.]),\n",
       " array([  0. ,  36.4,  72.8, 109.2, 145.6, 182. , 218.4, 254.8, 291.2,\n",
       "        327.6, 364. ]),\n",
       " <BarContainer object of 10 artists>)"
      ]
     },
     "execution_count": 181,
     "metadata": {},
     "output_type": "execute_result"
    },
    {
     "data": {
      "image/png": "[encoded data removed]",
      "text/plain": [
       "<Figure size 1440x432 with 1 Axes>"
      ]
     },
     "metadata": {},
     "output_type": "display_data"
    }
   ],
   "source": [
    "plt.figure(figsize=(20, 6))\n",
    "plt.hist(parte4_2019.data_com)"
   ]
  },
  {
   "cell_type": "code",
   "execution_count": 186,
   "id": "64e04546",
   "metadata": {
    "scrolled": true
   },
   "outputs": [
    {
     "data": {
      "text/plain": [
       "451831    2019-01-01\n",
       "451832    2019-01-01\n",
       "451833    2019-01-01\n",
       "451834    2019-01-01\n",
       "451835    2019-01-01\n",
       "             ...    \n",
       "701664    2019-12-31\n",
       "701665    2019-12-31\n",
       "701666    2019-12-31\n",
       "701667    2019-12-31\n",
       "701668    2019-12-31\n",
       "Name: data_com, Length: 249838, dtype: object"
      ]
     },
     "execution_count": 186,
     "metadata": {},
     "output_type": "execute_result"
    }
   ],
   "source": [
    "parte4_2019.data_com"
   ]
  },
  {
   "cell_type": "code",
   "execution_count": 187,
   "id": "88fc06c9",
   "metadata": {},
   "outputs": [
    {
     "data": {
      "text/plain": [
       "Rio de Janeiro (Capital)     369943\n",
       "São Gonçalo                   59236\n",
       "Duque de Caxias               51506\n",
       "Nova Iguaçu                   37485\n",
       "Niterói                       25897\n",
       "                              ...  \n",
       "Laje do Muriaé                   32\n",
       "Comendador Levy Gasparian        28\n",
       "Rio das Flores                   22\n",
       "São José de Ubá                  18\n",
       "Macuco                           17\n",
       "Name: municipio_fato, Length: 92, dtype: int64"
      ]
     },
     "execution_count": 187,
     "metadata": {},
     "output_type": "execute_result"
    }
   ],
   "source": [
    "parte4[\"municipio_fato\"].value_counts()"
   ]
  },
  {
   "cell_type": "code",
   "execution_count": 188,
   "id": "72198e18",
   "metadata": {},
   "outputs": [],
   "source": [
    "parte4_Rio = parte4[parte4[\"municipio_fato\"] ==\"Rio de Janeiro (Capital)\"]"
   ]
  },
  {
   "cell_type": "code",
   "execution_count": 189,
   "id": "f58b81ba",
   "metadata": {},
   "outputs": [
    {
     "data": {
      "text/html": [
       "<div>\n",
       "<style scoped>\n",
       "    .dataframe tbody tr th:only-of-type {\n",
       "        vertical-align: middle;\n",
       "    }\n",
       "\n",
       "    .dataframe tbody tr th {\n",
       "        vertical-align: top;\n",
       "    }\n",
       "\n",
       "    .dataframe thead th {\n",
       "        text-align: right;\n",
       "    }\n",
       "</style>\n",
       "<table border=\"1\" class=\"dataframe\">\n",
       "  <thead>\n",
       "    <tr style=\"text-align: right;\">\n",
       "      <th></th>\n",
       "      <th>controle</th>\n",
       "      <th>ano</th>\n",
       "      <th>mes</th>\n",
       "      <th>titulo_do</th>\n",
       "      <th>total_rbft</th>\n",
       "      <th>conteudo</th>\n",
       "      <th>dp</th>\n",
       "      <th>cisp</th>\n",
       "      <th>data_com</th>\n",
       "      <th>data_fato</th>\n",
       "      <th>...</th>\n",
       "      <th>municipio_fato</th>\n",
       "      <th>local</th>\n",
       "      <th>sexo</th>\n",
       "      <th>data_nasc</th>\n",
       "      <th>cor</th>\n",
       "      <th>profissao</th>\n",
       "      <th>relacao</th>\n",
       "      <th>bairro_vit</th>\n",
       "      <th>municipio_vit</th>\n",
       "      <th>idade</th>\n",
       "    </tr>\n",
       "  </thead>\n",
       "  <tbody>\n",
       "    <tr>\n",
       "      <th>1</th>\n",
       "      <td>48710291-2017</td>\n",
       "      <td>2017</td>\n",
       "      <td>Maio</td>\n",
       "      <td>Furto a transeunte</td>\n",
       "      <td>Furto</td>\n",
       "      <td>casos</td>\n",
       "      <td>010a. Botafogo</td>\n",
       "      <td>005a. Mem de Sá</td>\n",
       "      <td>2017-05-18</td>\n",
       "      <td>2017-05-17</td>\n",
       "      <td>...</td>\n",
       "      <td>Rio de Janeiro (Capital)</td>\n",
       "      <td>Via pública</td>\n",
       "      <td>não se aplica</td>\n",
       "      <td>NaN</td>\n",
       "      <td>não se aplica</td>\n",
       "      <td>não se aplica</td>\n",
       "      <td>Não se aplica</td>\n",
       "      <td>não se aplica</td>\n",
       "      <td>não se aplica</td>\n",
       "      <td>NaN</td>\n",
       "    </tr>\n",
       "    <tr>\n",
       "      <th>3</th>\n",
       "      <td>48901422-2017</td>\n",
       "      <td>2017</td>\n",
       "      <td>Maio</td>\n",
       "      <td>Roubo de aparelho celular</td>\n",
       "      <td>Roubo</td>\n",
       "      <td>casos</td>\n",
       "      <td>029a. Madureira</td>\n",
       "      <td>029a. Madureira</td>\n",
       "      <td>2017-05-18</td>\n",
       "      <td>2017-05-13</td>\n",
       "      <td>...</td>\n",
       "      <td>Rio de Janeiro (Capital)</td>\n",
       "      <td>Via pública</td>\n",
       "      <td>não se aplica</td>\n",
       "      <td>NaN</td>\n",
       "      <td>não se aplica</td>\n",
       "      <td>não se aplica</td>\n",
       "      <td>Não se aplica</td>\n",
       "      <td>não se aplica</td>\n",
       "      <td>não se aplica</td>\n",
       "      <td>NaN</td>\n",
       "    </tr>\n",
       "    <tr>\n",
       "      <th>8</th>\n",
       "      <td>49350071-2017</td>\n",
       "      <td>2017</td>\n",
       "      <td>Maio</td>\n",
       "      <td>Roubo de carga</td>\n",
       "      <td>Roubo</td>\n",
       "      <td>casos</td>\n",
       "      <td>044a. Inhaúma</td>\n",
       "      <td>027a. Vicente de Carvalho</td>\n",
       "      <td>2017-05-18</td>\n",
       "      <td>2017-05-18</td>\n",
       "      <td>...</td>\n",
       "      <td>Rio de Janeiro (Capital)</td>\n",
       "      <td>Via pública</td>\n",
       "      <td>não se aplica</td>\n",
       "      <td>NaN</td>\n",
       "      <td>não se aplica</td>\n",
       "      <td>não se aplica</td>\n",
       "      <td>Não se aplica</td>\n",
       "      <td>não se aplica</td>\n",
       "      <td>não se aplica</td>\n",
       "      <td>NaN</td>\n",
       "    </tr>\n",
       "    <tr>\n",
       "      <th>9</th>\n",
       "      <td>49358071-2017</td>\n",
       "      <td>2017</td>\n",
       "      <td>Maio</td>\n",
       "      <td>Roubo a transeunte</td>\n",
       "      <td>Roubo</td>\n",
       "      <td>casos</td>\n",
       "      <td>042a. Recreio</td>\n",
       "      <td>042a. Recreio</td>\n",
       "      <td>2017-05-18</td>\n",
       "      <td>2017-05-17</td>\n",
       "      <td>...</td>\n",
       "      <td>Rio de Janeiro (Capital)</td>\n",
       "      <td>Via pública</td>\n",
       "      <td>não se aplica</td>\n",
       "      <td>NaN</td>\n",
       "      <td>não se aplica</td>\n",
       "      <td>não se aplica</td>\n",
       "      <td>Não se aplica</td>\n",
       "      <td>não se aplica</td>\n",
       "      <td>não se aplica</td>\n",
       "      <td>NaN</td>\n",
       "    </tr>\n",
       "    <tr>\n",
       "      <th>10</th>\n",
       "      <td>49473391-2017</td>\n",
       "      <td>2017</td>\n",
       "      <td>Maio</td>\n",
       "      <td>Roubo a transeunte</td>\n",
       "      <td>Roubo</td>\n",
       "      <td>casos</td>\n",
       "      <td>040a. Honório Gurgel</td>\n",
       "      <td>040a. Honório Gurgel</td>\n",
       "      <td>2017-05-18</td>\n",
       "      <td>2017-04-23</td>\n",
       "      <td>...</td>\n",
       "      <td>Rio de Janeiro (Capital)</td>\n",
       "      <td>Favela</td>\n",
       "      <td>não se aplica</td>\n",
       "      <td>NaN</td>\n",
       "      <td>não se aplica</td>\n",
       "      <td>não se aplica</td>\n",
       "      <td>Não se aplica</td>\n",
       "      <td>não se aplica</td>\n",
       "      <td>não se aplica</td>\n",
       "      <td>NaN</td>\n",
       "    </tr>\n",
       "  </tbody>\n",
       "</table>\n",
       "<p>5 rows × 23 columns</p>\n",
       "</div>"
      ],
      "text/plain": [
       "         controle   ano   mes                  titulo_do total_rbft conteudo  \\\n",
       "1   48710291-2017  2017  Maio         Furto a transeunte      Furto    casos   \n",
       "3   48901422-2017  2017  Maio  Roubo de aparelho celular      Roubo    casos   \n",
       "8   49350071-2017  2017  Maio             Roubo de carga      Roubo    casos   \n",
       "9   49358071-2017  2017  Maio         Roubo a transeunte      Roubo    casos   \n",
       "10  49473391-2017  2017  Maio         Roubo a transeunte      Roubo    casos   \n",
       "\n",
       "                      dp                       cisp    data_com   data_fato  \\\n",
       "1         010a. Botafogo            005a. Mem de Sá  2017-05-18  2017-05-17   \n",
       "3        029a. Madureira            029a. Madureira  2017-05-18  2017-05-13   \n",
       "8          044a. Inhaúma  027a. Vicente de Carvalho  2017-05-18  2017-05-18   \n",
       "9          042a. Recreio              042a. Recreio  2017-05-18  2017-05-17   \n",
       "10  040a. Honório Gurgel       040a. Honório Gurgel  2017-05-18  2017-04-23   \n",
       "\n",
       "    ...            municipio_fato        local           sexo data_nasc  \\\n",
       "1   ...  Rio de Janeiro (Capital)  Via pública  não se aplica       NaN   \n",
       "3   ...  Rio de Janeiro (Capital)  Via pública  não se aplica       NaN   \n",
       "8   ...  Rio de Janeiro (Capital)  Via pública  não se aplica       NaN   \n",
       "9   ...  Rio de Janeiro (Capital)  Via pública  não se aplica       NaN   \n",
       "10  ...  Rio de Janeiro (Capital)       Favela  não se aplica       NaN   \n",
       "\n",
       "              cor      profissao        relacao     bairro_vit  municipio_vit  \\\n",
       "1   não se aplica  não se aplica  Não se aplica  não se aplica  não se aplica   \n",
       "3   não se aplica  não se aplica  Não se aplica  não se aplica  não se aplica   \n",
       "8   não se aplica  não se aplica  Não se aplica  não se aplica  não se aplica   \n",
       "9   não se aplica  não se aplica  Não se aplica  não se aplica  não se aplica   \n",
       "10  não se aplica  não se aplica  Não se aplica  não se aplica  não se aplica   \n",
       "\n",
       "   idade  \n",
       "1    NaN  \n",
       "3    NaN  \n",
       "8    NaN  \n",
       "9    NaN  \n",
       "10   NaN  \n",
       "\n",
       "[5 rows x 23 columns]"
      ]
     },
     "execution_count": 189,
     "metadata": {},
     "output_type": "execute_result"
    }
   ],
   "source": [
    "parte4_Rio.head()"
   ]
  },
  {
   "cell_type": "markdown",
   "id": "4bd41f03",
   "metadata": {},
   "source": []
  },
  {
   "cell_type": "code",
   "execution_count": 190,
   "id": "cdb58700",
   "metadata": {},
   "outputs": [
    {
     "name": "stderr",
     "output_type": "stream",
     "text": [
      "/Users/desireepetrilli/.pyenv/versions/3.8.12/envs/lewagon/lib/python3.8/site-packages/pandas/core/frame.py:4906: SettingWithCopyWarning: \n",
      "A value is trying to be set on a copy of a slice from a DataFrame\n",
      "\n",
      "See the caveats in the documentation: https://pandas.pydata.org/pandas-docs/stable/user_guide/indexing.html#returning-a-view-versus-a-copy\n",
      "  return super().drop(\n"
     ]
    }
   ],
   "source": [
    "parte4_Rio.drop(columns=[\"profissao\",\"relacao\",\"idade\", \"data_com\", \"sexo\", \"titulo_do\",\"cisp\", \"hora_com\", \"dp\", \"data_nasc\",\"cor\",\"controle\",\"bairro_vit\",\"municipio_vit\"],inplace=True)"
   ]
  },
  {
   "cell_type": "code",
   "execution_count": 191,
   "id": "8b7fdfad",
   "metadata": {},
   "outputs": [
    {
     "data": {
      "text/html": [
       "<div>\n",
       "<style scoped>\n",
       "    .dataframe tbody tr th:only-of-type {\n",
       "        vertical-align: middle;\n",
       "    }\n",
       "\n",
       "    .dataframe tbody tr th {\n",
       "        vertical-align: top;\n",
       "    }\n",
       "\n",
       "    .dataframe thead th {\n",
       "        text-align: right;\n",
       "    }\n",
       "</style>\n",
       "<table border=\"1\" class=\"dataframe\">\n",
       "  <thead>\n",
       "    <tr style=\"text-align: right;\">\n",
       "      <th></th>\n",
       "      <th>ano</th>\n",
       "      <th>mes</th>\n",
       "      <th>total_rbft</th>\n",
       "      <th>data_fato</th>\n",
       "      <th>hora_fato</th>\n",
       "      <th>bairro_fato</th>\n",
       "      <th>local</th>\n",
       "    </tr>\n",
       "  </thead>\n",
       "  <tbody>\n",
       "    <tr>\n",
       "      <th>1</th>\n",
       "      <td>2017</td>\n",
       "      <td>Maio</td>\n",
       "      <td>Furto</td>\n",
       "      <td>2017-05-17</td>\n",
       "      <td>12:05</td>\n",
       "      <td>Centro</td>\n",
       "      <td>Via pública</td>\n",
       "    </tr>\n",
       "    <tr>\n",
       "      <th>3</th>\n",
       "      <td>2017</td>\n",
       "      <td>Maio</td>\n",
       "      <td>Roubo</td>\n",
       "      <td>2017-05-13</td>\n",
       "      <td>00:16</td>\n",
       "      <td>Madureira</td>\n",
       "      <td>Via pública</td>\n",
       "    </tr>\n",
       "    <tr>\n",
       "      <th>8</th>\n",
       "      <td>2017</td>\n",
       "      <td>Maio</td>\n",
       "      <td>Roubo</td>\n",
       "      <td>2017-05-18</td>\n",
       "      <td>14:20</td>\n",
       "      <td>Vicente de carvalho</td>\n",
       "      <td>Via pública</td>\n",
       "    </tr>\n",
       "    <tr>\n",
       "      <th>9</th>\n",
       "      <td>2017</td>\n",
       "      <td>Maio</td>\n",
       "      <td>Roubo</td>\n",
       "      <td>2017-05-17</td>\n",
       "      <td>20:30</td>\n",
       "      <td>Recreio dos bandeirantes</td>\n",
       "      <td>Via pública</td>\n",
       "    </tr>\n",
       "    <tr>\n",
       "      <th>10</th>\n",
       "      <td>2017</td>\n",
       "      <td>Maio</td>\n",
       "      <td>Roubo</td>\n",
       "      <td>2017-04-23</td>\n",
       "      <td>18:30</td>\n",
       "      <td>Turiacu</td>\n",
       "      <td>Favela</td>\n",
       "    </tr>\n",
       "    <tr>\n",
       "      <th>...</th>\n",
       "      <td>...</td>\n",
       "      <td>...</td>\n",
       "      <td>...</td>\n",
       "      <td>...</td>\n",
       "      <td>...</td>\n",
       "      <td>...</td>\n",
       "      <td>...</td>\n",
       "    </tr>\n",
       "    <tr>\n",
       "      <th>701661</th>\n",
       "      <td>2019</td>\n",
       "      <td>Dezembro</td>\n",
       "      <td>Furto</td>\n",
       "      <td>2019-12-29</td>\n",
       "      <td>19:00</td>\n",
       "      <td>Copacabana</td>\n",
       "      <td>Via pública</td>\n",
       "    </tr>\n",
       "    <tr>\n",
       "      <th>701662</th>\n",
       "      <td>2019</td>\n",
       "      <td>Dezembro</td>\n",
       "      <td>Furto</td>\n",
       "      <td>2019-12-30</td>\n",
       "      <td>11:45</td>\n",
       "      <td>Centro</td>\n",
       "      <td>Interior de coletivo</td>\n",
       "    </tr>\n",
       "    <tr>\n",
       "      <th>701663</th>\n",
       "      <td>2019</td>\n",
       "      <td>Dezembro</td>\n",
       "      <td>Furto</td>\n",
       "      <td>2019-12-31</td>\n",
       "      <td>19:00</td>\n",
       "      <td>Centro</td>\n",
       "      <td>Estação metroviária</td>\n",
       "    </tr>\n",
       "    <tr>\n",
       "      <th>701667</th>\n",
       "      <td>2019</td>\n",
       "      <td>Dezembro</td>\n",
       "      <td>Roubo</td>\n",
       "      <td>2019-12-30</td>\n",
       "      <td>17:35</td>\n",
       "      <td>sem informação</td>\n",
       "      <td>Via pública</td>\n",
       "    </tr>\n",
       "    <tr>\n",
       "      <th>701668</th>\n",
       "      <td>2019</td>\n",
       "      <td>Dezembro</td>\n",
       "      <td>Furto</td>\n",
       "      <td>2019-12-31</td>\n",
       "      <td>13:00</td>\n",
       "      <td>sem informação</td>\n",
       "      <td>Via pública</td>\n",
       "    </tr>\n",
       "  </tbody>\n",
       "</table>\n",
       "<p>369943 rows × 7 columns</p>\n",
       "</div>"
      ],
      "text/plain": [
       "         ano       mes total_rbft   data_fato hora_fato  \\\n",
       "1       2017      Maio      Furto  2017-05-17     12:05   \n",
       "3       2017      Maio      Roubo  2017-05-13     00:16   \n",
       "8       2017      Maio      Roubo  2017-05-18     14:20   \n",
       "9       2017      Maio      Roubo  2017-05-17     20:30   \n",
       "10      2017      Maio      Roubo  2017-04-23     18:30   \n",
       "...      ...       ...        ...         ...       ...   \n",
       "701661  2019  Dezembro      Furto  2019-12-29     19:00   \n",
       "701662  2019  Dezembro      Furto  2019-12-30     11:45   \n",
       "701663  2019  Dezembro      Furto  2019-12-31     19:00   \n",
       "701667  2019  Dezembro      Roubo  2019-12-30     17:35   \n",
       "701668  2019  Dezembro      Furto  2019-12-31     13:00   \n",
       "\n",
       "                     bairro_fato                 local  \n",
       "1                         Centro           Via pública  \n",
       "3                      Madureira           Via pública  \n",
       "8            Vicente de carvalho           Via pública  \n",
       "9       Recreio dos bandeirantes           Via pública  \n",
       "10                       Turiacu                Favela  \n",
       "...                          ...                   ...  \n",
       "701661                Copacabana           Via pública  \n",
       "701662                    Centro  Interior de coletivo  \n",
       "701663                    Centro   Estação metroviária  \n",
       "701667            sem informação           Via pública  \n",
       "701668            sem informação           Via pública  \n",
       "\n",
       "[369943 rows x 7 columns]"
      ]
     },
     "execution_count": 191,
     "metadata": {},
     "output_type": "execute_result"
    }
   ],
   "source": [
    "parte4_Rio[[\"ano\",\"mes\",\"total_rbft\",\"data_fato\", \"hora_fato\", \"bairro_fato\", \"local\"]]"
   ]
  },
  {
   "cell_type": "code",
   "execution_count": 192,
   "id": "1b2dda84",
   "metadata": {},
   "outputs": [
    {
     "data": {
      "text/plain": [
       "(369943, 9)"
      ]
     },
     "execution_count": 192,
     "metadata": {},
     "output_type": "execute_result"
    }
   ],
   "source": [
    "parte4_Rio.shape"
   ]
  },
  {
   "cell_type": "code",
   "execution_count": 193,
   "id": "7f0dd901",
   "metadata": {},
   "outputs": [
    {
     "data": {
      "text/plain": [
       "Centro                24214\n",
       "sem informação        17683\n",
       "Bangu                 16408\n",
       "Campo grande          12091\n",
       "Barra da tijuca       11260\n",
       "                      ...  \n",
       "Anchieta / ricardo        1\n",
       ".barros filho             1\n",
       "Del cstilho               1\n",
       "Alfa barra                1\n",
       "Praia do saco             1\n",
       "Name: bairro_fato, Length: 1665, dtype: int64"
      ]
     },
     "execution_count": 193,
     "metadata": {},
     "output_type": "execute_result"
    }
   ],
   "source": [
    "parte4_Rio.bairro_fato.value_counts()"
   ]
  },
  {
   "cell_type": "code",
   "execution_count": 194,
   "id": "3b3ed027",
   "metadata": {
    "scrolled": false
   },
   "outputs": [
    {
     "data": {
      "text/html": [
       "<div>\n",
       "<style scoped>\n",
       "    .dataframe tbody tr th:only-of-type {\n",
       "        vertical-align: middle;\n",
       "    }\n",
       "\n",
       "    .dataframe tbody tr th {\n",
       "        vertical-align: top;\n",
       "    }\n",
       "\n",
       "    .dataframe thead th {\n",
       "        text-align: right;\n",
       "    }\n",
       "</style>\n",
       "<table border=\"1\" class=\"dataframe\">\n",
       "  <thead>\n",
       "    <tr style=\"text-align: right;\">\n",
       "      <th></th>\n",
       "      <th>ano</th>\n",
       "      <th>mes</th>\n",
       "      <th>total_rbft</th>\n",
       "      <th>conteudo</th>\n",
       "      <th>data_fato</th>\n",
       "      <th>hora_fato</th>\n",
       "      <th>bairro_fato</th>\n",
       "      <th>municipio_fato</th>\n",
       "      <th>local</th>\n",
       "    </tr>\n",
       "  </thead>\n",
       "  <tbody>\n",
       "    <tr>\n",
       "      <th>1</th>\n",
       "      <td>2017</td>\n",
       "      <td>Maio</td>\n",
       "      <td>Furto</td>\n",
       "      <td>casos</td>\n",
       "      <td>2017-05-17</td>\n",
       "      <td>12:05</td>\n",
       "      <td>Centro</td>\n",
       "      <td>Rio de Janeiro (Capital)</td>\n",
       "      <td>Via pública</td>\n",
       "    </tr>\n",
       "    <tr>\n",
       "      <th>12</th>\n",
       "      <td>2017</td>\n",
       "      <td>Maio</td>\n",
       "      <td>Roubo</td>\n",
       "      <td>casos</td>\n",
       "      <td>2017-05-09</td>\n",
       "      <td>20:00</td>\n",
       "      <td>Centro</td>\n",
       "      <td>Rio de Janeiro (Capital)</td>\n",
       "      <td>Via pública</td>\n",
       "    </tr>\n",
       "    <tr>\n",
       "      <th>18</th>\n",
       "      <td>2017</td>\n",
       "      <td>Maio</td>\n",
       "      <td>Furto</td>\n",
       "      <td>casos</td>\n",
       "      <td>2017-05-15</td>\n",
       "      <td>12:00</td>\n",
       "      <td>Centro</td>\n",
       "      <td>Rio de Janeiro (Capital)</td>\n",
       "      <td>Via pública</td>\n",
       "    </tr>\n",
       "    <tr>\n",
       "      <th>20</th>\n",
       "      <td>2017</td>\n",
       "      <td>Maio</td>\n",
       "      <td>Roubo</td>\n",
       "      <td>casos</td>\n",
       "      <td>2017-05-18</td>\n",
       "      <td>23:00</td>\n",
       "      <td>Centro</td>\n",
       "      <td>Rio de Janeiro (Capital)</td>\n",
       "      <td>Via pública</td>\n",
       "    </tr>\n",
       "    <tr>\n",
       "      <th>33</th>\n",
       "      <td>2017</td>\n",
       "      <td>Maio</td>\n",
       "      <td>Furto</td>\n",
       "      <td>casos</td>\n",
       "      <td>2017-04-26</td>\n",
       "      <td>12:50</td>\n",
       "      <td>Centro</td>\n",
       "      <td>Rio de Janeiro (Capital)</td>\n",
       "      <td>Estação metroviária</td>\n",
       "    </tr>\n",
       "    <tr>\n",
       "      <th>...</th>\n",
       "      <td>...</td>\n",
       "      <td>...</td>\n",
       "      <td>...</td>\n",
       "      <td>...</td>\n",
       "      <td>...</td>\n",
       "      <td>...</td>\n",
       "      <td>...</td>\n",
       "      <td>...</td>\n",
       "      <td>...</td>\n",
       "    </tr>\n",
       "    <tr>\n",
       "      <th>701532</th>\n",
       "      <td>2019</td>\n",
       "      <td>Dezembro</td>\n",
       "      <td>Furto</td>\n",
       "      <td>casos</td>\n",
       "      <td>2019-12-30</td>\n",
       "      <td>21:00</td>\n",
       "      <td>Centro</td>\n",
       "      <td>Rio de Janeiro (Capital)</td>\n",
       "      <td>Via pública</td>\n",
       "    </tr>\n",
       "    <tr>\n",
       "      <th>701572</th>\n",
       "      <td>2019</td>\n",
       "      <td>Dezembro</td>\n",
       "      <td>Furto</td>\n",
       "      <td>casos</td>\n",
       "      <td>2019-12-29</td>\n",
       "      <td>03:30</td>\n",
       "      <td>Centro</td>\n",
       "      <td>Rio de Janeiro (Capital)</td>\n",
       "      <td>Via pública</td>\n",
       "    </tr>\n",
       "    <tr>\n",
       "      <th>701597</th>\n",
       "      <td>2019</td>\n",
       "      <td>Dezembro</td>\n",
       "      <td>Furto</td>\n",
       "      <td>casos</td>\n",
       "      <td>2019-12-31</td>\n",
       "      <td>09:00</td>\n",
       "      <td>Centro</td>\n",
       "      <td>Rio de Janeiro (Capital)</td>\n",
       "      <td>Via pública</td>\n",
       "    </tr>\n",
       "    <tr>\n",
       "      <th>701662</th>\n",
       "      <td>2019</td>\n",
       "      <td>Dezembro</td>\n",
       "      <td>Furto</td>\n",
       "      <td>casos</td>\n",
       "      <td>2019-12-30</td>\n",
       "      <td>11:45</td>\n",
       "      <td>Centro</td>\n",
       "      <td>Rio de Janeiro (Capital)</td>\n",
       "      <td>Interior de coletivo</td>\n",
       "    </tr>\n",
       "    <tr>\n",
       "      <th>701663</th>\n",
       "      <td>2019</td>\n",
       "      <td>Dezembro</td>\n",
       "      <td>Furto</td>\n",
       "      <td>casos</td>\n",
       "      <td>2019-12-31</td>\n",
       "      <td>19:00</td>\n",
       "      <td>Centro</td>\n",
       "      <td>Rio de Janeiro (Capital)</td>\n",
       "      <td>Estação metroviária</td>\n",
       "    </tr>\n",
       "  </tbody>\n",
       "</table>\n",
       "<p>24214 rows × 9 columns</p>\n",
       "</div>"
      ],
      "text/plain": [
       "         ano       mes total_rbft conteudo   data_fato hora_fato bairro_fato  \\\n",
       "1       2017      Maio      Furto    casos  2017-05-17     12:05      Centro   \n",
       "12      2017      Maio      Roubo    casos  2017-05-09     20:00      Centro   \n",
       "18      2017      Maio      Furto    casos  2017-05-15     12:00      Centro   \n",
       "20      2017      Maio      Roubo    casos  2017-05-18     23:00      Centro   \n",
       "33      2017      Maio      Furto    casos  2017-04-26     12:50      Centro   \n",
       "...      ...       ...        ...      ...         ...       ...         ...   \n",
       "701532  2019  Dezembro      Furto    casos  2019-12-30     21:00      Centro   \n",
       "701572  2019  Dezembro      Furto    casos  2019-12-29     03:30      Centro   \n",
       "701597  2019  Dezembro      Furto    casos  2019-12-31     09:00      Centro   \n",
       "701662  2019  Dezembro      Furto    casos  2019-12-30     11:45      Centro   \n",
       "701663  2019  Dezembro      Furto    casos  2019-12-31     19:00      Centro   \n",
       "\n",
       "                  municipio_fato                 local  \n",
       "1       Rio de Janeiro (Capital)           Via pública  \n",
       "12      Rio de Janeiro (Capital)           Via pública  \n",
       "18      Rio de Janeiro (Capital)           Via pública  \n",
       "20      Rio de Janeiro (Capital)           Via pública  \n",
       "33      Rio de Janeiro (Capital)   Estação metroviária  \n",
       "...                          ...                   ...  \n",
       "701532  Rio de Janeiro (Capital)           Via pública  \n",
       "701572  Rio de Janeiro (Capital)           Via pública  \n",
       "701597  Rio de Janeiro (Capital)           Via pública  \n",
       "701662  Rio de Janeiro (Capital)  Interior de coletivo  \n",
       "701663  Rio de Janeiro (Capital)   Estação metroviária  \n",
       "\n",
       "[24214 rows x 9 columns]"
      ]
     },
     "execution_count": 194,
     "metadata": {},
     "output_type": "execute_result"
    }
   ],
   "source": [
    "parte4_Rio_centro = parte4_Rio[parte4_Rio['bairro_fato']=='Centro']\n",
    "parte4_Rio_centro"
   ]
  },
  {
   "cell_type": "code",
   "execution_count": 195,
   "id": "6208db06",
   "metadata": {},
   "outputs": [
    {
     "data": {
      "text/plain": [
       "ano                int64\n",
       "mes               object\n",
       "total_rbft        object\n",
       "conteudo          object\n",
       "data_fato         object\n",
       "hora_fato         object\n",
       "bairro_fato       object\n",
       "municipio_fato    object\n",
       "local             object\n",
       "dtype: object"
      ]
     },
     "execution_count": 195,
     "metadata": {},
     "output_type": "execute_result"
    }
   ],
   "source": [
    "parte4_Rio_centro.dtypes"
   ]
  },
  {
   "cell_type": "code",
   "execution_count": 196,
   "id": "d9d08062",
   "metadata": {},
   "outputs": [
    {
     "name": "stderr",
     "output_type": "stream",
     "text": [
      "/Users/desireepetrilli/.pyenv/versions/3.8.12/envs/lewagon/lib/python3.8/site-packages/pandas/core/generic.py:5516: SettingWithCopyWarning: \n",
      "A value is trying to be set on a copy of a slice from a DataFrame.\n",
      "Try using .loc[row_indexer,col_indexer] = value instead\n",
      "\n",
      "See the caveats in the documentation: https://pandas.pydata.org/pandas-docs/stable/user_guide/indexing.html#returning-a-view-versus-a-copy\n",
      "  self[name] = value\n"
     ]
    }
   ],
   "source": [
    "parte4_Rio_centro.data_fato = pd.to_datetime(parte4_Rio_centro.data_fato)#['Mycol'] =  pd.to_datetime(raw_data['Mycol'])\n"
   ]
  },
  {
   "cell_type": "code",
   "execution_count": 197,
   "id": "858a024e",
   "metadata": {},
   "outputs": [
    {
     "data": {
      "text/plain": [
       "Int64Index([32286], dtype='int64')"
      ]
     },
     "execution_count": 197,
     "metadata": {},
     "output_type": "execute_result"
    }
   ],
   "source": [
    "#parte4_Rio_centro[parte4_Rio_centro['data_fato']>=2019]\n",
    "parte4_Rio_centro[parte4_Rio_centro.data_fato == parte4_Rio_centro.data_fato.min()].index"
   ]
  },
  {
   "cell_type": "code",
   "execution_count": 198,
   "id": "5f839196",
   "metadata": {},
   "outputs": [
    {
     "data": {
      "text/plain": [
       "(24214, 9)"
      ]
     },
     "execution_count": 198,
     "metadata": {},
     "output_type": "execute_result"
    }
   ],
   "source": [
    "parte4_Rio_centro.shape"
   ]
  },
  {
   "cell_type": "code",
   "execution_count": 199,
   "id": "c3c1d3ac",
   "metadata": {},
   "outputs": [
    {
     "data": {
      "text/plain": [
       "32286   1917-06-23\n",
       "Name: data_fato, dtype: datetime64[ns]"
      ]
     },
     "execution_count": 199,
     "metadata": {},
     "output_type": "execute_result"
    }
   ],
   "source": [
    "parte4_Rio_centro[parte4_Rio_centro.index==32286].data_fato"
   ]
  },
  {
   "cell_type": "code",
   "execution_count": 200,
   "id": "41374c63",
   "metadata": {},
   "outputs": [],
   "source": [
    "parte4_Rio_centro = parte4_Rio_centro[parte4_Rio_centro.data_fato>='2019-01-01']"
   ]
  },
  {
   "cell_type": "code",
   "execution_count": 201,
   "id": "ffaaabf1",
   "metadata": {},
   "outputs": [],
   "source": [
    "parte4_Rio_centro_via= parte4_Rio_centro[parte4_Rio_centro.local=='Via pública']\n",
    "parte4_Rio_centro_interior = parte4_Rio_centro[parte4_Rio_centro.local=='Interior de coletivo']"
   ]
  },
  {
   "cell_type": "code",
   "execution_count": 202,
   "id": "bb5608bb",
   "metadata": {},
   "outputs": [
    {
     "data": {
      "text/plain": [
       "Via pública                           6288\n",
       "Interior de coletivo                   947\n",
       "Outros                                 570\n",
       "Estabelecimento comercial              179\n",
       "Bar/restaurante                        129\n",
       "Ignorado                               127\n",
       "Estação ferroviária                    123\n",
       "Estação metroviária                     84\n",
       "Casa de show                            66\n",
       "Boate                                   48\n",
       "Interior de composição férrea           39\n",
       "Interior de composição metroviária      36\n",
       "Sem informação                          35\n",
       "Aeroporto                               35\n",
       "Estação rodoviária                      33\n",
       "Semáforo                                27\n",
       "Residência                              22\n",
       "Estab. público estadual                 20\n",
       "Parque                                  20\n",
       "Hospital, clínica e similares           16\n",
       "Interior de transporte alternativo      13\n",
       "Estação de barcas                       12\n",
       "Estacionamento                          12\n",
       "Vila                                    12\n",
       "Estab. público municipal                11\n",
       "Teatro                                  10\n",
       "Estabelecimento hoteleiro               10\n",
       "Estabelecimento financeiro               9\n",
       "Posto de gasolina                        8\n",
       "Interior de taxi                         6\n",
       "Escritório                               6\n",
       "Centro de convenções                     5\n",
       "Estabelecimento de ensino                5\n",
       "Condomínio                               5\n",
       "Linha férrea                             5\n",
       "Campo                                    4\n",
       "Supermercado                             4\n",
       "Rio                                      4\n",
       "Ambiente virtual                         4\n",
       "Motel                                    4\n",
       "Caixa Eletrônico                         3\n",
       "Instituição religiosa                    3\n",
       "Interior de embarcação                   3\n",
       "Estabelecimento militar                  2\n",
       "Estab. público federal                   2\n",
       "Clube/instituição desportiva             2\n",
       "Cinema                                   1\n",
       "Sítio                                    1\n",
       "Casa de massagem                         1\n",
       "Delegacia policial                       1\n",
       "Morro                                    1\n",
       "Conjunto habitacional                    1\n",
       "Praia                                    1\n",
       "Shopping center                          1\n",
       "Name: local, dtype: int64"
      ]
     },
     "execution_count": 202,
     "metadata": {},
     "output_type": "execute_result"
    }
   ],
   "source": [
    "parte4_Rio_centro.local.value_counts()"
   ]
  },
  {
   "cell_type": "code",
   "execution_count": 203,
   "id": "bc0cde8b",
   "metadata": {},
   "outputs": [],
   "source": [
    "parte4_Rio_centro_via_count= parte4_Rio_centro_via.groupby('data_fato').count()[['ano']]\n",
    "parte4_Rio_centro_interior_count = parte4_Rio_centro_interior.groupby('data_fato').count()[['ano']]"
   ]
  },
  {
   "cell_type": "code",
   "execution_count": 204,
   "id": "456b530b",
   "metadata": {},
   "outputs": [
    {
     "data": {
      "image/png": "[encoded data removed]",
      "text/plain": [
       "<Figure size 1152x432 with 1 Axes>"
      ]
     },
     "metadata": {},
     "output_type": "display_data"
    }
   ],
   "source": [
    "plt.figure(figsize=(16,6))\n",
    "plt.plot(parte4_Rio_centro_via_count.index, parte4_Rio_centro_via_count.ano)\n",
    "\n",
    "plt.xlabel(\"Date\")\n",
    "plt.ylabel(\"Number of crimes\")\n",
    "plt.title(\"Number of crimes per day in 2019, in Centro district, in the street\")\n",
    "plt.show()"
   ]
  },
  {
   "cell_type": "code",
   "execution_count": 60,
   "id": "c59024c8",
   "metadata": {},
   "outputs": [
    {
     "data": {
      "text/plain": [
       "Text(0.5, 1.0, 'Inside public transport')"
      ]
     },
     "execution_count": 60,
     "metadata": {},
     "output_type": "execute_result"
    },
    {
     "data": {
      "image/png": "[encoded data removed]",
      "text/plain": [
       "<Figure size 1440x720 with 2 Axes>"
      ]
     },
     "metadata": {},
     "output_type": "display_data"
    }
   ],
   "source": [
    "fig, axs = plt.subplots(2,1,figsize=(20,10))\n",
    "#for i in range(8):\n",
    "#    feature_map = activations[i][0,:,:,15]\n",
    "#    #feature_map = activations[i][0,0]\n",
    "#    axs[i].imshow(feature_map, cmap=‘gray’)\n",
    "axs[0].plot(parte4_Rio_centro_via_count.index, parte4_Rio_centro_via_count.ano)\n",
    "axs[1].plot(parte4_Rio_centro_interior_count.index, parte4_Rio_centro_interior_count.ano,color=\"blue\")\n",
    "axs[0].get_shared_y_axes().join(axs[0], axs[1])\n",
    "axs[0].set_title(\"Street Crime\")\n",
    "axs[1].set_title(\"Inside public transport\")\n"
   ]
  },
  {
   "cell_type": "code",
   "execution_count": 61,
   "id": "192c5069",
   "metadata": {},
   "outputs": [
    {
     "data": {
      "image/png": "[encoded data removed]",
      "text/plain": [
       "<Figure size 1440x720 with 2 Axes>"
      ]
     },
     "metadata": {},
     "output_type": "display_data"
    }
   ],
   "source": [
    "fig, axs = plt.subplots(1,2,figsize=(20,10))\n",
    "#for i in range(8):\n",
    "#    feature_map = activations[i][0,:,:,15]\n",
    "#    #feature_map = activations[i][0,0]\n",
    "#    axs[i].imshow(feature_map, cmap=‘gray’)\n",
    "axs[0].boxplot(x = parte4_Rio_centro_via_count.ano)\n",
    "axs[0].set_title(\"Street Crime\")\n",
    "\n",
    "axs[1].boxplot(x = parte4_Rio_centro_interior_count.ano)\n",
    "axs[1].set_title(\"Inside public transport\")\n",
    "\n",
    "axs[0].get_shared_y_axes().join(axs[0], axs[1])\n",
    "plt.show()"
   ]
  },
  {
   "cell_type": "code",
   "execution_count": 62,
   "id": "4a298c90",
   "metadata": {},
   "outputs": [
    {
     "data": {
      "text/plain": [
       "2522067"
      ]
     },
     "execution_count": 62,
     "metadata": {},
     "output_type": "execute_result"
    }
   ],
   "source": [
    "parte1.shape[0]+parte2.shape[0]+parte3.shape[0]+parte4.shape[0]"
   ]
  },
  {
   "cell_type": "code",
   "execution_count": 63,
   "id": "5ec090a6",
   "metadata": {},
   "outputs": [],
   "source": [
    "parte4_Rio_group = parte4_Rio.groupby('bairro_fato').count()"
   ]
  },
  {
   "cell_type": "code",
   "execution_count": 64,
   "id": "4c30b726",
   "metadata": {
    "scrolled": true
   },
   "outputs": [
    {
     "data": {
      "text/plain": [
       "Index(['Centro', 'sem informação', 'Bangu', 'Campo grande', 'Barra da tijuca',\n",
       "       'Copacabana', 'Madureira', 'Tijuca', 'Pavuna', 'Realengo',\n",
       "       'Bonsucesso'],\n",
       "      dtype='object', name='bairro_fato')"
      ]
     },
     "execution_count": 64,
     "metadata": {},
     "output_type": "execute_result"
    }
   ],
   "source": [
    "parte4_Rio_group[parte4_Rio_group.ano>1000].sort_values('ano',ascending=False)[0:11].index"
   ]
  },
  {
   "cell_type": "code",
   "execution_count": 65,
   "id": "58ac4a97",
   "metadata": {},
   "outputs": [],
   "source": [
    "list_10_bairros = list(parte4_Rio_group[parte4_Rio_group.ano>1000].sort_values('ano',ascending=False)[0:11].index)"
   ]
  },
  {
   "cell_type": "code",
   "execution_count": 66,
   "id": "03f34a69",
   "metadata": {},
   "outputs": [],
   "source": [
    "list_10_bairros.remove('sem informação')"
   ]
  },
  {
   "cell_type": "code",
   "execution_count": 67,
   "id": "335e9c5a",
   "metadata": {},
   "outputs": [
    {
     "data": {
      "text/plain": [
       "['Centro',\n",
       " 'Bangu',\n",
       " 'Campo grande',\n",
       " 'Barra da tijuca',\n",
       " 'Copacabana',\n",
       " 'Madureira',\n",
       " 'Tijuca',\n",
       " 'Pavuna',\n",
       " 'Realengo',\n",
       " 'Bonsucesso']"
      ]
     },
     "execution_count": 67,
     "metadata": {},
     "output_type": "execute_result"
    }
   ],
   "source": [
    "list_10_bairros"
   ]
  },
  {
   "cell_type": "code",
   "execution_count": 68,
   "id": "af693beb",
   "metadata": {},
   "outputs": [],
   "source": [
    "parte4_Rio_10bairros = parte4_Rio[parte4_Rio['bairro_fato'].isin(list_10_bairros)]"
   ]
  },
  {
   "cell_type": "code",
   "execution_count": 69,
   "id": "463930f1",
   "metadata": {},
   "outputs": [
    {
     "data": {
      "text/html": [
       "<div>\n",
       "<style scoped>\n",
       "    .dataframe tbody tr th:only-of-type {\n",
       "        vertical-align: middle;\n",
       "    }\n",
       "\n",
       "    .dataframe tbody tr th {\n",
       "        vertical-align: top;\n",
       "    }\n",
       "\n",
       "    .dataframe thead th {\n",
       "        text-align: right;\n",
       "    }\n",
       "</style>\n",
       "<table border=\"1\" class=\"dataframe\">\n",
       "  <thead>\n",
       "    <tr style=\"text-align: right;\">\n",
       "      <th></th>\n",
       "      <th>ano</th>\n",
       "      <th>mes</th>\n",
       "      <th>total_rbft</th>\n",
       "      <th>conteudo</th>\n",
       "      <th>data_fato</th>\n",
       "      <th>hora_fato</th>\n",
       "      <th>bairro_fato</th>\n",
       "      <th>municipio_fato</th>\n",
       "      <th>local</th>\n",
       "    </tr>\n",
       "  </thead>\n",
       "  <tbody>\n",
       "    <tr>\n",
       "      <th>1</th>\n",
       "      <td>2017</td>\n",
       "      <td>Maio</td>\n",
       "      <td>Furto</td>\n",
       "      <td>casos</td>\n",
       "      <td>2017-05-17</td>\n",
       "      <td>12:05</td>\n",
       "      <td>Centro</td>\n",
       "      <td>Rio de Janeiro (Capital)</td>\n",
       "      <td>Via pública</td>\n",
       "    </tr>\n",
       "    <tr>\n",
       "      <th>3</th>\n",
       "      <td>2017</td>\n",
       "      <td>Maio</td>\n",
       "      <td>Roubo</td>\n",
       "      <td>casos</td>\n",
       "      <td>2017-05-13</td>\n",
       "      <td>00:16</td>\n",
       "      <td>Madureira</td>\n",
       "      <td>Rio de Janeiro (Capital)</td>\n",
       "      <td>Via pública</td>\n",
       "    </tr>\n",
       "    <tr>\n",
       "      <th>12</th>\n",
       "      <td>2017</td>\n",
       "      <td>Maio</td>\n",
       "      <td>Roubo</td>\n",
       "      <td>casos</td>\n",
       "      <td>2017-05-09</td>\n",
       "      <td>20:00</td>\n",
       "      <td>Centro</td>\n",
       "      <td>Rio de Janeiro (Capital)</td>\n",
       "      <td>Via pública</td>\n",
       "    </tr>\n",
       "    <tr>\n",
       "      <th>18</th>\n",
       "      <td>2017</td>\n",
       "      <td>Maio</td>\n",
       "      <td>Furto</td>\n",
       "      <td>casos</td>\n",
       "      <td>2017-05-15</td>\n",
       "      <td>12:00</td>\n",
       "      <td>Centro</td>\n",
       "      <td>Rio de Janeiro (Capital)</td>\n",
       "      <td>Via pública</td>\n",
       "    </tr>\n",
       "    <tr>\n",
       "      <th>20</th>\n",
       "      <td>2017</td>\n",
       "      <td>Maio</td>\n",
       "      <td>Roubo</td>\n",
       "      <td>casos</td>\n",
       "      <td>2017-05-18</td>\n",
       "      <td>23:00</td>\n",
       "      <td>Centro</td>\n",
       "      <td>Rio de Janeiro (Capital)</td>\n",
       "      <td>Via pública</td>\n",
       "    </tr>\n",
       "    <tr>\n",
       "      <th>...</th>\n",
       "      <td>...</td>\n",
       "      <td>...</td>\n",
       "      <td>...</td>\n",
       "      <td>...</td>\n",
       "      <td>...</td>\n",
       "      <td>...</td>\n",
       "      <td>...</td>\n",
       "      <td>...</td>\n",
       "      <td>...</td>\n",
       "    </tr>\n",
       "    <tr>\n",
       "      <th>701651</th>\n",
       "      <td>2019</td>\n",
       "      <td>Dezembro</td>\n",
       "      <td>Não se aplica</td>\n",
       "      <td>vítimas</td>\n",
       "      <td>2019-12-31</td>\n",
       "      <td>18:40</td>\n",
       "      <td>Campo grande</td>\n",
       "      <td>Rio de Janeiro (Capital)</td>\n",
       "      <td>Ignorado</td>\n",
       "    </tr>\n",
       "    <tr>\n",
       "      <th>701658</th>\n",
       "      <td>2019</td>\n",
       "      <td>Dezembro</td>\n",
       "      <td>Furto</td>\n",
       "      <td>casos</td>\n",
       "      <td>2019-12-31</td>\n",
       "      <td>17:00</td>\n",
       "      <td>Copacabana</td>\n",
       "      <td>Rio de Janeiro (Capital)</td>\n",
       "      <td>Praia</td>\n",
       "    </tr>\n",
       "    <tr>\n",
       "      <th>701661</th>\n",
       "      <td>2019</td>\n",
       "      <td>Dezembro</td>\n",
       "      <td>Furto</td>\n",
       "      <td>casos</td>\n",
       "      <td>2019-12-29</td>\n",
       "      <td>19:00</td>\n",
       "      <td>Copacabana</td>\n",
       "      <td>Rio de Janeiro (Capital)</td>\n",
       "      <td>Via pública</td>\n",
       "    </tr>\n",
       "    <tr>\n",
       "      <th>701662</th>\n",
       "      <td>2019</td>\n",
       "      <td>Dezembro</td>\n",
       "      <td>Furto</td>\n",
       "      <td>casos</td>\n",
       "      <td>2019-12-30</td>\n",
       "      <td>11:45</td>\n",
       "      <td>Centro</td>\n",
       "      <td>Rio de Janeiro (Capital)</td>\n",
       "      <td>Interior de coletivo</td>\n",
       "    </tr>\n",
       "    <tr>\n",
       "      <th>701663</th>\n",
       "      <td>2019</td>\n",
       "      <td>Dezembro</td>\n",
       "      <td>Furto</td>\n",
       "      <td>casos</td>\n",
       "      <td>2019-12-31</td>\n",
       "      <td>19:00</td>\n",
       "      <td>Centro</td>\n",
       "      <td>Rio de Janeiro (Capital)</td>\n",
       "      <td>Estação metroviária</td>\n",
       "    </tr>\n",
       "  </tbody>\n",
       "</table>\n",
       "<p>117421 rows × 9 columns</p>\n",
       "</div>"
      ],
      "text/plain": [
       "         ano       mes     total_rbft conteudo   data_fato hora_fato  \\\n",
       "1       2017      Maio          Furto    casos  2017-05-17     12:05   \n",
       "3       2017      Maio          Roubo    casos  2017-05-13     00:16   \n",
       "12      2017      Maio          Roubo    casos  2017-05-09     20:00   \n",
       "18      2017      Maio          Furto    casos  2017-05-15     12:00   \n",
       "20      2017      Maio          Roubo    casos  2017-05-18     23:00   \n",
       "...      ...       ...            ...      ...         ...       ...   \n",
       "701651  2019  Dezembro  Não se aplica  vítimas  2019-12-31     18:40   \n",
       "701658  2019  Dezembro          Furto    casos  2019-12-31     17:00   \n",
       "701661  2019  Dezembro          Furto    casos  2019-12-29     19:00   \n",
       "701662  2019  Dezembro          Furto    casos  2019-12-30     11:45   \n",
       "701663  2019  Dezembro          Furto    casos  2019-12-31     19:00   \n",
       "\n",
       "         bairro_fato            municipio_fato                 local  \n",
       "1             Centro  Rio de Janeiro (Capital)           Via pública  \n",
       "3          Madureira  Rio de Janeiro (Capital)           Via pública  \n",
       "12            Centro  Rio de Janeiro (Capital)           Via pública  \n",
       "18            Centro  Rio de Janeiro (Capital)           Via pública  \n",
       "20            Centro  Rio de Janeiro (Capital)           Via pública  \n",
       "...              ...                       ...                   ...  \n",
       "701651  Campo grande  Rio de Janeiro (Capital)              Ignorado  \n",
       "701658    Copacabana  Rio de Janeiro (Capital)                 Praia  \n",
       "701661    Copacabana  Rio de Janeiro (Capital)           Via pública  \n",
       "701662        Centro  Rio de Janeiro (Capital)  Interior de coletivo  \n",
       "701663        Centro  Rio de Janeiro (Capital)   Estação metroviária  \n",
       "\n",
       "[117421 rows x 9 columns]"
      ]
     },
     "execution_count": 69,
     "metadata": {},
     "output_type": "execute_result"
    }
   ],
   "source": [
    "parte4_Rio_10bairros"
   ]
  },
  {
   "cell_type": "code",
   "execution_count": 70,
   "id": "b8f4d279",
   "metadata": {},
   "outputs": [],
   "source": [
    "parte4_Rio_10bairros_gr = parte4_Rio_10bairros.groupby(['data_fato','bairro_fato']).count()\n",
    "parte4_Rio_10bairros_gr.reset_index(inplace=True)"
   ]
  },
  {
   "cell_type": "code",
   "execution_count": 71,
   "id": "9ab39166",
   "metadata": {},
   "outputs": [
    {
     "data": {
      "text/html": [
       "<div>\n",
       "<style scoped>\n",
       "    .dataframe tbody tr th:only-of-type {\n",
       "        vertical-align: middle;\n",
       "    }\n",
       "\n",
       "    .dataframe tbody tr th {\n",
       "        vertical-align: top;\n",
       "    }\n",
       "\n",
       "    .dataframe thead th {\n",
       "        text-align: right;\n",
       "    }\n",
       "</style>\n",
       "<table border=\"1\" class=\"dataframe\">\n",
       "  <thead>\n",
       "    <tr style=\"text-align: right;\">\n",
       "      <th></th>\n",
       "      <th>data_fato</th>\n",
       "      <th>bairro_fato</th>\n",
       "      <th>ano</th>\n",
       "      <th>mes</th>\n",
       "      <th>total_rbft</th>\n",
       "      <th>conteudo</th>\n",
       "      <th>hora_fato</th>\n",
       "      <th>municipio_fato</th>\n",
       "      <th>local</th>\n",
       "    </tr>\n",
       "  </thead>\n",
       "  <tbody>\n",
       "    <tr>\n",
       "      <th>0</th>\n",
       "      <td>1710-10-24</td>\n",
       "      <td>Tijuca</td>\n",
       "      <td>1</td>\n",
       "      <td>1</td>\n",
       "      <td>1</td>\n",
       "      <td>1</td>\n",
       "      <td>1</td>\n",
       "      <td>1</td>\n",
       "      <td>1</td>\n",
       "    </tr>\n",
       "    <tr>\n",
       "      <th>1</th>\n",
       "      <td>1900-01-01</td>\n",
       "      <td>Madureira</td>\n",
       "      <td>1</td>\n",
       "      <td>1</td>\n",
       "      <td>1</td>\n",
       "      <td>1</td>\n",
       "      <td>1</td>\n",
       "      <td>1</td>\n",
       "      <td>1</td>\n",
       "    </tr>\n",
       "    <tr>\n",
       "      <th>2</th>\n",
       "      <td>1900-01-17</td>\n",
       "      <td>Bonsucesso</td>\n",
       "      <td>1</td>\n",
       "      <td>1</td>\n",
       "      <td>1</td>\n",
       "      <td>1</td>\n",
       "      <td>1</td>\n",
       "      <td>1</td>\n",
       "      <td>1</td>\n",
       "    </tr>\n",
       "    <tr>\n",
       "      <th>3</th>\n",
       "      <td>1917-06-23</td>\n",
       "      <td>Centro</td>\n",
       "      <td>1</td>\n",
       "      <td>1</td>\n",
       "      <td>1</td>\n",
       "      <td>1</td>\n",
       "      <td>1</td>\n",
       "      <td>1</td>\n",
       "      <td>1</td>\n",
       "    </tr>\n",
       "    <tr>\n",
       "      <th>4</th>\n",
       "      <td>1960-08-05</td>\n",
       "      <td>Tijuca</td>\n",
       "      <td>1</td>\n",
       "      <td>1</td>\n",
       "      <td>1</td>\n",
       "      <td>1</td>\n",
       "      <td>1</td>\n",
       "      <td>1</td>\n",
       "      <td>1</td>\n",
       "    </tr>\n",
       "    <tr>\n",
       "      <th>...</th>\n",
       "      <td>...</td>\n",
       "      <td>...</td>\n",
       "      <td>...</td>\n",
       "      <td>...</td>\n",
       "      <td>...</td>\n",
       "      <td>...</td>\n",
       "      <td>...</td>\n",
       "      <td>...</td>\n",
       "      <td>...</td>\n",
       "    </tr>\n",
       "    <tr>\n",
       "      <th>10521</th>\n",
       "      <td>2019-12-31</td>\n",
       "      <td>Copacabana</td>\n",
       "      <td>23</td>\n",
       "      <td>23</td>\n",
       "      <td>23</td>\n",
       "      <td>23</td>\n",
       "      <td>23</td>\n",
       "      <td>23</td>\n",
       "      <td>23</td>\n",
       "    </tr>\n",
       "    <tr>\n",
       "      <th>10522</th>\n",
       "      <td>2019-12-31</td>\n",
       "      <td>Madureira</td>\n",
       "      <td>4</td>\n",
       "      <td>4</td>\n",
       "      <td>4</td>\n",
       "      <td>4</td>\n",
       "      <td>4</td>\n",
       "      <td>4</td>\n",
       "      <td>4</td>\n",
       "    </tr>\n",
       "    <tr>\n",
       "      <th>10523</th>\n",
       "      <td>2019-12-31</td>\n",
       "      <td>Pavuna</td>\n",
       "      <td>2</td>\n",
       "      <td>2</td>\n",
       "      <td>2</td>\n",
       "      <td>2</td>\n",
       "      <td>2</td>\n",
       "      <td>2</td>\n",
       "      <td>2</td>\n",
       "    </tr>\n",
       "    <tr>\n",
       "      <th>10524</th>\n",
       "      <td>2019-12-31</td>\n",
       "      <td>Realengo</td>\n",
       "      <td>2</td>\n",
       "      <td>2</td>\n",
       "      <td>2</td>\n",
       "      <td>2</td>\n",
       "      <td>2</td>\n",
       "      <td>2</td>\n",
       "      <td>2</td>\n",
       "    </tr>\n",
       "    <tr>\n",
       "      <th>10525</th>\n",
       "      <td>2019-12-31</td>\n",
       "      <td>Tijuca</td>\n",
       "      <td>3</td>\n",
       "      <td>3</td>\n",
       "      <td>3</td>\n",
       "      <td>3</td>\n",
       "      <td>3</td>\n",
       "      <td>3</td>\n",
       "      <td>3</td>\n",
       "    </tr>\n",
       "  </tbody>\n",
       "</table>\n",
       "<p>10526 rows × 9 columns</p>\n",
       "</div>"
      ],
      "text/plain": [
       "        data_fato bairro_fato  ano  mes  total_rbft  conteudo  hora_fato  \\\n",
       "0      1710-10-24      Tijuca    1    1           1         1          1   \n",
       "1      1900-01-01   Madureira    1    1           1         1          1   \n",
       "2      1900-01-17  Bonsucesso    1    1           1         1          1   \n",
       "3      1917-06-23      Centro    1    1           1         1          1   \n",
       "4      1960-08-05      Tijuca    1    1           1         1          1   \n",
       "...           ...         ...  ...  ...         ...       ...        ...   \n",
       "10521  2019-12-31  Copacabana   23   23          23        23         23   \n",
       "10522  2019-12-31   Madureira    4    4           4         4          4   \n",
       "10523  2019-12-31      Pavuna    2    2           2         2          2   \n",
       "10524  2019-12-31    Realengo    2    2           2         2          2   \n",
       "10525  2019-12-31      Tijuca    3    3           3         3          3   \n",
       "\n",
       "       municipio_fato  local  \n",
       "0                   1      1  \n",
       "1                   1      1  \n",
       "2                   1      1  \n",
       "3                   1      1  \n",
       "4                   1      1  \n",
       "...               ...    ...  \n",
       "10521              23     23  \n",
       "10522               4      4  \n",
       "10523               2      2  \n",
       "10524               2      2  \n",
       "10525               3      3  \n",
       "\n",
       "[10526 rows x 9 columns]"
      ]
     },
     "execution_count": 71,
     "metadata": {},
     "output_type": "execute_result"
    }
   ],
   "source": [
    "parte4_Rio_10bairros_gr"
   ]
  },
  {
   "cell_type": "code",
   "execution_count": 72,
   "id": "6a5ab121",
   "metadata": {},
   "outputs": [],
   "source": [
    "parte4_Rio_10bairros_gr = parte4_Rio_10bairros_gr[parte4_Rio_10bairros_gr.data_fato>='2019-01-01']"
   ]
  },
  {
   "cell_type": "code",
   "execution_count": 73,
   "id": "0d52c80b",
   "metadata": {},
   "outputs": [
    {
     "data": {
      "text/html": [
       "<div>\n",
       "<style scoped>\n",
       "    .dataframe tbody tr th:only-of-type {\n",
       "        vertical-align: middle;\n",
       "    }\n",
       "\n",
       "    .dataframe tbody tr th {\n",
       "        vertical-align: top;\n",
       "    }\n",
       "\n",
       "    .dataframe thead th {\n",
       "        text-align: right;\n",
       "    }\n",
       "</style>\n",
       "<table border=\"1\" class=\"dataframe\">\n",
       "  <thead>\n",
       "    <tr style=\"text-align: right;\">\n",
       "      <th></th>\n",
       "      <th>data_fato</th>\n",
       "      <th>bairro_fato</th>\n",
       "      <th>ano</th>\n",
       "      <th>mes</th>\n",
       "      <th>total_rbft</th>\n",
       "      <th>conteudo</th>\n",
       "      <th>hora_fato</th>\n",
       "      <th>municipio_fato</th>\n",
       "      <th>local</th>\n",
       "    </tr>\n",
       "  </thead>\n",
       "  <tbody>\n",
       "    <tr>\n",
       "      <th>6884</th>\n",
       "      <td>2019-01-01</td>\n",
       "      <td>Bangu</td>\n",
       "      <td>12</td>\n",
       "      <td>12</td>\n",
       "      <td>12</td>\n",
       "      <td>12</td>\n",
       "      <td>12</td>\n",
       "      <td>12</td>\n",
       "      <td>12</td>\n",
       "    </tr>\n",
       "    <tr>\n",
       "      <th>6885</th>\n",
       "      <td>2019-01-01</td>\n",
       "      <td>Barra da tijuca</td>\n",
       "      <td>10</td>\n",
       "      <td>10</td>\n",
       "      <td>10</td>\n",
       "      <td>10</td>\n",
       "      <td>10</td>\n",
       "      <td>10</td>\n",
       "      <td>10</td>\n",
       "    </tr>\n",
       "    <tr>\n",
       "      <th>6886</th>\n",
       "      <td>2019-01-01</td>\n",
       "      <td>Bonsucesso</td>\n",
       "      <td>5</td>\n",
       "      <td>5</td>\n",
       "      <td>5</td>\n",
       "      <td>5</td>\n",
       "      <td>5</td>\n",
       "      <td>5</td>\n",
       "      <td>5</td>\n",
       "    </tr>\n",
       "    <tr>\n",
       "      <th>6887</th>\n",
       "      <td>2019-01-01</td>\n",
       "      <td>Campo grande</td>\n",
       "      <td>4</td>\n",
       "      <td>4</td>\n",
       "      <td>4</td>\n",
       "      <td>4</td>\n",
       "      <td>4</td>\n",
       "      <td>4</td>\n",
       "      <td>4</td>\n",
       "    </tr>\n",
       "    <tr>\n",
       "      <th>6888</th>\n",
       "      <td>2019-01-01</td>\n",
       "      <td>Centro</td>\n",
       "      <td>17</td>\n",
       "      <td>17</td>\n",
       "      <td>17</td>\n",
       "      <td>17</td>\n",
       "      <td>17</td>\n",
       "      <td>17</td>\n",
       "      <td>17</td>\n",
       "    </tr>\n",
       "    <tr>\n",
       "      <th>...</th>\n",
       "      <td>...</td>\n",
       "      <td>...</td>\n",
       "      <td>...</td>\n",
       "      <td>...</td>\n",
       "      <td>...</td>\n",
       "      <td>...</td>\n",
       "      <td>...</td>\n",
       "      <td>...</td>\n",
       "      <td>...</td>\n",
       "    </tr>\n",
       "    <tr>\n",
       "      <th>10521</th>\n",
       "      <td>2019-12-31</td>\n",
       "      <td>Copacabana</td>\n",
       "      <td>23</td>\n",
       "      <td>23</td>\n",
       "      <td>23</td>\n",
       "      <td>23</td>\n",
       "      <td>23</td>\n",
       "      <td>23</td>\n",
       "      <td>23</td>\n",
       "    </tr>\n",
       "    <tr>\n",
       "      <th>10522</th>\n",
       "      <td>2019-12-31</td>\n",
       "      <td>Madureira</td>\n",
       "      <td>4</td>\n",
       "      <td>4</td>\n",
       "      <td>4</td>\n",
       "      <td>4</td>\n",
       "      <td>4</td>\n",
       "      <td>4</td>\n",
       "      <td>4</td>\n",
       "    </tr>\n",
       "    <tr>\n",
       "      <th>10523</th>\n",
       "      <td>2019-12-31</td>\n",
       "      <td>Pavuna</td>\n",
       "      <td>2</td>\n",
       "      <td>2</td>\n",
       "      <td>2</td>\n",
       "      <td>2</td>\n",
       "      <td>2</td>\n",
       "      <td>2</td>\n",
       "      <td>2</td>\n",
       "    </tr>\n",
       "    <tr>\n",
       "      <th>10524</th>\n",
       "      <td>2019-12-31</td>\n",
       "      <td>Realengo</td>\n",
       "      <td>2</td>\n",
       "      <td>2</td>\n",
       "      <td>2</td>\n",
       "      <td>2</td>\n",
       "      <td>2</td>\n",
       "      <td>2</td>\n",
       "      <td>2</td>\n",
       "    </tr>\n",
       "    <tr>\n",
       "      <th>10525</th>\n",
       "      <td>2019-12-31</td>\n",
       "      <td>Tijuca</td>\n",
       "      <td>3</td>\n",
       "      <td>3</td>\n",
       "      <td>3</td>\n",
       "      <td>3</td>\n",
       "      <td>3</td>\n",
       "      <td>3</td>\n",
       "      <td>3</td>\n",
       "    </tr>\n",
       "  </tbody>\n",
       "</table>\n",
       "<p>3642 rows × 9 columns</p>\n",
       "</div>"
      ],
      "text/plain": [
       "        data_fato      bairro_fato  ano  mes  total_rbft  conteudo  hora_fato  \\\n",
       "6884   2019-01-01            Bangu   12   12          12        12         12   \n",
       "6885   2019-01-01  Barra da tijuca   10   10          10        10         10   \n",
       "6886   2019-01-01       Bonsucesso    5    5           5         5          5   \n",
       "6887   2019-01-01     Campo grande    4    4           4         4          4   \n",
       "6888   2019-01-01           Centro   17   17          17        17         17   \n",
       "...           ...              ...  ...  ...         ...       ...        ...   \n",
       "10521  2019-12-31       Copacabana   23   23          23        23         23   \n",
       "10522  2019-12-31        Madureira    4    4           4         4          4   \n",
       "10523  2019-12-31           Pavuna    2    2           2         2          2   \n",
       "10524  2019-12-31         Realengo    2    2           2         2          2   \n",
       "10525  2019-12-31           Tijuca    3    3           3         3          3   \n",
       "\n",
       "       municipio_fato  local  \n",
       "6884               12     12  \n",
       "6885               10     10  \n",
       "6886                5      5  \n",
       "6887                4      4  \n",
       "6888               17     17  \n",
       "...               ...    ...  \n",
       "10521              23     23  \n",
       "10522               4      4  \n",
       "10523               2      2  \n",
       "10524               2      2  \n",
       "10525               3      3  \n",
       "\n",
       "[3642 rows x 9 columns]"
      ]
     },
     "execution_count": 73,
     "metadata": {},
     "output_type": "execute_result"
    }
   ],
   "source": [
    "parte4_Rio_10bairros_gr"
   ]
  },
  {
   "cell_type": "code",
   "execution_count": 74,
   "id": "45e8549c",
   "metadata": {},
   "outputs": [
    {
     "data": {
      "text/plain": [
       "data_fato         2019-12-31\n",
       "bairro_fato           Centro\n",
       "ano                      252\n",
       "mes                      252\n",
       "total_rbft               252\n",
       "conteudo                 252\n",
       "hora_fato                252\n",
       "municipio_fato           252\n",
       "local                    252\n",
       "dtype: object"
      ]
     },
     "execution_count": 74,
     "metadata": {},
     "output_type": "execute_result"
    }
   ],
   "source": [
    "parte4_Rio_10bairros_gr[parte4_Rio_10bairros_gr.bairro_fato == \"Centro\"].max()"
   ]
  },
  {
   "cell_type": "code",
   "execution_count": 75,
   "id": "bff3e6a9",
   "metadata": {},
   "outputs": [
    {
     "data": {
      "image/png": "[encoded data removed]",
      "text/plain": [
       "<Figure size 1152x432 with 1 Axes>"
      ]
     },
     "metadata": {},
     "output_type": "display_data"
    }
   ],
   "source": [
    "plt.figure(figsize=(16,6))\n",
    "sns.boxplot(data=parte4_Rio_10bairros_gr, y = 'ano', x = 'bairro_fato')\n",
    "plt.ylabel(\"Daily cases\")\n",
    "plt.show()"
   ]
  },
  {
   "cell_type": "code",
   "execution_count": 76,
   "id": "f14757df",
   "metadata": {},
   "outputs": [],
   "source": [
    "import seaborn as sns"
   ]
  },
  {
   "cell_type": "code",
   "execution_count": 77,
   "id": "f69b2e83",
   "metadata": {},
   "outputs": [
    {
     "data": {
      "text/html": [
       "<div>\n",
       "<style scoped>\n",
       "    .dataframe tbody tr th:only-of-type {\n",
       "        vertical-align: middle;\n",
       "    }\n",
       "\n",
       "    .dataframe tbody tr th {\n",
       "        vertical-align: top;\n",
       "    }\n",
       "\n",
       "    .dataframe thead th {\n",
       "        text-align: right;\n",
       "    }\n",
       "</style>\n",
       "<table border=\"1\" class=\"dataframe\">\n",
       "  <thead>\n",
       "    <tr style=\"text-align: right;\">\n",
       "      <th></th>\n",
       "      <th>data_fato</th>\n",
       "      <th>bairro_fato</th>\n",
       "      <th>ano</th>\n",
       "      <th>mes</th>\n",
       "      <th>total_rbft</th>\n",
       "      <th>conteudo</th>\n",
       "      <th>hora_fato</th>\n",
       "      <th>municipio_fato</th>\n",
       "      <th>local</th>\n",
       "    </tr>\n",
       "  </thead>\n",
       "  <tbody>\n",
       "    <tr>\n",
       "      <th>6885</th>\n",
       "      <td>2019-01-01</td>\n",
       "      <td>Barra da tijuca</td>\n",
       "      <td>10</td>\n",
       "      <td>10</td>\n",
       "      <td>10</td>\n",
       "      <td>10</td>\n",
       "      <td>10</td>\n",
       "      <td>10</td>\n",
       "      <td>10</td>\n",
       "    </tr>\n",
       "    <tr>\n",
       "      <th>6888</th>\n",
       "      <td>2019-01-01</td>\n",
       "      <td>Centro</td>\n",
       "      <td>17</td>\n",
       "      <td>17</td>\n",
       "      <td>17</td>\n",
       "      <td>17</td>\n",
       "      <td>17</td>\n",
       "      <td>17</td>\n",
       "      <td>17</td>\n",
       "    </tr>\n",
       "    <tr>\n",
       "      <th>6889</th>\n",
       "      <td>2019-01-01</td>\n",
       "      <td>Copacabana</td>\n",
       "      <td>188</td>\n",
       "      <td>188</td>\n",
       "      <td>188</td>\n",
       "      <td>188</td>\n",
       "      <td>188</td>\n",
       "      <td>188</td>\n",
       "      <td>188</td>\n",
       "    </tr>\n",
       "    <tr>\n",
       "      <th>6890</th>\n",
       "      <td>2019-01-01</td>\n",
       "      <td>Madureira</td>\n",
       "      <td>5</td>\n",
       "      <td>5</td>\n",
       "      <td>5</td>\n",
       "      <td>5</td>\n",
       "      <td>5</td>\n",
       "      <td>5</td>\n",
       "      <td>5</td>\n",
       "    </tr>\n",
       "    <tr>\n",
       "      <th>6895</th>\n",
       "      <td>2019-01-02</td>\n",
       "      <td>Barra da tijuca</td>\n",
       "      <td>7</td>\n",
       "      <td>7</td>\n",
       "      <td>7</td>\n",
       "      <td>7</td>\n",
       "      <td>7</td>\n",
       "      <td>7</td>\n",
       "      <td>7</td>\n",
       "    </tr>\n",
       "    <tr>\n",
       "      <th>...</th>\n",
       "      <td>...</td>\n",
       "      <td>...</td>\n",
       "      <td>...</td>\n",
       "      <td>...</td>\n",
       "      <td>...</td>\n",
       "      <td>...</td>\n",
       "      <td>...</td>\n",
       "      <td>...</td>\n",
       "      <td>...</td>\n",
       "    </tr>\n",
       "    <tr>\n",
       "      <th>10512</th>\n",
       "      <td>2019-12-30</td>\n",
       "      <td>Copacabana</td>\n",
       "      <td>10</td>\n",
       "      <td>10</td>\n",
       "      <td>10</td>\n",
       "      <td>10</td>\n",
       "      <td>10</td>\n",
       "      <td>10</td>\n",
       "      <td>10</td>\n",
       "    </tr>\n",
       "    <tr>\n",
       "      <th>10517</th>\n",
       "      <td>2019-12-31</td>\n",
       "      <td>Barra da tijuca</td>\n",
       "      <td>2</td>\n",
       "      <td>2</td>\n",
       "      <td>2</td>\n",
       "      <td>2</td>\n",
       "      <td>2</td>\n",
       "      <td>2</td>\n",
       "      <td>2</td>\n",
       "    </tr>\n",
       "    <tr>\n",
       "      <th>10520</th>\n",
       "      <td>2019-12-31</td>\n",
       "      <td>Centro</td>\n",
       "      <td>5</td>\n",
       "      <td>5</td>\n",
       "      <td>5</td>\n",
       "      <td>5</td>\n",
       "      <td>5</td>\n",
       "      <td>5</td>\n",
       "      <td>5</td>\n",
       "    </tr>\n",
       "    <tr>\n",
       "      <th>10521</th>\n",
       "      <td>2019-12-31</td>\n",
       "      <td>Copacabana</td>\n",
       "      <td>23</td>\n",
       "      <td>23</td>\n",
       "      <td>23</td>\n",
       "      <td>23</td>\n",
       "      <td>23</td>\n",
       "      <td>23</td>\n",
       "      <td>23</td>\n",
       "    </tr>\n",
       "    <tr>\n",
       "      <th>10522</th>\n",
       "      <td>2019-12-31</td>\n",
       "      <td>Madureira</td>\n",
       "      <td>4</td>\n",
       "      <td>4</td>\n",
       "      <td>4</td>\n",
       "      <td>4</td>\n",
       "      <td>4</td>\n",
       "      <td>4</td>\n",
       "      <td>4</td>\n",
       "    </tr>\n",
       "  </tbody>\n",
       "</table>\n",
       "<p>1457 rows × 9 columns</p>\n",
       "</div>"
      ],
      "text/plain": [
       "        data_fato      bairro_fato  ano  mes  total_rbft  conteudo  hora_fato  \\\n",
       "6885   2019-01-01  Barra da tijuca   10   10          10        10         10   \n",
       "6888   2019-01-01           Centro   17   17          17        17         17   \n",
       "6889   2019-01-01       Copacabana  188  188         188       188        188   \n",
       "6890   2019-01-01        Madureira    5    5           5         5          5   \n",
       "6895   2019-01-02  Barra da tijuca    7    7           7         7          7   \n",
       "...           ...              ...  ...  ...         ...       ...        ...   \n",
       "10512  2019-12-30       Copacabana   10   10          10        10         10   \n",
       "10517  2019-12-31  Barra da tijuca    2    2           2         2          2   \n",
       "10520  2019-12-31           Centro    5    5           5         5          5   \n",
       "10521  2019-12-31       Copacabana   23   23          23        23         23   \n",
       "10522  2019-12-31        Madureira    4    4           4         4          4   \n",
       "\n",
       "       municipio_fato  local  \n",
       "6885               10     10  \n",
       "6888               17     17  \n",
       "6889              188    188  \n",
       "6890                5      5  \n",
       "6895                7      7  \n",
       "...               ...    ...  \n",
       "10512              10     10  \n",
       "10517               2      2  \n",
       "10520               5      5  \n",
       "10521              23     23  \n",
       "10522               4      4  \n",
       "\n",
       "[1457 rows x 9 columns]"
      ]
     },
     "execution_count": 77,
     "metadata": {},
     "output_type": "execute_result"
    }
   ],
   "source": [
    "parte4_Rio_10bairros_gr[parte4_Rio_10bairros_gr['bairro_fato'].isin(['Centro','Copacabana','Barra da tijuca','Madureira'])]"
   ]
  },
  {
   "cell_type": "code",
   "execution_count": 78,
   "id": "c31c41f5",
   "metadata": {
    "scrolled": false
   },
   "outputs": [
    {
     "data": {
      "text/plain": [
       "<AxesSubplot:xlabel='data_fato', ylabel='ano'>"
      ]
     },
     "execution_count": 78,
     "metadata": {},
     "output_type": "execute_result"
    },
    {
     "data": {
      "image/png": "[encoded data removed]",
      "text/plain": [
       "<Figure size 1152x432 with 1 Axes>"
      ]
     },
     "metadata": {},
     "output_type": "display_data"
    }
   ],
   "source": [
    "plt.figure(figsize=(16,6))\n",
    "\n",
    "sns.lineplot(data=parte4_Rio_10bairros_gr[parte4_Rio_10bairros_gr['bairro_fato'].isin(['Centro','Copacabana','Barra da tijuca','Madureira'])],\\\n",
    "             x = 'data_fato', y = 'ano', hue= 'bairro_fato')"
   ]
  },
  {
   "cell_type": "code",
   "execution_count": 79,
   "id": "0ef36769",
   "metadata": {},
   "outputs": [],
   "source": [
    "parte4_Rio_4bairros = parte4_Rio_10bairros_gr[parte4_Rio_10bairros_gr['bairro_fato'].isin(['Centro','Copacabana','Barra da tijuca','Madureira'])]"
   ]
  },
  {
   "cell_type": "code",
   "execution_count": 80,
   "id": "06f12d1c",
   "metadata": {},
   "outputs": [
    {
     "data": {
      "text/html": [
       "<div>\n",
       "<style scoped>\n",
       "    .dataframe tbody tr th:only-of-type {\n",
       "        vertical-align: middle;\n",
       "    }\n",
       "\n",
       "    .dataframe tbody tr th {\n",
       "        vertical-align: top;\n",
       "    }\n",
       "\n",
       "    .dataframe thead th {\n",
       "        text-align: right;\n",
       "    }\n",
       "</style>\n",
       "<table border=\"1\" class=\"dataframe\">\n",
       "  <thead>\n",
       "    <tr style=\"text-align: right;\">\n",
       "      <th></th>\n",
       "      <th>data_fato</th>\n",
       "      <th>bairro_fato</th>\n",
       "      <th>ano</th>\n",
       "      <th>mes</th>\n",
       "      <th>total_rbft</th>\n",
       "      <th>conteudo</th>\n",
       "      <th>hora_fato</th>\n",
       "      <th>municipio_fato</th>\n",
       "      <th>local</th>\n",
       "    </tr>\n",
       "  </thead>\n",
       "  <tbody>\n",
       "    <tr>\n",
       "      <th>6888</th>\n",
       "      <td>2019-01-01</td>\n",
       "      <td>Centro</td>\n",
       "      <td>17</td>\n",
       "      <td>17</td>\n",
       "      <td>17</td>\n",
       "      <td>17</td>\n",
       "      <td>17</td>\n",
       "      <td>17</td>\n",
       "      <td>17</td>\n",
       "    </tr>\n",
       "    <tr>\n",
       "      <th>6898</th>\n",
       "      <td>2019-01-02</td>\n",
       "      <td>Centro</td>\n",
       "      <td>23</td>\n",
       "      <td>23</td>\n",
       "      <td>23</td>\n",
       "      <td>23</td>\n",
       "      <td>23</td>\n",
       "      <td>23</td>\n",
       "      <td>23</td>\n",
       "    </tr>\n",
       "    <tr>\n",
       "      <th>6908</th>\n",
       "      <td>2019-01-03</td>\n",
       "      <td>Centro</td>\n",
       "      <td>24</td>\n",
       "      <td>24</td>\n",
       "      <td>24</td>\n",
       "      <td>24</td>\n",
       "      <td>24</td>\n",
       "      <td>24</td>\n",
       "      <td>24</td>\n",
       "    </tr>\n",
       "    <tr>\n",
       "      <th>6918</th>\n",
       "      <td>2019-01-04</td>\n",
       "      <td>Centro</td>\n",
       "      <td>36</td>\n",
       "      <td>36</td>\n",
       "      <td>36</td>\n",
       "      <td>36</td>\n",
       "      <td>36</td>\n",
       "      <td>36</td>\n",
       "      <td>36</td>\n",
       "    </tr>\n",
       "    <tr>\n",
       "      <th>6928</th>\n",
       "      <td>2019-01-05</td>\n",
       "      <td>Centro</td>\n",
       "      <td>31</td>\n",
       "      <td>31</td>\n",
       "      <td>31</td>\n",
       "      <td>31</td>\n",
       "      <td>31</td>\n",
       "      <td>31</td>\n",
       "      <td>31</td>\n",
       "    </tr>\n",
       "    <tr>\n",
       "      <th>...</th>\n",
       "      <td>...</td>\n",
       "      <td>...</td>\n",
       "      <td>...</td>\n",
       "      <td>...</td>\n",
       "      <td>...</td>\n",
       "      <td>...</td>\n",
       "      <td>...</td>\n",
       "      <td>...</td>\n",
       "      <td>...</td>\n",
       "    </tr>\n",
       "    <tr>\n",
       "      <th>10481</th>\n",
       "      <td>2019-12-27</td>\n",
       "      <td>Centro</td>\n",
       "      <td>23</td>\n",
       "      <td>23</td>\n",
       "      <td>23</td>\n",
       "      <td>23</td>\n",
       "      <td>23</td>\n",
       "      <td>23</td>\n",
       "      <td>23</td>\n",
       "    </tr>\n",
       "    <tr>\n",
       "      <th>10491</th>\n",
       "      <td>2019-12-28</td>\n",
       "      <td>Centro</td>\n",
       "      <td>16</td>\n",
       "      <td>16</td>\n",
       "      <td>16</td>\n",
       "      <td>16</td>\n",
       "      <td>16</td>\n",
       "      <td>16</td>\n",
       "      <td>16</td>\n",
       "    </tr>\n",
       "    <tr>\n",
       "      <th>10501</th>\n",
       "      <td>2019-12-29</td>\n",
       "      <td>Centro</td>\n",
       "      <td>7</td>\n",
       "      <td>7</td>\n",
       "      <td>7</td>\n",
       "      <td>7</td>\n",
       "      <td>7</td>\n",
       "      <td>7</td>\n",
       "      <td>7</td>\n",
       "    </tr>\n",
       "    <tr>\n",
       "      <th>10511</th>\n",
       "      <td>2019-12-30</td>\n",
       "      <td>Centro</td>\n",
       "      <td>10</td>\n",
       "      <td>10</td>\n",
       "      <td>10</td>\n",
       "      <td>10</td>\n",
       "      <td>10</td>\n",
       "      <td>10</td>\n",
       "      <td>10</td>\n",
       "    </tr>\n",
       "    <tr>\n",
       "      <th>10520</th>\n",
       "      <td>2019-12-31</td>\n",
       "      <td>Centro</td>\n",
       "      <td>5</td>\n",
       "      <td>5</td>\n",
       "      <td>5</td>\n",
       "      <td>5</td>\n",
       "      <td>5</td>\n",
       "      <td>5</td>\n",
       "      <td>5</td>\n",
       "    </tr>\n",
       "  </tbody>\n",
       "</table>\n",
       "<p>365 rows × 9 columns</p>\n",
       "</div>"
      ],
      "text/plain": [
       "        data_fato bairro_fato  ano  mes  total_rbft  conteudo  hora_fato  \\\n",
       "6888   2019-01-01      Centro   17   17          17        17         17   \n",
       "6898   2019-01-02      Centro   23   23          23        23         23   \n",
       "6908   2019-01-03      Centro   24   24          24        24         24   \n",
       "6918   2019-01-04      Centro   36   36          36        36         36   \n",
       "6928   2019-01-05      Centro   31   31          31        31         31   \n",
       "...           ...         ...  ...  ...         ...       ...        ...   \n",
       "10481  2019-12-27      Centro   23   23          23        23         23   \n",
       "10491  2019-12-28      Centro   16   16          16        16         16   \n",
       "10501  2019-12-29      Centro    7    7           7         7          7   \n",
       "10511  2019-12-30      Centro   10   10          10        10         10   \n",
       "10520  2019-12-31      Centro    5    5           5         5          5   \n",
       "\n",
       "       municipio_fato  local  \n",
       "6888               17     17  \n",
       "6898               23     23  \n",
       "6908               24     24  \n",
       "6918               36     36  \n",
       "6928               31     31  \n",
       "...               ...    ...  \n",
       "10481              23     23  \n",
       "10491              16     16  \n",
       "10501               7      7  \n",
       "10511              10     10  \n",
       "10520               5      5  \n",
       "\n",
       "[365 rows x 9 columns]"
      ]
     },
     "execution_count": 80,
     "metadata": {},
     "output_type": "execute_result"
    }
   ],
   "source": [
    "parte4_Rio_4bairros[parte4_Rio_4bairros.bairro_fato == \"Centro\"]"
   ]
  },
  {
   "cell_type": "code",
   "execution_count": 81,
   "id": "aad273b8",
   "metadata": {},
   "outputs": [
    {
     "ename": "NameError",
     "evalue": "name 'j' is not defined",
     "output_type": "error",
     "traceback": [
      "\u001b[0;31m---------------------------------------------------------------------------\u001b[0m",
      "\u001b[0;31mNameError\u001b[0m                                 Traceback (most recent call last)",
      "\u001b[0;32m/var/folders/7b/hgztdlzd4k76rwydg33k1vhm0000gn/T/ipykernel_45882/797444836.py\u001b[0m in \u001b[0;36m<module>\u001b[0;34m\u001b[0m\n\u001b[0;32m----> 1\u001b[0;31m \u001b[0mparte4_Rio_4bairros\u001b[0m\u001b[0;34m[\u001b[0m\u001b[0mparte4_Rio_4bairros\u001b[0m\u001b[0;34m.\u001b[0m\u001b[0mbairro_fato\u001b[0m \u001b[0;34m==\u001b[0m \u001b[0mj\u001b[0m\u001b[0;34m]\u001b[0m\u001b[0;34m.\u001b[0m\u001b[0mdata_fato\u001b[0m\u001b[0;34m.\u001b[0m\u001b[0mmax\u001b[0m\u001b[0;34m(\u001b[0m\u001b[0;34m)\u001b[0m\u001b[0;34m\u001b[0m\u001b[0;34m\u001b[0m\u001b[0m\n\u001b[0m\u001b[1;32m      2\u001b[0m \u001b[0;32mfrom\u001b[0m \u001b[0mmatplotlib\u001b[0m\u001b[0;34m.\u001b[0m\u001b[0mticker\u001b[0m \u001b[0;32mimport\u001b[0m \u001b[0mNullFormatter\u001b[0m\u001b[0;34m\u001b[0m\u001b[0;34m\u001b[0m\u001b[0m\n\u001b[1;32m      3\u001b[0m \u001b[0;32mimport\u001b[0m \u001b[0mmatplotlib\u001b[0m\u001b[0;34m.\u001b[0m\u001b[0mticker\u001b[0m \u001b[0;32mas\u001b[0m \u001b[0mmticker\u001b[0m\u001b[0;34m\u001b[0m\u001b[0;34m\u001b[0m\u001b[0m\n\u001b[1;32m      4\u001b[0m \u001b[0;32mfrom\u001b[0m \u001b[0mmatplotlib\u001b[0m\u001b[0;34m.\u001b[0m\u001b[0mpyplot\u001b[0m \u001b[0;32mimport\u001b[0m \u001b[0mcm\u001b[0m\u001b[0;34m\u001b[0m\u001b[0;34m\u001b[0m\u001b[0m\n\u001b[1;32m      5\u001b[0m \u001b[0;32mimport\u001b[0m \u001b[0mnumpy\u001b[0m \u001b[0;32mas\u001b[0m \u001b[0mnp\u001b[0m\u001b[0;34m\u001b[0m\u001b[0;34m\u001b[0m\u001b[0m\n",
      "\u001b[0;31mNameError\u001b[0m: name 'j' is not defined"
     ]
    }
   ],
   "source": [
    "parte4_Rio_4bairros[parte4_Rio_4bairros.bairro_fato == j].data_fato.max()\n",
    "from matplotlib.ticker import NullFormatter\n",
    "import matplotlib.ticker as mticker\n",
    "from matplotlib.pyplot import cm\n",
    "import numpy as np\n",
    "color = cm.rainbow(np.linspace(0, 1, 2))"
   ]
  },
  {
   "cell_type": "code",
   "execution_count": 82,
   "id": "faf0ca17",
   "metadata": {},
   "outputs": [
    {
     "ename": "NameError",
     "evalue": "name 'color' is not defined",
     "output_type": "error",
     "traceback": [
      "\u001b[0;31m---------------------------------------------------------------------------\u001b[0m",
      "\u001b[0;31mNameError\u001b[0m                                 Traceback (most recent call last)",
      "\u001b[0;32m/var/folders/7b/hgztdlzd4k76rwydg33k1vhm0000gn/T/ipykernel_45882/3036510851.py\u001b[0m in \u001b[0;36m<module>\u001b[0;34m\u001b[0m\n\u001b[1;32m      3\u001b[0m \u001b[0;32mfor\u001b[0m \u001b[0mi\u001b[0m\u001b[0;34m,\u001b[0m\u001b[0mj\u001b[0m \u001b[0;32min\u001b[0m \u001b[0menumerate\u001b[0m \u001b[0;34m(\u001b[0m\u001b[0mbairros4\u001b[0m\u001b[0;34m)\u001b[0m\u001b[0;34m:\u001b[0m\u001b[0;34m\u001b[0m\u001b[0;34m\u001b[0m\u001b[0m\n\u001b[1;32m      4\u001b[0m     axs[i].plot(parte4_Rio_4bairros[parte4_Rio_4bairros.bairro_fato == j].data_fato,\\\n\u001b[0;32m----> 5\u001b[0;31m             parte4_Rio_4bairros[parte4_Rio_4bairros.bairro_fato == j].ano,color=color[i])\n\u001b[0m\u001b[1;32m      6\u001b[0m     \u001b[0maxs\u001b[0m\u001b[0;34m[\u001b[0m\u001b[0mi\u001b[0m\u001b[0;34m]\u001b[0m\u001b[0;34m.\u001b[0m\u001b[0mset_title\u001b[0m\u001b[0;34m(\u001b[0m\u001b[0mj\u001b[0m\u001b[0;34m)\u001b[0m\u001b[0;34m\u001b[0m\u001b[0;34m\u001b[0m\u001b[0m\n\u001b[1;32m      7\u001b[0m     \u001b[0maxs\u001b[0m\u001b[0;34m[\u001b[0m\u001b[0mi\u001b[0m\u001b[0;34m]\u001b[0m\u001b[0;34m.\u001b[0m\u001b[0mxaxis\u001b[0m\u001b[0;34m.\u001b[0m\u001b[0mset_major_locator\u001b[0m\u001b[0;34m(\u001b[0m\u001b[0mMonthLocator\u001b[0m\u001b[0;34m(\u001b[0m\u001b[0;34m)\u001b[0m\u001b[0;34m)\u001b[0m\u001b[0;34m\u001b[0m\u001b[0;34m\u001b[0m\u001b[0m\n",
      "\u001b[0;31mNameError\u001b[0m: name 'color' is not defined"
     ]
    },
    {
     "data": {
      "image/png": "[encoded data removed]",
      "text/plain": [
       "<Figure size 1440x1440 with 4 Axes>"
      ]
     },
     "metadata": {},
     "output_type": "display_data"
    }
   ],
   "source": [
    "fig, axs = plt.subplots(4,1,figsize=(20,20))\n",
    "bairros4=[\"Centro\", \"Barra da tijuca\", \"Copacabana\", \"Madureira\"]\n",
    "for i,j in enumerate (bairros4):\n",
    "    axs[i].plot(parte4_Rio_4bairros[parte4_Rio_4bairros.bairro_fato == j].data_fato,\\\n",
    "            parte4_Rio_4bairros[parte4_Rio_4bairros.bairro_fato == j].ano,color=color[i])\n",
    "    axs[i].set_title(j)\n",
    "    axs[i].xaxis.set_major_locator(MonthLocator())\n",
    "plt.show()"
   ]
  },
  {
   "cell_type": "code",
   "execution_count": 83,
   "id": "e0f7eb8b",
   "metadata": {},
   "outputs": [],
   "source": [
    "from matplotlib.dates import MonthLocator, DateFormatter"
   ]
  },
  {
   "cell_type": "code",
   "execution_count": 84,
   "id": "f864dcf8",
   "metadata": {},
   "outputs": [
    {
     "data": {
      "text/plain": [
       "<matplotlib.dates.MonthLocator at 0x14b2713a0>"
      ]
     },
     "execution_count": 84,
     "metadata": {},
     "output_type": "execute_result"
    }
   ],
   "source": [
    "MonthLocator(bymonth=1)"
   ]
  },
  {
   "cell_type": "markdown",
   "id": "1173b5cc",
   "metadata": {},
   "source": [
    "# Import static feature"
   ]
  },
  {
   "cell_type": "markdown",
   "id": "90b4dd80",
   "metadata": {},
   "source": [
    "## Population data"
   ]
  },
  {
   "cell_type": "code",
   "execution_count": 87,
   "id": "10642bb4",
   "metadata": {},
   "outputs": [],
   "source": [
    "pop = pd.read_csv(\"raw_data/population_Rio.csv\", encoding='iso-8859-1')"
   ]
  },
  {
   "cell_type": "code",
   "execution_count": 88,
   "id": "997c6f59",
   "metadata": {},
   "outputs": [
    {
     "data": {
      "text/plain": [
       "(160, 6)"
      ]
     },
     "execution_count": 88,
     "metadata": {},
     "output_type": "execute_result"
    }
   ],
   "source": [
    "pop.shape"
   ]
  },
  {
   "cell_type": "code",
   "execution_count": 89,
   "id": "d34d4a4d",
   "metadata": {},
   "outputs": [
    {
     "data": {
      "text/plain": [
       "RegiaoAdministrativa    object\n",
       "Ano                      int64\n",
       "Populacao                int64\n",
       "DensidadeBruta          object\n",
       "DensidadeLiquida        object\n",
       "TaxaGeometrica          object\n",
       "dtype: object"
      ]
     },
     "execution_count": 89,
     "metadata": {},
     "output_type": "execute_result"
    }
   ],
   "source": [
    "pop.dtypes"
   ]
  },
  {
   "cell_type": "code",
   "execution_count": 90,
   "id": "ff3c7379",
   "metadata": {},
   "outputs": [
    {
     "data": {
      "text/html": [
       "<div>\n",
       "<style scoped>\n",
       "    .dataframe tbody tr th:only-of-type {\n",
       "        vertical-align: middle;\n",
       "    }\n",
       "\n",
       "    .dataframe tbody tr th {\n",
       "        vertical-align: top;\n",
       "    }\n",
       "\n",
       "    .dataframe thead th {\n",
       "        text-align: right;\n",
       "    }\n",
       "</style>\n",
       "<table border=\"1\" class=\"dataframe\">\n",
       "  <thead>\n",
       "    <tr style=\"text-align: right;\">\n",
       "      <th></th>\n",
       "      <th>RegiaoAdministrativa</th>\n",
       "      <th>Ano</th>\n",
       "      <th>Populacao</th>\n",
       "      <th>DensidadeBruta</th>\n",
       "      <th>DensidadeLiquida</th>\n",
       "      <th>TaxaGeometrica</th>\n",
       "    </tr>\n",
       "  </thead>\n",
       "  <tbody>\n",
       "    <tr>\n",
       "      <th>0</th>\n",
       "      <td>I  Portuaria</td>\n",
       "      <td>2000</td>\n",
       "      <td>39973</td>\n",
       "      <td>47,0</td>\n",
       "      <td>47,1</td>\n",
       "      <td>1,89%</td>\n",
       "    </tr>\n",
       "    <tr>\n",
       "      <th>1</th>\n",
       "      <td>I  Portuaria</td>\n",
       "      <td>2005</td>\n",
       "      <td>36338</td>\n",
       "      <td>42,7</td>\n",
       "      <td>42,8</td>\n",
       "      <td>1,91%</td>\n",
       "    </tr>\n",
       "    <tr>\n",
       "      <th>2</th>\n",
       "      <td>I  Portuaria</td>\n",
       "      <td>2010</td>\n",
       "      <td>32999</td>\n",
       "      <td>38,8</td>\n",
       "      <td>38,9</td>\n",
       "      <td>1,95%</td>\n",
       "    </tr>\n",
       "    <tr>\n",
       "      <th>3</th>\n",
       "      <td>I  Portuaria</td>\n",
       "      <td>2015</td>\n",
       "      <td>29905</td>\n",
       "      <td>35,1</td>\n",
       "      <td>35,2</td>\n",
       "      <td>2,02%</td>\n",
       "    </tr>\n",
       "    <tr>\n",
       "      <th>4</th>\n",
       "      <td>I  Portuaria</td>\n",
       "      <td>2020</td>\n",
       "      <td>27001</td>\n",
       "      <td>31,7</td>\n",
       "      <td>31,8</td>\n",
       "      <td>NaN</td>\n",
       "    </tr>\n",
       "    <tr>\n",
       "      <th>5</th>\n",
       "      <td>II  Centro</td>\n",
       "      <td>2000</td>\n",
       "      <td>39135</td>\n",
       "      <td>68,4</td>\n",
       "      <td>68,4</td>\n",
       "      <td>3,30%</td>\n",
       "    </tr>\n",
       "    <tr>\n",
       "      <th>6</th>\n",
       "      <td>II  Centro</td>\n",
       "      <td>2005</td>\n",
       "      <td>33098</td>\n",
       "      <td>57,8</td>\n",
       "      <td>57,8</td>\n",
       "      <td>3,31%</td>\n",
       "    </tr>\n",
       "    <tr>\n",
       "      <th>7</th>\n",
       "      <td>II  Centro</td>\n",
       "      <td>2010</td>\n",
       "      <td>27972</td>\n",
       "      <td>48,9</td>\n",
       "      <td>48,9</td>\n",
       "      <td>3,34%</td>\n",
       "    </tr>\n",
       "    <tr>\n",
       "      <th>8</th>\n",
       "      <td>II  Centro</td>\n",
       "      <td>2015</td>\n",
       "      <td>23598</td>\n",
       "      <td>41,2</td>\n",
       "      <td>41,2</td>\n",
       "      <td>3,41%</td>\n",
       "    </tr>\n",
       "    <tr>\n",
       "      <th>9</th>\n",
       "      <td>II  Centro</td>\n",
       "      <td>2020</td>\n",
       "      <td>19839</td>\n",
       "      <td>34,7</td>\n",
       "      <td>34,7</td>\n",
       "      <td>NaN</td>\n",
       "    </tr>\n",
       "    <tr>\n",
       "      <th>10</th>\n",
       "      <td>III  Rio Comprido</td>\n",
       "      <td>2000</td>\n",
       "      <td>73661</td>\n",
       "      <td>127,1</td>\n",
       "      <td>162,6</td>\n",
       "      <td>2,01%</td>\n",
       "    </tr>\n",
       "    <tr>\n",
       "      <th>11</th>\n",
       "      <td>III  Rio Comprido</td>\n",
       "      <td>2005</td>\n",
       "      <td>66552</td>\n",
       "      <td>114,8</td>\n",
       "      <td>146,9</td>\n",
       "      <td>2,05%</td>\n",
       "    </tr>\n",
       "    <tr>\n",
       "      <th>12</th>\n",
       "      <td>III  Rio Comprido</td>\n",
       "      <td>2010</td>\n",
       "      <td>60003</td>\n",
       "      <td>103,5</td>\n",
       "      <td>132,4</td>\n",
       "      <td>2,09%</td>\n",
       "    </tr>\n",
       "    <tr>\n",
       "      <th>13</th>\n",
       "      <td>III  Rio Comprido</td>\n",
       "      <td>2015</td>\n",
       "      <td>53985</td>\n",
       "      <td>93,1</td>\n",
       "      <td>119,2</td>\n",
       "      <td>2,17%</td>\n",
       "    </tr>\n",
       "    <tr>\n",
       "      <th>14</th>\n",
       "      <td>III  Rio Comprido</td>\n",
       "      <td>2020</td>\n",
       "      <td>48386</td>\n",
       "      <td>83,5</td>\n",
       "      <td>106,8</td>\n",
       "      <td>NaN</td>\n",
       "    </tr>\n",
       "    <tr>\n",
       "      <th>15</th>\n",
       "      <td>IV  Botafogo</td>\n",
       "      <td>2000</td>\n",
       "      <td>238895</td>\n",
       "      <td>159,0</td>\n",
       "      <td>193,7</td>\n",
       "      <td>1,41%</td>\n",
       "    </tr>\n",
       "    <tr>\n",
       "      <th>16</th>\n",
       "      <td>IV  Botafogo</td>\n",
       "      <td>2005</td>\n",
       "      <td>222551</td>\n",
       "      <td>148,1</td>\n",
       "      <td>180,4</td>\n",
       "      <td>1,42%</td>\n",
       "    </tr>\n",
       "    <tr>\n",
       "      <th>17</th>\n",
       "      <td>IV  Botafogo</td>\n",
       "      <td>2010</td>\n",
       "      <td>207187</td>\n",
       "      <td>137,9</td>\n",
       "      <td>168,0</td>\n",
       "      <td>1,46%</td>\n",
       "    </tr>\n",
       "    <tr>\n",
       "      <th>18</th>\n",
       "      <td>IV  Botafogo</td>\n",
       "      <td>2015</td>\n",
       "      <td>192472</td>\n",
       "      <td>128,1</td>\n",
       "      <td>156,1</td>\n",
       "      <td>1,54%</td>\n",
       "    </tr>\n",
       "    <tr>\n",
       "      <th>19</th>\n",
       "      <td>IV  Botafogo</td>\n",
       "      <td>2020</td>\n",
       "      <td>178122</td>\n",
       "      <td>118,5</td>\n",
       "      <td>144,4</td>\n",
       "      <td>NaN</td>\n",
       "    </tr>\n",
       "  </tbody>\n",
       "</table>\n",
       "</div>"
      ],
      "text/plain": [
       "   RegiaoAdministrativa   Ano  Populacao DensidadeBruta DensidadeLiquida  \\\n",
       "0          I  Portuaria  2000      39973           47,0             47,1   \n",
       "1          I  Portuaria  2005      36338           42,7             42,8   \n",
       "2          I  Portuaria  2010      32999           38,8             38,9   \n",
       "3          I  Portuaria  2015      29905           35,1             35,2   \n",
       "4          I  Portuaria  2020      27001           31,7             31,8   \n",
       "5            II  Centro  2000      39135           68,4             68,4   \n",
       "6            II  Centro  2005      33098           57,8             57,8   \n",
       "7            II  Centro  2010      27972           48,9             48,9   \n",
       "8            II  Centro  2015      23598           41,2             41,2   \n",
       "9            II  Centro  2020      19839           34,7             34,7   \n",
       "10    III  Rio Comprido  2000      73661          127,1            162,6   \n",
       "11    III  Rio Comprido  2005      66552          114,8            146,9   \n",
       "12    III  Rio Comprido  2010      60003          103,5            132,4   \n",
       "13    III  Rio Comprido  2015      53985           93,1            119,2   \n",
       "14    III  Rio Comprido  2020      48386           83,5            106,8   \n",
       "15         IV  Botafogo  2000     238895          159,0            193,7   \n",
       "16         IV  Botafogo  2005     222551          148,1            180,4   \n",
       "17         IV  Botafogo  2010     207187          137,9            168,0   \n",
       "18         IV  Botafogo  2015     192472          128,1            156,1   \n",
       "19         IV  Botafogo  2020     178122          118,5            144,4   \n",
       "\n",
       "   TaxaGeometrica  \n",
       "0           1,89%  \n",
       "1           1,91%  \n",
       "2           1,95%  \n",
       "3           2,02%  \n",
       "4             NaN  \n",
       "5           3,30%  \n",
       "6           3,31%  \n",
       "7           3,34%  \n",
       "8           3,41%  \n",
       "9             NaN  \n",
       "10          2,01%  \n",
       "11          2,05%  \n",
       "12          2,09%  \n",
       "13          2,17%  \n",
       "14            NaN  \n",
       "15          1,41%  \n",
       "16          1,42%  \n",
       "17          1,46%  \n",
       "18          1,54%  \n",
       "19            NaN  "
      ]
     },
     "execution_count": 90,
     "metadata": {},
     "output_type": "execute_result"
    }
   ],
   "source": [
    "pop.head(20)"
   ]
  },
  {
   "cell_type": "code",
   "execution_count": 91,
   "id": "fefe7c34",
   "metadata": {},
   "outputs": [],
   "source": [
    "def split_bairro(x):\n",
    "    return \" \".join(x.split(\" \")[2:])"
   ]
  },
  {
   "cell_type": "code",
   "execution_count": 92,
   "id": "1ebd100f",
   "metadata": {},
   "outputs": [],
   "source": [
    "pop[\"bairro\"] = pop.RegiaoAdministrativa.apply(split_bairro)"
   ]
  },
  {
   "cell_type": "code",
   "execution_count": 93,
   "id": "18505c18",
   "metadata": {},
   "outputs": [
    {
     "data": {
      "text/html": [
       "<div>\n",
       "<style scoped>\n",
       "    .dataframe tbody tr th:only-of-type {\n",
       "        vertical-align: middle;\n",
       "    }\n",
       "\n",
       "    .dataframe tbody tr th {\n",
       "        vertical-align: top;\n",
       "    }\n",
       "\n",
       "    .dataframe thead th {\n",
       "        text-align: right;\n",
       "    }\n",
       "</style>\n",
       "<table border=\"1\" class=\"dataframe\">\n",
       "  <thead>\n",
       "    <tr style=\"text-align: right;\">\n",
       "      <th></th>\n",
       "      <th>RegiaoAdministrativa</th>\n",
       "      <th>Ano</th>\n",
       "      <th>Populacao</th>\n",
       "      <th>DensidadeBruta</th>\n",
       "      <th>DensidadeLiquida</th>\n",
       "      <th>TaxaGeometrica</th>\n",
       "      <th>bairro</th>\n",
       "    </tr>\n",
       "  </thead>\n",
       "  <tbody>\n",
       "    <tr>\n",
       "      <th>0</th>\n",
       "      <td>I  Portuaria</td>\n",
       "      <td>2000</td>\n",
       "      <td>39973</td>\n",
       "      <td>47,0</td>\n",
       "      <td>47,1</td>\n",
       "      <td>1,89%</td>\n",
       "      <td>Portuaria</td>\n",
       "    </tr>\n",
       "    <tr>\n",
       "      <th>1</th>\n",
       "      <td>I  Portuaria</td>\n",
       "      <td>2005</td>\n",
       "      <td>36338</td>\n",
       "      <td>42,7</td>\n",
       "      <td>42,8</td>\n",
       "      <td>1,91%</td>\n",
       "      <td>Portuaria</td>\n",
       "    </tr>\n",
       "    <tr>\n",
       "      <th>2</th>\n",
       "      <td>I  Portuaria</td>\n",
       "      <td>2010</td>\n",
       "      <td>32999</td>\n",
       "      <td>38,8</td>\n",
       "      <td>38,9</td>\n",
       "      <td>1,95%</td>\n",
       "      <td>Portuaria</td>\n",
       "    </tr>\n",
       "    <tr>\n",
       "      <th>3</th>\n",
       "      <td>I  Portuaria</td>\n",
       "      <td>2015</td>\n",
       "      <td>29905</td>\n",
       "      <td>35,1</td>\n",
       "      <td>35,2</td>\n",
       "      <td>2,02%</td>\n",
       "      <td>Portuaria</td>\n",
       "    </tr>\n",
       "    <tr>\n",
       "      <th>4</th>\n",
       "      <td>I  Portuaria</td>\n",
       "      <td>2020</td>\n",
       "      <td>27001</td>\n",
       "      <td>31,7</td>\n",
       "      <td>31,8</td>\n",
       "      <td>NaN</td>\n",
       "      <td>Portuaria</td>\n",
       "    </tr>\n",
       "    <tr>\n",
       "      <th>...</th>\n",
       "      <td>...</td>\n",
       "      <td>...</td>\n",
       "      <td>...</td>\n",
       "      <td>...</td>\n",
       "      <td>...</td>\n",
       "      <td>...</td>\n",
       "      <td>...</td>\n",
       "    </tr>\n",
       "    <tr>\n",
       "      <th>155</th>\n",
       "      <td>XXXIV  Cidade de Deus</td>\n",
       "      <td>2000</td>\n",
       "      <td>38016</td>\n",
       "      <td>315,3</td>\n",
       "      <td>315,3</td>\n",
       "      <td>0,86%</td>\n",
       "      <td>Cidade de Deus</td>\n",
       "    </tr>\n",
       "    <tr>\n",
       "      <th>156</th>\n",
       "      <td>XXXIV  Cidade de Deus</td>\n",
       "      <td>2005</td>\n",
       "      <td>36405</td>\n",
       "      <td>301,9</td>\n",
       "      <td>301,9</td>\n",
       "      <td>0,88%</td>\n",
       "      <td>Cidade de Deus</td>\n",
       "    </tr>\n",
       "    <tr>\n",
       "      <th>157</th>\n",
       "      <td>XXXIV  Cidade de Deus</td>\n",
       "      <td>2010</td>\n",
       "      <td>3483</td>\n",
       "      <td>288,9</td>\n",
       "      <td>288,9</td>\n",
       "      <td>0,92%</td>\n",
       "      <td>Cidade de Deus</td>\n",
       "    </tr>\n",
       "    <tr>\n",
       "      <th>158</th>\n",
       "      <td>XXXIV  Cidade de Deus</td>\n",
       "      <td>2015</td>\n",
       "      <td>33257</td>\n",
       "      <td>275,8</td>\n",
       "      <td>275,8</td>\n",
       "      <td>0,99%</td>\n",
       "      <td>Cidade de Deus</td>\n",
       "    </tr>\n",
       "    <tr>\n",
       "      <th>159</th>\n",
       "      <td>XXXIV  Cidade de Deus</td>\n",
       "      <td>2020</td>\n",
       "      <td>31641</td>\n",
       "      <td>262,4</td>\n",
       "      <td>262,4</td>\n",
       "      <td>NaN</td>\n",
       "      <td>Cidade de Deus</td>\n",
       "    </tr>\n",
       "  </tbody>\n",
       "</table>\n",
       "<p>160 rows × 7 columns</p>\n",
       "</div>"
      ],
      "text/plain": [
       "      RegiaoAdministrativa   Ano  Populacao DensidadeBruta DensidadeLiquida  \\\n",
       "0             I  Portuaria  2000      39973           47,0             47,1   \n",
       "1             I  Portuaria  2005      36338           42,7             42,8   \n",
       "2             I  Portuaria  2010      32999           38,8             38,9   \n",
       "3             I  Portuaria  2015      29905           35,1             35,2   \n",
       "4             I  Portuaria  2020      27001           31,7             31,8   \n",
       "..                     ...   ...        ...            ...              ...   \n",
       "155  XXXIV  Cidade de Deus  2000      38016          315,3            315,3   \n",
       "156  XXXIV  Cidade de Deus  2005      36405          301,9            301,9   \n",
       "157  XXXIV  Cidade de Deus  2010       3483          288,9            288,9   \n",
       "158  XXXIV  Cidade de Deus  2015      33257          275,8            275,8   \n",
       "159  XXXIV  Cidade de Deus  2020      31641          262,4            262,4   \n",
       "\n",
       "    TaxaGeometrica          bairro  \n",
       "0            1,89%       Portuaria  \n",
       "1            1,91%       Portuaria  \n",
       "2            1,95%       Portuaria  \n",
       "3            2,02%       Portuaria  \n",
       "4              NaN       Portuaria  \n",
       "..             ...             ...  \n",
       "155          0,86%  Cidade de Deus  \n",
       "156          0,88%  Cidade de Deus  \n",
       "157          0,92%  Cidade de Deus  \n",
       "158          0,99%  Cidade de Deus  \n",
       "159            NaN  Cidade de Deus  \n",
       "\n",
       "[160 rows x 7 columns]"
      ]
     },
     "execution_count": 93,
     "metadata": {},
     "output_type": "execute_result"
    }
   ],
   "source": [
    "pop"
   ]
  },
  {
   "cell_type": "code",
   "execution_count": 94,
   "id": "771fd88e",
   "metadata": {},
   "outputs": [],
   "source": [
    "pop2 = pop[[\"bairro\",\"Ano\", \"Populacao\", \"DensidadeBruta\"]]"
   ]
  },
  {
   "cell_type": "code",
   "execution_count": 95,
   "id": "24443a37",
   "metadata": {},
   "outputs": [
    {
     "data": {
      "text/plain": [
       "bairro            Santa Cruz\n",
       "Ano                     2010\n",
       "Populacao             359112\n",
       "DensidadeBruta          21,9\n",
       "Name: 92, dtype: object"
      ]
     },
     "execution_count": 95,
     "metadata": {},
     "output_type": "execute_result"
    }
   ],
   "source": [
    "pop2.iloc[92]"
   ]
  },
  {
   "cell_type": "code",
   "execution_count": 96,
   "id": "a3c1ada6",
   "metadata": {},
   "outputs": [
    {
     "data": {
      "text/html": [
       "<div>\n",
       "<style scoped>\n",
       "    .dataframe tbody tr th:only-of-type {\n",
       "        vertical-align: middle;\n",
       "    }\n",
       "\n",
       "    .dataframe tbody tr th {\n",
       "        vertical-align: top;\n",
       "    }\n",
       "\n",
       "    .dataframe thead th {\n",
       "        text-align: right;\n",
       "    }\n",
       "</style>\n",
       "<table border=\"1\" class=\"dataframe\">\n",
       "  <thead>\n",
       "    <tr style=\"text-align: right;\">\n",
       "      <th></th>\n",
       "      <th>bairro</th>\n",
       "      <th>Ano</th>\n",
       "      <th>Populacao</th>\n",
       "      <th>DensidadeBruta</th>\n",
       "    </tr>\n",
       "  </thead>\n",
       "  <tbody>\n",
       "    <tr>\n",
       "      <th>0</th>\n",
       "      <td>Portuaria</td>\n",
       "      <td>2000</td>\n",
       "      <td>39973</td>\n",
       "      <td>47,0</td>\n",
       "    </tr>\n",
       "    <tr>\n",
       "      <th>1</th>\n",
       "      <td>Portuaria</td>\n",
       "      <td>2005</td>\n",
       "      <td>36338</td>\n",
       "      <td>42,7</td>\n",
       "    </tr>\n",
       "    <tr>\n",
       "      <th>2</th>\n",
       "      <td>Portuaria</td>\n",
       "      <td>2010</td>\n",
       "      <td>32999</td>\n",
       "      <td>38,8</td>\n",
       "    </tr>\n",
       "    <tr>\n",
       "      <th>3</th>\n",
       "      <td>Portuaria</td>\n",
       "      <td>2015</td>\n",
       "      <td>29905</td>\n",
       "      <td>35,1</td>\n",
       "    </tr>\n",
       "    <tr>\n",
       "      <th>4</th>\n",
       "      <td>Portuaria</td>\n",
       "      <td>2020</td>\n",
       "      <td>27001</td>\n",
       "      <td>31,7</td>\n",
       "    </tr>\n",
       "    <tr>\n",
       "      <th>...</th>\n",
       "      <td>...</td>\n",
       "      <td>...</td>\n",
       "      <td>...</td>\n",
       "      <td>...</td>\n",
       "    </tr>\n",
       "    <tr>\n",
       "      <th>155</th>\n",
       "      <td>Cidade de Deus</td>\n",
       "      <td>2000</td>\n",
       "      <td>38016</td>\n",
       "      <td>315,3</td>\n",
       "    </tr>\n",
       "    <tr>\n",
       "      <th>156</th>\n",
       "      <td>Cidade de Deus</td>\n",
       "      <td>2005</td>\n",
       "      <td>36405</td>\n",
       "      <td>301,9</td>\n",
       "    </tr>\n",
       "    <tr>\n",
       "      <th>157</th>\n",
       "      <td>Cidade de Deus</td>\n",
       "      <td>2010</td>\n",
       "      <td>3483</td>\n",
       "      <td>288,9</td>\n",
       "    </tr>\n",
       "    <tr>\n",
       "      <th>158</th>\n",
       "      <td>Cidade de Deus</td>\n",
       "      <td>2015</td>\n",
       "      <td>33257</td>\n",
       "      <td>275,8</td>\n",
       "    </tr>\n",
       "    <tr>\n",
       "      <th>159</th>\n",
       "      <td>Cidade de Deus</td>\n",
       "      <td>2020</td>\n",
       "      <td>31641</td>\n",
       "      <td>262,4</td>\n",
       "    </tr>\n",
       "  </tbody>\n",
       "</table>\n",
       "<p>160 rows × 4 columns</p>\n",
       "</div>"
      ],
      "text/plain": [
       "             bairro   Ano  Populacao DensidadeBruta\n",
       "0         Portuaria  2000      39973           47,0\n",
       "1         Portuaria  2005      36338           42,7\n",
       "2         Portuaria  2010      32999           38,8\n",
       "3         Portuaria  2015      29905           35,1\n",
       "4         Portuaria  2020      27001           31,7\n",
       "..              ...   ...        ...            ...\n",
       "155  Cidade de Deus  2000      38016          315,3\n",
       "156  Cidade de Deus  2005      36405          301,9\n",
       "157  Cidade de Deus  2010       3483          288,9\n",
       "158  Cidade de Deus  2015      33257          275,8\n",
       "159  Cidade de Deus  2020      31641          262,4\n",
       "\n",
       "[160 rows x 4 columns]"
      ]
     },
     "execution_count": 96,
     "metadata": {},
     "output_type": "execute_result"
    }
   ],
   "source": [
    "pop2"
   ]
  },
  {
   "cell_type": "code",
   "execution_count": 97,
   "id": "5c730b7c",
   "metadata": {},
   "outputs": [],
   "source": [
    "pop3 = pop2[pop2.bairro.isin([\"Centro\",\"Copacabana\",\"Barra da Tijuca\", \"Madureira\"])]\n"
   ]
  },
  {
   "cell_type": "code",
   "execution_count": 98,
   "id": "a2709795",
   "metadata": {},
   "outputs": [
    {
     "data": {
      "text/plain": [
       "bairro            object\n",
       "Ano                int64\n",
       "Populacao          int64\n",
       "DensidadeBruta    object\n",
       "dtype: object"
      ]
     },
     "execution_count": 98,
     "metadata": {},
     "output_type": "execute_result"
    }
   ],
   "source": [
    "pop3.dtypes"
   ]
  },
  {
   "cell_type": "code",
   "execution_count": 99,
   "id": "f7156c38",
   "metadata": {},
   "outputs": [
    {
     "data": {
      "text/html": [
       "<div>\n",
       "<style scoped>\n",
       "    .dataframe tbody tr th:only-of-type {\n",
       "        vertical-align: middle;\n",
       "    }\n",
       "\n",
       "    .dataframe tbody tr th {\n",
       "        vertical-align: top;\n",
       "    }\n",
       "\n",
       "    .dataframe thead th {\n",
       "        text-align: right;\n",
       "    }\n",
       "</style>\n",
       "<table border=\"1\" class=\"dataframe\">\n",
       "  <thead>\n",
       "    <tr style=\"text-align: right;\">\n",
       "      <th></th>\n",
       "      <th>bairro</th>\n",
       "      <th>Ano</th>\n",
       "      <th>Populacao</th>\n",
       "      <th>DensidadeBruta</th>\n",
       "    </tr>\n",
       "  </thead>\n",
       "  <tbody>\n",
       "    <tr>\n",
       "      <th>5</th>\n",
       "      <td>Centro</td>\n",
       "      <td>2000</td>\n",
       "      <td>39135</td>\n",
       "      <td>68,4</td>\n",
       "    </tr>\n",
       "    <tr>\n",
       "      <th>6</th>\n",
       "      <td>Centro</td>\n",
       "      <td>2005</td>\n",
       "      <td>33098</td>\n",
       "      <td>57,8</td>\n",
       "    </tr>\n",
       "    <tr>\n",
       "      <th>7</th>\n",
       "      <td>Centro</td>\n",
       "      <td>2010</td>\n",
       "      <td>27972</td>\n",
       "      <td>48,9</td>\n",
       "    </tr>\n",
       "    <tr>\n",
       "      <th>8</th>\n",
       "      <td>Centro</td>\n",
       "      <td>2015</td>\n",
       "      <td>23598</td>\n",
       "      <td>41,2</td>\n",
       "    </tr>\n",
       "    <tr>\n",
       "      <th>9</th>\n",
       "      <td>Centro</td>\n",
       "      <td>2020</td>\n",
       "      <td>19839</td>\n",
       "      <td>34,7</td>\n",
       "    </tr>\n",
       "    <tr>\n",
       "      <th>20</th>\n",
       "      <td>Copacabana</td>\n",
       "      <td>2000</td>\n",
       "      <td>161178</td>\n",
       "      <td>317,4</td>\n",
       "    </tr>\n",
       "    <tr>\n",
       "      <th>21</th>\n",
       "      <td>Copacabana</td>\n",
       "      <td>2005</td>\n",
       "      <td>150297</td>\n",
       "      <td>296,0</td>\n",
       "    </tr>\n",
       "    <tr>\n",
       "      <th>22</th>\n",
       "      <td>Copacabana</td>\n",
       "      <td>2010</td>\n",
       "      <td>140015</td>\n",
       "      <td>275,7</td>\n",
       "    </tr>\n",
       "    <tr>\n",
       "      <th>23</th>\n",
       "      <td>Copacabana</td>\n",
       "      <td>2015</td>\n",
       "      <td>130168</td>\n",
       "      <td>256,3</td>\n",
       "    </tr>\n",
       "    <tr>\n",
       "      <th>24</th>\n",
       "      <td>Copacabana</td>\n",
       "      <td>2020</td>\n",
       "      <td>120562</td>\n",
       "      <td>237,4</td>\n",
       "    </tr>\n",
       "    <tr>\n",
       "      <th>70</th>\n",
       "      <td>Madureira</td>\n",
       "      <td>2000</td>\n",
       "      <td>374157</td>\n",
       "      <td>124,0</td>\n",
       "    </tr>\n",
       "    <tr>\n",
       "      <th>71</th>\n",
       "      <td>Madureira</td>\n",
       "      <td>2005</td>\n",
       "      <td>359538</td>\n",
       "      <td>119,1</td>\n",
       "    </tr>\n",
       "    <tr>\n",
       "      <th>72</th>\n",
       "      <td>Madureira</td>\n",
       "      <td>2010</td>\n",
       "      <td>345094</td>\n",
       "      <td>114,3</td>\n",
       "    </tr>\n",
       "    <tr>\n",
       "      <th>73</th>\n",
       "      <td>Madureira</td>\n",
       "      <td>2015</td>\n",
       "      <td>330545</td>\n",
       "      <td>109,5</td>\n",
       "    </tr>\n",
       "    <tr>\n",
       "      <th>74</th>\n",
       "      <td>Madureira</td>\n",
       "      <td>2020</td>\n",
       "      <td>315426</td>\n",
       "      <td>104,5</td>\n",
       "    </tr>\n",
       "    <tr>\n",
       "      <th>115</th>\n",
       "      <td>Barra da Tijuca</td>\n",
       "      <td>2000</td>\n",
       "      <td>174353</td>\n",
       "      <td>10,5</td>\n",
       "    </tr>\n",
       "    <tr>\n",
       "      <th>116</th>\n",
       "      <td>Barra da Tijuca</td>\n",
       "      <td>2005</td>\n",
       "      <td>229609</td>\n",
       "      <td>13,8</td>\n",
       "    </tr>\n",
       "    <tr>\n",
       "      <th>117</th>\n",
       "      <td>Barra da Tijuca</td>\n",
       "      <td>2010</td>\n",
       "      <td>301185</td>\n",
       "      <td>18,1</td>\n",
       "    </tr>\n",
       "    <tr>\n",
       "      <th>118</th>\n",
       "      <td>Barra da Tijuca</td>\n",
       "      <td>2015</td>\n",
       "      <td>392730</td>\n",
       "      <td>23,7</td>\n",
       "    </tr>\n",
       "    <tr>\n",
       "      <th>119</th>\n",
       "      <td>Barra da Tijuca</td>\n",
       "      <td>2020</td>\n",
       "      <td>507601</td>\n",
       "      <td>30,6</td>\n",
       "    </tr>\n",
       "  </tbody>\n",
       "</table>\n",
       "</div>"
      ],
      "text/plain": [
       "              bairro   Ano  Populacao DensidadeBruta\n",
       "5             Centro  2000      39135           68,4\n",
       "6             Centro  2005      33098           57,8\n",
       "7             Centro  2010      27972           48,9\n",
       "8             Centro  2015      23598           41,2\n",
       "9             Centro  2020      19839           34,7\n",
       "20        Copacabana  2000     161178          317,4\n",
       "21        Copacabana  2005     150297          296,0\n",
       "22        Copacabana  2010     140015          275,7\n",
       "23        Copacabana  2015     130168          256,3\n",
       "24        Copacabana  2020     120562          237,4\n",
       "70         Madureira  2000     374157          124,0\n",
       "71         Madureira  2005     359538          119,1\n",
       "72         Madureira  2010     345094          114,3\n",
       "73         Madureira  2015     330545          109,5\n",
       "74         Madureira  2020     315426          104,5\n",
       "115  Barra da Tijuca  2000     174353           10,5\n",
       "116  Barra da Tijuca  2005     229609           13,8\n",
       "117  Barra da Tijuca  2010     301185           18,1\n",
       "118  Barra da Tijuca  2015     392730           23,7\n",
       "119  Barra da Tijuca  2020     507601           30,6"
      ]
     },
     "execution_count": 99,
     "metadata": {},
     "output_type": "execute_result"
    }
   ],
   "source": [
    "pop3"
   ]
  },
  {
   "cell_type": "code",
   "execution_count": 100,
   "id": "8f1c7181",
   "metadata": {},
   "outputs": [
    {
     "data": {
      "image/png": "[encoded data removed]",
      "text/plain": [
       "<Figure size 1152x432 with 1 Axes>"
      ]
     },
     "metadata": {},
     "output_type": "display_data"
    }
   ],
   "source": [
    "plt.figure(figsize=(16,6))\n",
    "sns.lineplot(data=pop3, x = \"Ano\", y = \"Populacao\", hue =\"bairro\",linestyle='--', marker=\"o\")\n",
    "plt.show()"
   ]
  },
  {
   "cell_type": "markdown",
   "id": "2dc5922c",
   "metadata": {},
   "source": [
    "# Clean bairro name according to demographic per bairro"
   ]
  },
  {
   "cell_type": "code",
   "execution_count": 101,
   "id": "4e1c68d0",
   "metadata": {},
   "outputs": [
    {
     "data": {
      "text/plain": [
       "Rio de Janeiro (Capital)    85219\n",
       "Duque de Caxias             13514\n",
       "São Gonçalo                 11679\n",
       "Nova Iguaçu                 10025\n",
       "Niterói                      7826\n",
       "                            ...  \n",
       "São Sebastião do Alto         144\n",
       "Trajano de Moraes             142\n",
       "Rio das Flores                125\n",
       "Laje do Muriaé                114\n",
       "Santa Maria Madalena          105\n",
       "Name: municipio_fato, Length: 78, dtype: int64"
      ]
     },
     "execution_count": 101,
     "metadata": {},
     "output_type": "execute_result"
    }
   ],
   "source": [
    "parte1.municipio_fato.value_counts()"
   ]
  },
  {
   "cell_type": "code",
   "execution_count": 123,
   "id": "31b23893",
   "metadata": {},
   "outputs": [],
   "source": [
    "parte1_rio = parte1[parte1[\"municipio_fato\"] == \"Rio de Janeiro (Capital)\"]"
   ]
  },
  {
   "cell_type": "code",
   "execution_count": 124,
   "id": "5866eb7a",
   "metadata": {},
   "outputs": [
    {
     "name": "stderr",
     "output_type": "stream",
     "text": [
      "/Users/desireepetrilli/.pyenv/versions/3.8.12/envs/lewagon/lib/python3.8/site-packages/pandas/core/frame.py:4906: SettingWithCopyWarning: \n",
      "A value is trying to be set on a copy of a slice from a DataFrame\n",
      "\n",
      "See the caveats in the documentation: https://pandas.pydata.org/pandas-docs/stable/user_guide/indexing.html#returning-a-view-versus-a-copy\n",
      "  return super().drop(\n"
     ]
    }
   ],
   "source": [
    "parte1_rio.drop(columns=[\"ano\",\"mes\", \"sexo\", \"cor\", \"idade\", \"municipio_vit\", \"bairro_vit\", \"relacao\", \"profissao\", \"aisp\", \"risp\", \"data_nasc\",\"hora_com\", \"data_com\", \"conteudo\"], inplace=True)"
   ]
  },
  {
   "cell_type": "code",
   "execution_count": 105,
   "id": "cfc99322",
   "metadata": {},
   "outputs": [],
   "source": [
    "parte2_rio = parte2[parte2[\"municipio_fato\"] == \"Rio de Janeiro (Capital)\"]"
   ]
  },
  {
   "cell_type": "code",
   "execution_count": 126,
   "id": "766ce9a3",
   "metadata": {},
   "outputs": [],
   "source": [
    "parte2_rio.drop(columns=[\"ano\",\"mes\", \"sexo\", \"cor\", \"idade\", \"municipio_vit\", \"bairro_vit\", \"relacao\", \"profissao\",\"data_nasc\",\"hora_com\", \"data_com\", \"conteudo\"], inplace=True)"
   ]
  },
  {
   "cell_type": "code",
   "execution_count": 110,
   "id": "c38f63b5",
   "metadata": {},
   "outputs": [
    {
     "name": "stdout",
     "output_type": "stream",
     "text": [
      "(85219, 25) (453172, 23) (422852, 23) (369943, 23)\n"
     ]
    }
   ],
   "source": [
    "print(parte1_rio.shape, parte2_rio.shape, parte3_rio.shape,parte4_rio.shape)"
   ]
  },
  {
   "cell_type": "code",
   "execution_count": 107,
   "id": "812750a0",
   "metadata": {},
   "outputs": [],
   "source": [
    "parte3_rio = parte3[parte3[\"municipio_fato\"] == \"Rio de Janeiro (Capital)\"]"
   ]
  },
  {
   "cell_type": "code",
   "execution_count": 127,
   "id": "76373e78",
   "metadata": {},
   "outputs": [],
   "source": [
    "parte3_rio.drop(columns=[\"ano\",\"mes\", \"sexo\", \"cor\", \"idade\", \"municipio_vit\", \"bairro_vit\", \"relacao\", \"profissao\",\"data_nasc\",\"hora_com\", \"data_com\", \"conteudo\"], inplace=True)"
   ]
  },
  {
   "cell_type": "code",
   "execution_count": 108,
   "id": "04d97ec5",
   "metadata": {},
   "outputs": [],
   "source": [
    "parte4_rio = parte4[parte4[\"municipio_fato\"] == \"Rio de Janeiro (Capital)\"]"
   ]
  },
  {
   "cell_type": "code",
   "execution_count": 128,
   "id": "915b9ced",
   "metadata": {},
   "outputs": [],
   "source": [
    "parte4_rio.drop(columns=[\"ano\",\"mes\", \"sexo\", \"cor\", \"idade\", \"municipio_vit\", \"bairro_vit\", \"relacao\", \"profissao\",\"data_nasc\",\"hora_com\", \"data_com\", \"conteudo\"], inplace=True)"
   ]
  },
  {
   "cell_type": "code",
   "execution_count": 129,
   "id": "6b604d83",
   "metadata": {},
   "outputs": [
    {
     "data": {
      "text/plain": [
       "Index(['controle', 'titulo_do', 'total_rbft', 'dp', 'cisp', 'data_fato',\n",
       "       'hora_fato', 'bairro_fato', 'municipio_fato', 'local'],\n",
       "      dtype='object')"
      ]
     },
     "execution_count": 129,
     "metadata": {},
     "output_type": "execute_result"
    }
   ],
   "source": [
    "parte1_rio.columns"
   ]
  },
  {
   "cell_type": "code",
   "execution_count": 133,
   "id": "56b3b9f5",
   "metadata": {},
   "outputs": [
    {
     "name": "stdout",
     "output_type": "stream",
     "text": [
      "(85219, 10) (453172, 10) (422852, 10) (369943, 10)\n"
     ]
    }
   ],
   "source": [
    "print(parte1_rio.shape, parte2_rio.shape, parte3_rio.shape,parte4_rio.shape)"
   ]
  },
  {
   "cell_type": "code",
   "execution_count": 134,
   "id": "6f0d2df4",
   "metadata": {},
   "outputs": [
    {
     "data": {
      "text/plain": [
       "60053071-2009    46\n",
       "72407701-2009    41\n",
       "47226011-2009    36\n",
       "86226421-2009    35\n",
       "52188241-2009    33\n",
       "                 ..\n",
       "72647201-2009     1\n",
       "74125391-2009     1\n",
       "75362851-2009     1\n",
       "75388951-2009     1\n",
       "03691091-2009     1\n",
       "Name: controle, Length: 62737, dtype: int64"
      ]
     },
     "execution_count": 134,
     "metadata": {},
     "output_type": "execute_result"
    }
   ],
   "source": [
    "parte1_rio.controle.value_counts()"
   ]
  },
  {
   "cell_type": "code",
   "execution_count": 135,
   "id": "254cfe0a",
   "metadata": {},
   "outputs": [
    {
     "data": {
      "text/plain": [
       "35068421-2011    14\n",
       "10620471-2011    11\n",
       "72367952-2010     9\n",
       "02519251-2013     8\n",
       "56054402-2013     8\n",
       "                 ..\n",
       "42376211-2011     1\n",
       "41393661-2011     1\n",
       "41189011-2011     1\n",
       "41185211-2011     1\n",
       "00431451-2014     1\n",
       "Name: controle, Length: 450679, dtype: int64"
      ]
     },
     "execution_count": 135,
     "metadata": {},
     "output_type": "execute_result"
    }
   ],
   "source": [
    "parte2_rio.controle.value_counts()"
   ]
  },
  {
   "cell_type": "code",
   "execution_count": 141,
   "id": "0505f47d",
   "metadata": {},
   "outputs": [
    {
     "name": "stderr",
     "output_type": "stream",
     "text": [
      "/Users/desireepetrilli/.pyenv/versions/3.8.12/envs/lewagon/lib/python3.8/site-packages/pandas/util/_decorators.py:311: SettingWithCopyWarning: \n",
      "A value is trying to be set on a copy of a slice from a DataFrame\n",
      "\n",
      "See the caveats in the documentation: https://pandas.pydata.org/pandas-docs/stable/user_guide/indexing.html#returning-a-view-versus-a-copy\n",
      "  return func(*args, **kwargs)\n"
     ]
    }
   ],
   "source": [
    "parte1_rio.drop_duplicates(inplace=True)"
   ]
  },
  {
   "cell_type": "code",
   "execution_count": 142,
   "id": "575cff43",
   "metadata": {},
   "outputs": [
    {
     "data": {
      "text/plain": [
       "59313421-2009    4\n",
       "11991661-2009    3\n",
       "90888181-2009    3\n",
       "92465581-2009    3\n",
       "38241261-2009    3\n",
       "                ..\n",
       "90900381-2009    1\n",
       "91615811-2009    1\n",
       "92048381-2009    1\n",
       "92407911-2009    1\n",
       "99709621-2009    1\n",
       "Name: controle, Length: 62737, dtype: int64"
      ]
     },
     "execution_count": 142,
     "metadata": {},
     "output_type": "execute_result"
    }
   ],
   "source": [
    "parte1_rio.controle.value_counts()"
   ]
  },
  {
   "cell_type": "markdown",
   "id": "5f18edd6",
   "metadata": {},
   "source": [
    "clean part1\n"
   ]
  },
  {
   "cell_type": "code",
   "execution_count": 205,
   "id": "6cc9bb5a",
   "metadata": {},
   "outputs": [
    {
     "name": "stderr",
     "output_type": "stream",
     "text": [
      "/Users/desireepetrilli/.pyenv/versions/3.8.12/envs/lewagon/lib/python3.8/site-packages/pandas/core/frame.py:4906: SettingWithCopyWarning: \n",
      "A value is trying to be set on a copy of a slice from a DataFrame\n",
      "\n",
      "See the caveats in the documentation: https://pandas.pydata.org/pandas-docs/stable/user_guide/indexing.html#returning-a-view-versus-a-copy\n",
      "  return super().drop(\n"
     ]
    }
   ],
   "source": [
    "parte1 = pd.read_csv(\"raw_data/parte1.csv\", sep=\";\", encoding='iso-8859-1')\n",
    "parte1_rio = parte1[parte1[\"municipio_fato\"] == \"Rio de Janeiro (Capital)\"]\n",
    "parte1_rio.drop(columns=[\"ano\",\"mes\", \"sexo\", \"cor\", \"idade\", \"municipio_vit\",\\\n",
    "                         \"bairro_vit\", \"relacao\", \"profissao\", \"aisp\", \"risp\", \\\n",
    "                         \"data_nasc\",\"hora_com\", \"data_com\", \"conteudo\"], inplace=True)"
   ]
  },
  {
   "cell_type": "code",
   "execution_count": 143,
   "id": "5074669b",
   "metadata": {},
   "outputs": [
    {
     "data": {
      "text/plain": [
       "(67447, 10)"
      ]
     },
     "execution_count": 143,
     "metadata": {},
     "output_type": "execute_result"
    }
   ],
   "source": [
    "\n",
    "parte1_rio.shape"
   ]
  },
  {
   "cell_type": "code",
   "execution_count": 145,
   "id": "41802093",
   "metadata": {
    "scrolled": true
   },
   "outputs": [
    {
     "name": "stderr",
     "output_type": "stream",
     "text": [
      "/Users/desireepetrilli/.pyenv/versions/3.8.12/envs/lewagon/lib/python3.8/site-packages/pandas/util/_decorators.py:311: SettingWithCopyWarning: \n",
      "A value is trying to be set on a copy of a slice from a DataFrame\n",
      "\n",
      "See the caveats in the documentation: https://pandas.pydata.org/pandas-docs/stable/user_guide/indexing.html#returning-a-view-versus-a-copy\n",
      "  return func(*args, **kwargs)\n"
     ]
    }
   ],
   "source": [
    "parte1_rio.drop_duplicates(subset=\"controle\", keep=\"first\", inplace=True)"
   ]
  },
  {
   "cell_type": "code",
   "execution_count": 146,
   "id": "62d6bb3f",
   "metadata": {},
   "outputs": [],
   "source": [
    "parte2_rio.drop_duplicates(subset=\"controle\", keep=\"first\", inplace=True)"
   ]
  },
  {
   "cell_type": "code",
   "execution_count": 147,
   "id": "38aba490",
   "metadata": {},
   "outputs": [],
   "source": [
    "parte3_rio.drop_duplicates(subset=\"controle\", keep=\"first\", inplace=True)"
   ]
  },
  {
   "cell_type": "code",
   "execution_count": 148,
   "id": "96580dc2",
   "metadata": {},
   "outputs": [],
   "source": [
    "parte4_rio.drop_duplicates(subset=\"controle\", keep=\"first\", inplace=True)"
   ]
  },
  {
   "cell_type": "code",
   "execution_count": 154,
   "id": "5e9ce4c9",
   "metadata": {},
   "outputs": [
    {
     "name": "stdout",
     "output_type": "stream",
     "text": [
      "(62737, 10) (450679, 10) (420974, 10) (368398, 10)\n"
     ]
    }
   ],
   "source": [
    "print(parte1_rio.shape, parte2_rio.shape, parte3_rio.shape, parte4_rio.shape)"
   ]
  },
  {
   "cell_type": "code",
   "execution_count": 159,
   "id": "6c9177ee",
   "metadata": {},
   "outputs": [],
   "source": [
    "rio_df = pd.concat([parte1_rio, parte2_rio, parte3_rio, parte4_rio])"
   ]
  },
  {
   "cell_type": "code",
   "execution_count": 161,
   "id": "fd8565e2",
   "metadata": {},
   "outputs": [
    {
     "data": {
      "text/plain": [
       "CENTRO                          66912\n",
       "sem informação                  50870\n",
       "Centro                          40046\n",
       "CAMPO GRANDE                    27716\n",
       "BANGU                           26605\n",
       "                                ...  \n",
       "MALLET  - REALENGO                  1\n",
       "PARQUE UNIÃO  -  BONSUCESSO.        1\n",
       "SANTA CRZU                          1\n",
       "CAMPP GRANDE                        1\n",
       "Praia do saco                       1\n",
       "Name: bairro_fato, Length: 15242, dtype: int64"
      ]
     },
     "execution_count": 161,
     "metadata": {},
     "output_type": "execute_result"
    }
   ],
   "source": [
    "rio_df.bairro_fato.value_counts()"
   ]
  },
  {
   "cell_type": "code",
   "execution_count": 171,
   "id": "fd085d65",
   "metadata": {},
   "outputs": [
    {
     "data": {
      "text/plain": [
       "32"
      ]
     },
     "execution_count": 171,
     "metadata": {},
     "output_type": "execute_result"
    }
   ],
   "source": [
    "len(pop.RegiaoAdministrativa.unique())"
   ]
  },
  {
   "cell_type": "code",
   "execution_count": 172,
   "id": "bdfe4c18",
   "metadata": {},
   "outputs": [
    {
     "data": {
      "text/plain": [
       "0     PRAIA DA BRISA/PEDRA DE GUARAT\n",
       "5                         SANTISSIMO\n",
       "9                     HONÓRIO GURGEL\n",
       "15                       VASCONCELOS\n",
       "19                      CAMPO GRANDE\n",
       "Name: bairro_fato, dtype: object"
      ]
     },
     "execution_count": 172,
     "metadata": {},
     "output_type": "execute_result"
    }
   ],
   "source": [
    "rio_df.bairro_fato.head()"
   ]
  },
  {
   "cell_type": "code",
   "execution_count": null,
   "id": "e62842c2",
   "metadata": {},
   "outputs": [],
   "source": []
  }
 ],
 "metadata": {
  "kernelspec": {
   "display_name": "Python 3 (ipykernel)",
   "language": "python",
   "name": "python3"
  },
  "language_info": {
   "codemirror_mode": {
    "name": "ipython",
    "version": 3
   },
   "file_extension": ".py",
   "mimetype": "text/x-python",
   "name": "python",
   "nbconvert_exporter": "python",
   "pygments_lexer": "ipython3",
   "version": "3.8.12"
  },
  "toc": {
   "base_numbering": 1,
   "nav_menu": {},
   "number_sections": true,
   "sideBar": true,
   "skip_h1_title": false,
   "title_cell": "Table of Contents",
   "title_sidebar": "Contents",
   "toc_cell": false,
   "toc_position": {},
   "toc_section_display": true,
   "toc_window_display": false
  }
 },
 "nbformat": 4,
 "nbformat_minor": 5
}
