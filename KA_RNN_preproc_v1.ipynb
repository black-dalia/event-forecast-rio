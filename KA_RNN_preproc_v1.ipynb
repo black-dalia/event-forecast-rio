{
 "cells": [
  {
   "cell_type": "code",
   "execution_count": 1,
   "id": "9e1ecc89",
   "metadata": {},
   "outputs": [],
   "source": [
    "import pandas as pd\n",
    "import numpy as np \n",
    "import matplotlib.pyplot as plt\n",
    "plt.style.use('ggplot')\n",
    "import seaborn as sns\n",
    "import datetime\n",
    "from datetime import date, timedelta\n"
   ]
  },
  {
   "cell_type": "code",
   "execution_count": 2,
   "id": "e3140dc0",
   "metadata": {},
   "outputs": [],
   "source": [
    "import clean\n",
    "import preproc\n"
   ]
  },
  {
   "cell_type": "code",
   "execution_count": 3,
   "id": "c557777c",
   "metadata": {},
   "outputs": [],
   "source": [
    "data1, data2, data3, data4 = clean.get_data()\n",
    "data = clean.clean_all(data1, data2, data3, data4, clean.get_bairros_data())"
   ]
  },
  {
   "cell_type": "code",
   "execution_count": 4,
   "id": "106a6598",
   "metadata": {},
   "outputs": [],
   "source": [
    "data.to_csv(\"data_cleaned.csv\")\n"
   ]
  },
  {
   "cell_type": "code",
   "execution_count": 5,
   "id": "024f5254",
   "metadata": {},
   "outputs": [],
   "source": [
    "preproc_data_n, preproc_data_rate = preproc.get_format(data)"
   ]
  },
  {
   "cell_type": "code",
   "execution_count": 6,
   "id": "57af2f77",
   "metadata": {},
   "outputs": [],
   "source": [
    "preproc_data_n.to_csv(\"preproc_data_n.csv\")\n",
    "preproc_data_rate.to_csv(\"preproc_data_rate.csv\")\n"
   ]
  },
  {
   "cell_type": "code",
   "execution_count": null,
   "id": "5fc7207c",
   "metadata": {},
   "outputs": [],
   "source": [
    "def get_train_test(df,n_sequences,length):\n",
    "    #split ordered dataset into train/test\n",
    "    len_ = int(0.8*df.shape[0])\n",
    "    df_train = df[:len_]\n",
    "    df_test = df[len_:]\n",
    "    \n",
    "    test_seq = math.floor(n_sequences/4)\n",
    "    \n",
    "    X, y = [], []\n",
    "    for i in range(n_sequences):\n",
    "        (xi, yi) = split_subsample_sequence(df_train, length)\n",
    "        X.append(xi)\n",
    "        y.append(yi)\n",
    "    X = np.array(X)\n",
    "    y = np.array(y)\n",
    "    \n",
    "    \n",
    "    \n",
    "    \n",
    "    \n",
    "    X_train, y_train = get_X_y(df_train, n_sequences, length)\n",
    "    X_test, y_test = get_X_y(df_test, test_seq, length)\n",
    "    \n",
    "    X_train = X_train.reshape(X_train.shape[0], X_train.shape[1],1)\n",
    "    X_test = X_test.reshape(X_test.shape[0], X_test.shape[1],1)\n",
    "    \n",
    "    return X_train, y_train, X_test, y_test"
   ]
  },
  {
   "cell_type": "code",
   "execution_count": null,
   "id": "c73a5839",
   "metadata": {},
   "outputs": [],
   "source": [
    "def get_X_y(df, n_sequences, length):\n",
    "    '''Return a list of samples (X, y)'''\n",
    "    X, y = [], []\n",
    "\n",
    "    for i in range(n_sequences):\n",
    "        (xi, yi) = split_subsample_sequence(df, length)\n",
    "        X.append(xi)\n",
    "        y.append(yi)\n",
    "        \n",
    "    X = np.array(X)\n",
    "    y = np.array(y)\n",
    "    return X, y"
   ]
  },
  {
   "cell_type": "code",
   "execution_count": null,
   "id": "edb740c0",
   "metadata": {},
   "outputs": [],
   "source": []
  },
  {
   "cell_type": "code",
   "execution_count": null,
   "id": "1eb98be6",
   "metadata": {},
   "outputs": [],
   "source": []
  },
  {
   "cell_type": "markdown",
   "id": "38387f19",
   "metadata": {},
   "source": [
    "# Univariate LSTM Preproc"
   ]
  },
  {
   "cell_type": "markdown",
   "id": "c03a241d",
   "metadata": {},
   "source": [
    "Creates train/test data for a single region"
   ]
  },
  {
   "cell_type": "code",
   "execution_count": 22,
   "id": "495d0516",
   "metadata": {},
   "outputs": [],
   "source": [
    "Centro_df = preproc.extract_ts(preproc_data_rate,\"Centro\")[\"y\"]"
   ]
  },
  {
   "cell_type": "code",
   "execution_count": 119,
   "id": "6e327c75",
   "metadata": {},
   "outputs": [],
   "source": [
    "def subsample_sequence(df, length):\n",
    "    \"\"\"\n",
    "    Given the initial dataframe `df`, return a shorter dataframe sequence of length `length`.\n",
    "    This shorter sequence should be selected at random\n",
    "    \"\"\"\n",
    "    last_possible = df.shape[0] - length\n",
    "    \n",
    "    random_start = np.random.randint(0, last_possible)\n",
    "    df_sample = df[random_start: random_start+length]\n",
    "\n",
    "    return df_sample"
   ]
  },
  {
   "cell_type": "code",
   "execution_count": 120,
   "id": "89e8bfd5",
   "metadata": {},
   "outputs": [],
   "source": [
    "def split_subsample_sequence(df, length):\n",
    "    '''Create one single random (X,y) pair'''\n",
    "    df_subsample = subsample_sequence(df, length)\n",
    "    pred_len = 3\n",
    "    y_sample = df_subsample.iloc[length-pred_len:]\n",
    "    \n",
    "    X_sample = df_subsample[0:length-pred_len]\n",
    "    X_sample = X_sample.values\n",
    "    return np.array(X_sample), np.array(y_sample)"
   ]
  },
  {
   "cell_type": "code",
   "execution_count": 121,
   "id": "18b25d40",
   "metadata": {},
   "outputs": [],
   "source": [
    "def get_X_y(df, n_sequences, length):\n",
    "    '''Return a list of samples (X, y)'''\n",
    "    X, y = [], []\n",
    "\n",
    "    for i in range(n_sequences):\n",
    "        (xi, yi) = split_subsample_sequence(df, length)\n",
    "        X.append(xi)\n",
    "        y.append(yi)\n",
    "        \n",
    "    X = np.array(X)\n",
    "    y = np.array(y)\n",
    "    return X, y"
   ]
  },
  {
   "cell_type": "code",
   "execution_count": 134,
   "id": "cbeaee66",
   "metadata": {},
   "outputs": [],
   "source": [
    "def get_X_y_all_AR(df, n_sequences, length):\n",
    "    '''Return a list of samples (X, y)'''\n",
    "    regions = list(df.columns.map(lambda x: x[1]))\n",
    "    X_list=[]\n",
    "    y_list=[]\n",
    "    for region in regions:\n",
    "        X, y = [], []\n",
    "        AR = preproc.extract_ts(df,region)[\"y\"]\n",
    "        for i in range(n_sequences):\n",
    "            (xi, yi) = split_subsample_sequence(AR, length)\n",
    "            X.append(xi)\n",
    "            y.append(yi)\n",
    "\n",
    "        X = np.array(X)\n",
    "        y = np.array(y)\n",
    "        X_list.append(X)\n",
    "        y_list.append(y)\n",
    "\n",
    "    X_all = np.concatenate(X_list[:])\n",
    "    y_all = np.concatenate(y_list[:])\n",
    "    \n",
    "    return X_all, y_all"
   ]
  },
  {
   "cell_type": "code",
   "execution_count": 135,
   "id": "0e55b62b",
   "metadata": {},
   "outputs": [],
   "source": [
    "import math\n",
    "def get_train_test_0(df,n_sequences,length):\n",
    "    '''Returns train and test data for X and y'''\n",
    "    len_ = int(0.8*df.shape[0])\n",
    "    df_train = df[:len_]\n",
    "    df_test = df[len_:]\n",
    "    \n",
    "    test_seq = math.floor(n_sequences/4)\n",
    "    \n",
    "    X_train, y_train = get_X_y(df_train, n_sequences, length)\n",
    "    X_test, y_test = get_X_y(df_test, test_seq, length)\n",
    "    \n",
    "    X_train = X_train.reshape(X_train.shape[0], X_train.shape[1],1)\n",
    "    X_test = X_test.reshape(X_test.shape[0], X_test.shape[1],1)\n",
    "    \n",
    "    return X_train, y_train, X_test, y_test"
   ]
  },
  {
   "cell_type": "code",
   "execution_count": 136,
   "id": "d1051172",
   "metadata": {},
   "outputs": [],
   "source": [
    "def get_train_test_1(data,n_sequences,length,region):\n",
    "    '''Returns train and test data for X and y'''\n",
    "    df = preproc.extract_ts(data,region)[\"y\"]\n",
    "    len_ = int(0.8*df.shape[0])\n",
    "    df_train = df[:len_]\n",
    "    df_test = df[len_:]\n",
    "    \n",
    "    test_seq = math.floor(n_sequences/4)\n",
    "    \n",
    "    X_train, y_train = get_X_y(df_train, n_sequences, length)\n",
    "    X_test, y_test = get_X_y(df_test, test_seq, length)\n",
    "    \n",
    "    X_train = X_train.reshape(X_train.shape[0], X_train.shape[1],1)\n",
    "    X_test = X_test.reshape(X_test.shape[0], X_test.shape[1],1)\n",
    "    \n",
    "    return X_train, y_train, X_test, y_test"
   ]
  },
  {
   "cell_type": "code",
   "execution_count": 137,
   "id": "1d4158a5",
   "metadata": {},
   "outputs": [],
   "source": [
    "def get_train_test_2(data,n_sequences,length,region):\n",
    "    '''Returns train and test data for X and y'''\n",
    "    \n",
    "    if region == \"all_AR\":\n",
    "        df = data\n",
    "        len_ = int(0.8*df.shape[0])\n",
    "        df_train = df[:len_]\n",
    "        df_test = df[len_:]\n",
    "    \n",
    "        test_seq = math.floor(n_sequences/4)\n",
    "        \n",
    "        X_train, y_train = get_X_y_all_AR(df_train, n_sequences, length)\n",
    "        X_test, y_test = get_X_y_all_AR(df_test, test_seq, length)\n",
    "        \n",
    "    else:\n",
    "        df = preproc.extract_ts(data,region)[\"y\"]\n",
    "        len_ = int(0.8*df.shape[0])\n",
    "        df_train = df[:len_]\n",
    "        df_test = df[len_:]\n",
    "    \n",
    "        test_seq = math.floor(n_sequences/4)\n",
    "        \n",
    "        X_train, y_train = get_X_y(df_train, n_sequences, length)\n",
    "        X_test, y_test = get_X_y(df_test, test_seq, length)\n",
    "        \n",
    "    X_train = X_train.reshape(X_train.shape[0], X_train.shape[1],1)\n",
    "    X_test = X_test.reshape(X_test.shape[0], X_test.shape[1],1)\n",
    "    \n",
    "    return X_train, y_train, X_test, y_test"
   ]
  },
  {
   "cell_type": "code",
   "execution_count": 138,
   "id": "931a0842",
   "metadata": {},
   "outputs": [],
   "source": [
    "#output\n",
    "X_train, y_train, X_test, y_test = get_train_test_2(preproc_data_rate, 2000, 200, \"Centro\")"
   ]
  },
  {
   "cell_type": "code",
   "execution_count": 139,
   "id": "1af4883b",
   "metadata": {},
   "outputs": [
    {
     "data": {
      "text/plain": [
       "((2000, 197, 1), (2000, 3), (500, 197, 1), (500, 3))"
      ]
     },
     "execution_count": 139,
     "metadata": {},
     "output_type": "execute_result"
    }
   ],
   "source": [
    "X_train.shape, y_train.shape, X_test.shape, y_test.shape"
   ]
  },
  {
   "cell_type": "code",
   "execution_count": null,
   "id": "c2909aaf",
   "metadata": {},
   "outputs": [],
   "source": []
  },
  {
   "cell_type": "markdown",
   "id": "b435ec95",
   "metadata": {},
   "source": [
    "IGNORE BELOW"
   ]
  },
  {
   "cell_type": "code",
   "execution_count": 140,
   "id": "5a0e4ddc",
   "metadata": {},
   "outputs": [],
   "source": [
    "df_train = preproc_data_rate\n",
    "n_sequences = 2000\n",
    "length = 200\n",
    "\n",
    "X_train, y_train = get_X_y_all_AR(df_train, n_sequences, length)"
   ]
  },
  {
   "cell_type": "markdown",
   "id": "928e8a7d",
   "metadata": {
    "heading_collapsed": true
   },
   "source": [
    "## Model 2"
   ]
  },
  {
   "cell_type": "code",
   "execution_count": 58,
   "id": "7d6204d3",
   "metadata": {
    "hidden": true
   },
   "outputs": [
    {
     "data": {
      "text/plain": [
       "((2000, 197), (2000, 3))"
      ]
     },
     "execution_count": 58,
     "metadata": {},
     "output_type": "execute_result"
    }
   ],
   "source": [
    "get_X_y(Centro_df, 2000, 200)[0].shape, get_X_y(Centro_df, 2000, 200)[1].shape"
   ]
  },
  {
   "cell_type": "code",
   "execution_count": 55,
   "id": "40ff6a52",
   "metadata": {
    "hidden": true
   },
   "outputs": [
    {
     "data": {
      "text/plain": [
       "2"
      ]
     },
     "execution_count": 55,
     "metadata": {},
     "output_type": "execute_result"
    }
   ],
   "source": [
    "len(get_X_y(Centro_df, 2000, 200))"
   ]
  },
  {
   "cell_type": "code",
   "execution_count": 31,
   "id": "c264062f",
   "metadata": {
    "hidden": true
   },
   "outputs": [],
   "source": [
    "regions = list(preproc_data_rate.columns.map(lambda x: x[1]))"
   ]
  },
  {
   "cell_type": "code",
   "execution_count": 75,
   "id": "bead6701",
   "metadata": {
    "hidden": true
   },
   "outputs": [
    {
     "data": {
      "text/plain": [
       "(60000, 197)"
      ]
     },
     "execution_count": 75,
     "metadata": {},
     "output_type": "execute_result"
    }
   ],
   "source": []
  },
  {
   "cell_type": "code",
   "execution_count": 13,
   "id": "a5220d87",
   "metadata": {
    "hidden": true
   },
   "outputs": [
    {
     "name": "stderr",
     "output_type": "stream",
     "text": [
      "/Users/kavithaapp/.pyenv/versions/3.8.12/envs/lewagon/lib/python3.8/site-packages/pandas/core/generic.py:5516: SettingWithCopyWarning: \n",
      "A value is trying to be set on a copy of a slice from a DataFrame.\n",
      "Try using .loc[row_indexer,col_indexer] = value instead\n",
      "\n",
      "See the caveats in the documentation: https://pandas.pydata.org/pandas-docs/stable/user_guide/indexing.html#returning-a-view-versus-a-copy\n",
      "  self[name] = value\n"
     ]
    }
   ],
   "source": [
    "Centro_df = preproc.extract_ts(preproc_data_rate,\"Centro\")[\"y\"]\n",
    "Bangu_df = preproc.extract_ts(preproc_data_rate,\"Bangu\")[\"y\"]"
   ]
  },
  {
   "cell_type": "code",
   "execution_count": 90,
   "id": "f90f3d17",
   "metadata": {
    "hidden": true
   },
   "outputs": [
    {
     "ename": "TypeError",
     "evalue": "get_train_test() missing 3 required positional arguments: 'n_sequences', 'length', and 'region'",
     "output_type": "error",
     "traceback": [
      "\u001b[0;31m---------------------------------------------------------------------------\u001b[0m",
      "\u001b[0;31mTypeError\u001b[0m                                 Traceback (most recent call last)",
      "\u001b[0;32m/var/folders/9s/md4xnzf949vc59xqd_slzxy00000gn/T/ipykernel_72960/2551576878.py\u001b[0m in \u001b[0;36m<module>\u001b[0;34m\u001b[0m\n\u001b[0;32m----> 1\u001b[0;31m \u001b[0mget_train_test\u001b[0m\u001b[0;34m(\u001b[0m\u001b[0mBangu_df\u001b[0m\u001b[0;34m)\u001b[0m\u001b[0;34m\u001b[0m\u001b[0;34m\u001b[0m\u001b[0m\n\u001b[0m",
      "\u001b[0;31mTypeError\u001b[0m: get_train_test() missing 3 required positional arguments: 'n_sequences', 'length', and 'region'"
     ]
    }
   ],
   "source": []
  },
  {
   "cell_type": "code",
   "execution_count": 14,
   "id": "deebdc27",
   "metadata": {
    "hidden": true
   },
   "outputs": [],
   "source": [
    "def subsample_sequence_mult(df, length):\n",
    "    last_possible = df.shape[0] - length\n",
    "    \n",
    "    random_start = np.random.randint(0, last_possible)\n",
    "    df_sample = df[random_start: random_start+length]\n",
    "\n",
    "    return df_sample"
   ]
  },
  {
   "cell_type": "code",
   "execution_count": 18,
   "id": "a989ce28",
   "metadata": {
    "hidden": true
   },
   "outputs": [
    {
     "data": {
      "text/plain": [
       "(200,)"
      ]
     },
     "execution_count": 18,
     "metadata": {},
     "output_type": "execute_result"
    }
   ],
   "source": [
    "subsample_sequence_mult(Bangu_df,200).shape"
   ]
  },
  {
   "cell_type": "code",
   "execution_count": null,
   "id": "047e6270",
   "metadata": {
    "hidden": true
   },
   "outputs": [],
   "source": []
  },
  {
   "cell_type": "code",
   "execution_count": null,
   "id": "c55afe1e",
   "metadata": {
    "hidden": true
   },
   "outputs": [],
   "source": []
  },
  {
   "cell_type": "code",
   "execution_count": null,
   "id": "d7820cbe",
   "metadata": {
    "hidden": true
   },
   "outputs": [],
   "source": []
  },
  {
   "cell_type": "code",
   "execution_count": null,
   "id": "a43233c0",
   "metadata": {
    "hidden": true
   },
   "outputs": [],
   "source": []
  },
  {
   "cell_type": "code",
   "execution_count": null,
   "id": "c2dacf58",
   "metadata": {
    "hidden": true
   },
   "outputs": [],
   "source": []
  },
  {
   "cell_type": "code",
   "execution_count": null,
   "id": "e5cf057f",
   "metadata": {
    "hidden": true
   },
   "outputs": [],
   "source": []
  },
  {
   "cell_type": "code",
   "execution_count": null,
   "id": "fb1e40eb",
   "metadata": {
    "hidden": true
   },
   "outputs": [],
   "source": []
  },
  {
   "cell_type": "code",
   "execution_count": null,
   "id": "11891392",
   "metadata": {
    "hidden": true
   },
   "outputs": [],
   "source": []
  },
  {
   "cell_type": "markdown",
   "id": "32f6bc61",
   "metadata": {
    "hidden": true
   },
   "source": [
    "### Dummy Model test"
   ]
  },
  {
   "cell_type": "markdown",
   "id": "cb8e17bd",
   "metadata": {
    "hidden": true
   },
   "source": [
    "- ignore below\n",
    "- below includes working out and dummy model to ensure output works"
   ]
  },
  {
   "cell_type": "code",
   "execution_count": 24,
   "id": "0ff0177a",
   "metadata": {
    "hidden": true
   },
   "outputs": [],
   "source": [
    "from tensorflow.keras import models\n",
    "from tensorflow.keras import layers\n",
    "from tensorflow.keras import optimizers, metrics\n",
    "from tensorflow.keras.layers.experimental.preprocessing import Normalization\n",
    "\n",
    "def init_model():\n",
    "    metric = metrics.MAPE\n",
    "    opt = optimizers.RMSprop(learning_rate=0.01)\n",
    "    \n",
    "    #normalizer = Normalization()\n",
    "    #normalizer.adapt(X_train)\n",
    "\n",
    "    model = models.Sequential()\n",
    "    model.add(layers.LSTM(20, activation='tanh', input_shape=(20,1)))\n",
    "    model.add(layers.Dense(10, activation='relu'))\n",
    "    model.add(layers.Dense(5, activation='relu'))\n",
    "    model.add(layers.Dense(3, activation='linear'))\n",
    "    \n",
    "    model.compile(loss='mse', \n",
    "                  optimizer=opt, \n",
    "                  metrics=[metric])\n",
    "    \n",
    "    return model"
   ]
  },
  {
   "cell_type": "code",
   "execution_count": 25,
   "id": "581810a8",
   "metadata": {
    "hidden": true,
    "scrolled": false
   },
   "outputs": [
    {
     "name": "stdout",
     "output_type": "stream",
     "text": [
      "Model: \"sequential\"\n",
      "_________________________________________________________________\n",
      "Layer (type)                 Output Shape              Param #   \n",
      "=================================================================\n",
      "lstm (LSTM)                  (None, 20)                1760      \n",
      "_________________________________________________________________\n",
      "dense (Dense)                (None, 10)                210       \n",
      "_________________________________________________________________\n",
      "dense_1 (Dense)              (None, 5)                 55        \n",
      "_________________________________________________________________\n",
      "dense_2 (Dense)              (None, 3)                 18        \n",
      "=================================================================\n",
      "Total params: 2,043\n",
      "Trainable params: 2,043\n",
      "Non-trainable params: 0\n",
      "_________________________________________________________________\n"
     ]
    },
    {
     "name": "stderr",
     "output_type": "stream",
     "text": [
      "2022-03-04 09:41:35.774535: I tensorflow/core/platform/cpu_feature_guard.cc:142] This TensorFlow binary is optimized with oneAPI Deep Neural Network Library (oneDNN) to use the following CPU instructions in performance-critical operations:  SSE4.2\n",
      "To enable them in other operations, rebuild TensorFlow with the appropriate compiler flags.\n"
     ]
    }
   ],
   "source": [
    "model = init_model()\n",
    "model.summary()"
   ]
  },
  {
   "cell_type": "code",
   "execution_count": 26,
   "id": "3423d2bc",
   "metadata": {
    "hidden": true
   },
   "outputs": [
    {
     "name": "stderr",
     "output_type": "stream",
     "text": [
      "2022-03-04 09:41:35.964029: I tensorflow/compiler/mlir/mlir_graph_optimization_pass.cc:176] None of the MLIR Optimization Passes are enabled (registered 2)\n"
     ]
    },
    {
     "name": "stdout",
     "output_type": "stream",
     "text": [
      "WARNING:tensorflow:Model was constructed with shape (None, 20, 1) for input KerasTensor(type_spec=TensorSpec(shape=(None, 20, 1), dtype=tf.float32, name='lstm_input'), name='lstm_input', description=\"created by layer 'lstm_input'\"), but it was called on an input with incompatible shape (64, 177, 1).\n",
      "WARNING:tensorflow:Model was constructed with shape (None, 20, 1) for input KerasTensor(type_spec=TensorSpec(shape=(None, 20, 1), dtype=tf.float32, name='lstm_input'), name='lstm_input', description=\"created by layer 'lstm_input'\"), but it was called on an input with incompatible shape (64, 177, 1).\n",
      "WARNING:tensorflow:Model was constructed with shape (None, 20, 1) for input KerasTensor(type_spec=TensorSpec(shape=(None, 20, 1), dtype=tf.float32, name='lstm_input'), name='lstm_input', description=\"created by layer 'lstm_input'\"), but it was called on an input with incompatible shape (None, 177, 1).\n",
      "Restoring model weights from the end of the best epoch.\n",
      "Epoch 00021: early stopping\n"
     ]
    }
   ],
   "source": [
    "from tensorflow.keras.callbacks import EarlyStopping\n",
    "es = EarlyStopping(monitor='val_loss', verbose=1, patience=10, restore_best_weights=True)\n",
    "\n",
    "history = model.fit(X_train, y_train,\n",
    "            validation_split=0.2,\n",
    "            epochs=1000, \n",
    "            batch_size=64,\n",
    "            callbacks=[es], verbose=0)"
   ]
  },
  {
   "cell_type": "code",
   "execution_count": 27,
   "id": "441efcb5",
   "metadata": {
    "hidden": true
   },
   "outputs": [
    {
     "name": "stdout",
     "output_type": "stream",
     "text": [
      "WARNING:tensorflow:Model was constructed with shape (None, 20, 1) for input KerasTensor(type_spec=TensorSpec(shape=(None, 20, 1), dtype=tf.float32, name='lstm_input'), name='lstm_input', description=\"created by layer 'lstm_input'\"), but it was called on an input with incompatible shape (None, 177, 1).\n"
     ]
    },
    {
     "data": {
      "image/png": "[encoded data removed]",
      "text/plain": [
       "<Figure size 1224x216 with 5 Axes>"
      ]
     },
     "metadata": {},
     "output_type": "display_data"
    }
   ],
   "source": [
    "plt.figure(figsize=(17,3))\n",
    "for id_plot, id_seq in enumerate(np.random.randint(low=0,high=len(X_test),size=5)):\n",
    "    plt.subplot(1, 5, id_plot+1)\n",
    "    plt.plot(y_test[id_seq], label='truth')\n",
    "    plt.plot(model.predict(X_test)[id_seq], label='pred')\n",
    "    plt.ylim(ymin=0)\n",
    "plt.legend();"
   ]
  },
  {
   "cell_type": "code",
   "execution_count": 28,
   "id": "6f969450",
   "metadata": {
    "hidden": true
   },
   "outputs": [
    {
     "data": {
      "text/plain": [
       "<bound method Model.predict of <tensorflow.python.keras.engine.sequential.Sequential object at 0x10ec3b3d0>>"
      ]
     },
     "execution_count": 28,
     "metadata": {},
     "output_type": "execute_result"
    }
   ],
   "source": [
    "model.predict"
   ]
  },
  {
   "cell_type": "code",
   "execution_count": 29,
   "id": "b2dd49bf",
   "metadata": {
    "hidden": true
   },
   "outputs": [
    {
     "data": {
      "text/plain": [
       "[<matplotlib.lines.Line2D at 0x25dd80070>]"
      ]
     },
     "execution_count": 29,
     "metadata": {},
     "output_type": "execute_result"
    },
    {
     "data": {
      "image/png": "[encoded data removed]",
      "text/plain": [
       "<Figure size 432x288 with 1 Axes>"
      ]
     },
     "metadata": {},
     "output_type": "display_data"
    }
   ],
   "source": [
    "import matplotlib.pyplot as plt\n",
    "plt.plot(history.history['mean_absolute_percentage_error'])\n",
    "plt.plot(history.history['val_mean_absolute_percentage_error'])"
   ]
  },
  {
   "cell_type": "code",
   "execution_count": null,
   "id": "f3727910",
   "metadata": {
    "hidden": true
   },
   "outputs": [],
   "source": []
  },
  {
   "cell_type": "markdown",
   "id": "8243ddf9",
   "metadata": {
    "heading_collapsed": true,
    "hidden": true
   },
   "source": [
    "### Model TK"
   ]
  },
  {
   "cell_type": "code",
   "execution_count": null,
   "id": "dc60b997",
   "metadata": {
    "hidden": true
   },
   "outputs": [],
   "source": []
  },
  {
   "cell_type": "code",
   "execution_count": 31,
   "id": "ad0ee3b2",
   "metadata": {
    "hidden": true
   },
   "outputs": [],
   "source": [
    "# Loading X_train/test, y_train/test for each AR in a global dictionnary\n",
    "\n",
    "#AR_list = preproc_data_rate.columns.levels[1].tolist()\n",
    "#all_data = {}\n",
    "\n",
    "#for AR in AR_list:\n",
    "#    data = get_train_test(preproc_data_rate, 2000, 200)\n",
    "#    all_data[AR] = data"
   ]
  },
  {
   "cell_type": "code",
   "execution_count": null,
   "id": "37a66e7f",
   "metadata": {
    "hidden": true
   },
   "outputs": [],
   "source": [
    "def init_model(AR):\n",
    "    metric = metrics.MAPE\n",
    "    opt = optimizers.RMSprop(learning_rate=0.005)\n",
    "    \n",
    "    model = models.Sequential()\n",
    "    model.add(layers.LSTM(30, return_sequences=True, activation='tanh'))\n",
    "    model.add(layers.LSTM(10, activation='tanh'))\n",
    "    model.add(layers.Dense(5, activation='relu'))\n",
    "    model.add(layers.Dense(31, activation='linear'))\n",
    "    \n",
    "    model.compile(loss='mse', \n",
    "                  optimizer=opt, \n",
    "                  metrics=[metric])\n",
    "    \n",
    "    return model"
   ]
  },
  {
   "cell_type": "code",
   "execution_count": null,
   "id": "62dd4c80",
   "metadata": {
    "hidden": true
   },
   "outputs": [],
   "source": [
    "# Parameters\n",
    "# def get_parameters(): \n",
    "es = EarlyStopping(monitor='val_loss', verbose=1, patience=5, restore_best_weights=True)\n",
    "\n",
    "# Fitting the model\n",
    "def fit(model, AR):\n",
    "    hist = model.fit(all_data[AR][0], all_data[AR][1],\n",
    "            validation_split=0.3,\n",
    "            epochs=5, \n",
    "            batch_size=32,\n",
    "            callbacks=[es], verbose=0)\n",
    "    return hist\n",
    "\n",
    "# Evaluating the model \n",
    "def evaluate(hist, AR):\n",
    "    results = hist.model.evaluate(all_data[AR][2], all_data[AR][3])\n",
    "    return results\n",
    "\n",
    "# All-in-1\n",
    "def modelling(AR):\n",
    "    results = evaluate(fit(init_model(AR), AR), AR)\n",
    "    return results"
   ]
  },
  {
   "cell_type": "code",
   "execution_count": null,
   "id": "6ee40b12",
   "metadata": {
    "hidden": true
   },
   "outputs": [],
   "source": [
    "model = init_model('Centro')\n",
    "fitted_model = fit(model, 'Centro')"
   ]
  },
  {
   "cell_type": "code",
   "execution_count": null,
   "id": "28dd6459",
   "metadata": {
    "hidden": true
   },
   "outputs": [],
   "source": []
  },
  {
   "cell_type": "code",
   "execution_count": null,
   "id": "558f637a",
   "metadata": {
    "hidden": true
   },
   "outputs": [],
   "source": []
  },
  {
   "cell_type": "code",
   "execution_count": null,
   "id": "2d745e13",
   "metadata": {
    "hidden": true
   },
   "outputs": [],
   "source": []
  },
  {
   "cell_type": "code",
   "execution_count": null,
   "id": "db0083b7",
   "metadata": {
    "hidden": true
   },
   "outputs": [],
   "source": []
  },
  {
   "cell_type": "code",
   "execution_count": null,
   "id": "cae2667b",
   "metadata": {
    "hidden": true
   },
   "outputs": [],
   "source": []
  },
  {
   "cell_type": "code",
   "execution_count": null,
   "id": "5ff4aaf7",
   "metadata": {
    "hidden": true
   },
   "outputs": [],
   "source": []
  },
  {
   "cell_type": "code",
   "execution_count": null,
   "id": "00cf8cb5",
   "metadata": {
    "hidden": true
   },
   "outputs": [],
   "source": []
  },
  {
   "cell_type": "code",
   "execution_count": null,
   "id": "5320c5e6",
   "metadata": {
    "hidden": true
   },
   "outputs": [],
   "source": []
  },
  {
   "cell_type": "code",
   "execution_count": null,
   "id": "d6b870a9",
   "metadata": {
    "hidden": true
   },
   "outputs": [],
   "source": []
  },
  {
   "cell_type": "code",
   "execution_count": null,
   "id": "1dc30c19",
   "metadata": {
    "hidden": true
   },
   "outputs": [],
   "source": []
  },
  {
   "cell_type": "code",
   "execution_count": null,
   "id": "4434ca42",
   "metadata": {
    "hidden": true
   },
   "outputs": [],
   "source": []
  },
  {
   "cell_type": "code",
   "execution_count": null,
   "id": "eb18b731",
   "metadata": {
    "hidden": true
   },
   "outputs": [],
   "source": []
  },
  {
   "cell_type": "code",
   "execution_count": null,
   "id": "c4326fa6",
   "metadata": {
    "hidden": true
   },
   "outputs": [],
   "source": []
  },
  {
   "cell_type": "markdown",
   "id": "4b3ebd1d",
   "metadata": {
    "heading_collapsed": true
   },
   "source": [
    "# Multivariate LSTM Preproc - incomplete"
   ]
  },
  {
   "cell_type": "code",
   "execution_count": 24,
   "id": "46c96cbd",
   "metadata": {
    "hidden": true
   },
   "outputs": [],
   "source": [
    "##not finished..."
   ]
  },
  {
   "cell_type": "code",
   "execution_count": 25,
   "id": "be3ae7cc",
   "metadata": {
    "hidden": true
   },
   "outputs": [],
   "source": [
    "def get_mult_train_test(df,n_sequences,length):\n",
    "    '''Returns train and test data for X and y'''\n",
    "    len_ = int(0.8*df.shape[0])\n",
    "    df_train = df[:len_]\n",
    "    df_test = df[len_:]\n",
    "    \n",
    "    test_seq = math.floor(n_sequences/4)\n",
    "    \n",
    "    X_train, y_train = get_X_y(df_train, n_sequences, length)\n",
    "    X_test, y_test = get_X_y(df_test, test_seq, length)\n",
    "    \n",
    "    X_train = X_train.reshape(X_train.shape[0], X_train.shape[1],1)\n",
    "    X_test = X_test.reshape(X_test.shape[0], X_test.shape[1],1)\n",
    "    \n",
    "    return X_train, y_train, X_test, y_test"
   ]
  },
  {
   "cell_type": "code",
   "execution_count": 78,
   "id": "b2ba26da",
   "metadata": {
    "hidden": true
   },
   "outputs": [
    {
     "data": {
      "text/html": [
       "<div>\n",
       "<style scoped>\n",
       "    .dataframe tbody tr th:only-of-type {\n",
       "        vertical-align: middle;\n",
       "    }\n",
       "\n",
       "    .dataframe tbody tr th {\n",
       "        vertical-align: top;\n",
       "    }\n",
       "\n",
       "    .dataframe thead tr th {\n",
       "        text-align: left;\n",
       "    }\n",
       "\n",
       "    .dataframe thead tr:last-of-type th {\n",
       "        text-align: right;\n",
       "    }\n",
       "</style>\n",
       "<table border=\"1\" class=\"dataframe\">\n",
       "  <thead>\n",
       "    <tr>\n",
       "      <th></th>\n",
       "      <th colspan=\"21\" halign=\"left\">nb_crimes</th>\n",
       "    </tr>\n",
       "    <tr>\n",
       "      <th>AR</th>\n",
       "      <th>Anchieta</th>\n",
       "      <th>Bangu</th>\n",
       "      <th>Barra da Tijuca</th>\n",
       "      <th>Botafogo</th>\n",
       "      <th>Campo Grande</th>\n",
       "      <th>Centro</th>\n",
       "      <th>Cidade de Deus</th>\n",
       "      <th>Complexo do Alemao</th>\n",
       "      <th>Copacabana</th>\n",
       "      <th>Guaratiba</th>\n",
       "      <th>...</th>\n",
       "      <th>Portuaria</th>\n",
       "      <th>Ramos</th>\n",
       "      <th>Realengo</th>\n",
       "      <th>Rio Comprido</th>\n",
       "      <th>Rocinha</th>\n",
       "      <th>Santa Cruz</th>\n",
       "      <th>Santa Teresa</th>\n",
       "      <th>Sao Cristovao</th>\n",
       "      <th>Tijuca</th>\n",
       "      <th>Vila Isabel</th>\n",
       "    </tr>\n",
       "    <tr>\n",
       "      <th>Date</th>\n",
       "      <th></th>\n",
       "      <th></th>\n",
       "      <th></th>\n",
       "      <th></th>\n",
       "      <th></th>\n",
       "      <th></th>\n",
       "      <th></th>\n",
       "      <th></th>\n",
       "      <th></th>\n",
       "      <th></th>\n",
       "      <th></th>\n",
       "      <th></th>\n",
       "      <th></th>\n",
       "      <th></th>\n",
       "      <th></th>\n",
       "      <th></th>\n",
       "      <th></th>\n",
       "      <th></th>\n",
       "      <th></th>\n",
       "      <th></th>\n",
       "      <th></th>\n",
       "    </tr>\n",
       "  </thead>\n",
       "  <tbody>\n",
       "    <tr>\n",
       "      <th>2008-12-31</th>\n",
       "      <td>0.025522</td>\n",
       "      <td>0.009079</td>\n",
       "      <td>0.011007</td>\n",
       "      <td>0.000000</td>\n",
       "      <td>0.010674</td>\n",
       "      <td>0.066617</td>\n",
       "      <td>0.000000</td>\n",
       "      <td>0.000000</td>\n",
       "      <td>0.034691</td>\n",
       "      <td>0.050378</td>\n",
       "      <td>...</td>\n",
       "      <td>0.000000</td>\n",
       "      <td>0.006877</td>\n",
       "      <td>0.026449</td>\n",
       "      <td>0.015969</td>\n",
       "      <td>0.000000</td>\n",
       "      <td>0.002863</td>\n",
       "      <td>0.057947</td>\n",
       "      <td>0.052674</td>\n",
       "      <td>0.006297</td>\n",
       "      <td>0.000000</td>\n",
       "    </tr>\n",
       "    <tr>\n",
       "      <th>2009-01-01</th>\n",
       "      <td>0.063703</td>\n",
       "      <td>0.047398</td>\n",
       "      <td>0.052289</td>\n",
       "      <td>0.057072</td>\n",
       "      <td>0.066402</td>\n",
       "      <td>0.103458</td>\n",
       "      <td>0.198661</td>\n",
       "      <td>0.000000</td>\n",
       "      <td>0.070387</td>\n",
       "      <td>0.083396</td>\n",
       "      <td>...</td>\n",
       "      <td>0.029703</td>\n",
       "      <td>0.062168</td>\n",
       "      <td>0.046459</td>\n",
       "      <td>0.114169</td>\n",
       "      <td>0.014499</td>\n",
       "      <td>0.062111</td>\n",
       "      <td>0.000000</td>\n",
       "      <td>0.072225</td>\n",
       "      <td>0.012807</td>\n",
       "      <td>0.053311</td>\n",
       "    </tr>\n",
       "    <tr>\n",
       "      <th>2009-01-02</th>\n",
       "      <td>0.031852</td>\n",
       "      <td>0.015799</td>\n",
       "      <td>0.010458</td>\n",
       "      <td>0.009512</td>\n",
       "      <td>0.045433</td>\n",
       "      <td>0.206917</td>\n",
       "      <td>0.000000</td>\n",
       "      <td>0.000000</td>\n",
       "      <td>0.056310</td>\n",
       "      <td>0.015163</td>\n",
       "      <td>...</td>\n",
       "      <td>0.000000</td>\n",
       "      <td>0.034538</td>\n",
       "      <td>0.025811</td>\n",
       "      <td>0.016310</td>\n",
       "      <td>0.000000</td>\n",
       "      <td>0.028232</td>\n",
       "      <td>0.192864</td>\n",
       "      <td>0.018056</td>\n",
       "      <td>0.025613</td>\n",
       "      <td>0.038079</td>\n",
       "    </tr>\n",
       "    <tr>\n",
       "      <th>2009-01-03</th>\n",
       "      <td>0.006370</td>\n",
       "      <td>0.040626</td>\n",
       "      <td>0.017430</td>\n",
       "      <td>0.014268</td>\n",
       "      <td>0.027959</td>\n",
       "      <td>0.103458</td>\n",
       "      <td>0.198661</td>\n",
       "      <td>0.000000</td>\n",
       "      <td>0.042232</td>\n",
       "      <td>0.037907</td>\n",
       "      <td>...</td>\n",
       "      <td>0.059406</td>\n",
       "      <td>0.041445</td>\n",
       "      <td>0.041297</td>\n",
       "      <td>0.048929</td>\n",
       "      <td>0.014499</td>\n",
       "      <td>0.014116</td>\n",
       "      <td>0.096432</td>\n",
       "      <td>0.054169</td>\n",
       "      <td>0.019210</td>\n",
       "      <td>0.015232</td>\n",
       "    </tr>\n",
       "    <tr>\n",
       "      <th>2009-01-04</th>\n",
       "      <td>0.006370</td>\n",
       "      <td>0.029341</td>\n",
       "      <td>0.006972</td>\n",
       "      <td>0.014268</td>\n",
       "      <td>0.033201</td>\n",
       "      <td>0.206917</td>\n",
       "      <td>0.099331</td>\n",
       "      <td>0.000000</td>\n",
       "      <td>0.035194</td>\n",
       "      <td>0.015163</td>\n",
       "      <td>...</td>\n",
       "      <td>0.000000</td>\n",
       "      <td>0.034538</td>\n",
       "      <td>0.036135</td>\n",
       "      <td>0.114169</td>\n",
       "      <td>0.000000</td>\n",
       "      <td>0.042349</td>\n",
       "      <td>0.000000</td>\n",
       "      <td>0.126394</td>\n",
       "      <td>0.012807</td>\n",
       "      <td>0.007616</td>\n",
       "    </tr>\n",
       "    <tr>\n",
       "      <th>...</th>\n",
       "      <td>...</td>\n",
       "      <td>...</td>\n",
       "      <td>...</td>\n",
       "      <td>...</td>\n",
       "      <td>...</td>\n",
       "      <td>...</td>\n",
       "      <td>...</td>\n",
       "      <td>...</td>\n",
       "      <td>...</td>\n",
       "      <td>...</td>\n",
       "      <td>...</td>\n",
       "      <td>...</td>\n",
       "      <td>...</td>\n",
       "      <td>...</td>\n",
       "      <td>...</td>\n",
       "      <td>...</td>\n",
       "      <td>...</td>\n",
       "      <td>...</td>\n",
       "      <td>...</td>\n",
       "      <td>...</td>\n",
       "      <td>...</td>\n",
       "    </tr>\n",
       "    <tr>\n",
       "      <th>2019-12-27</th>\n",
       "      <td>0.031555</td>\n",
       "      <td>0.017175</td>\n",
       "      <td>0.028888</td>\n",
       "      <td>0.082877</td>\n",
       "      <td>0.016165</td>\n",
       "      <td>1.117004</td>\n",
       "      <td>0.000000</td>\n",
       "      <td>0.000000</td>\n",
       "      <td>0.073479</td>\n",
       "      <td>0.007922</td>\n",
       "      <td>...</td>\n",
       "      <td>0.108767</td>\n",
       "      <td>0.036309</td>\n",
       "      <td>0.047438</td>\n",
       "      <td>0.060599</td>\n",
       "      <td>0.000000</td>\n",
       "      <td>0.007407</td>\n",
       "      <td>0.033653</td>\n",
       "      <td>0.071630</td>\n",
       "      <td>0.091264</td>\n",
       "      <td>0.050575</td>\n",
       "    </tr>\n",
       "    <tr>\n",
       "      <th>2019-12-28</th>\n",
       "      <td>0.044177</td>\n",
       "      <td>0.034350</td>\n",
       "      <td>0.022698</td>\n",
       "      <td>0.049726</td>\n",
       "      <td>0.019104</td>\n",
       "      <td>0.777046</td>\n",
       "      <td>0.000000</td>\n",
       "      <td>0.000000</td>\n",
       "      <td>0.155123</td>\n",
       "      <td>0.011884</td>\n",
       "      <td>...</td>\n",
       "      <td>0.072512</td>\n",
       "      <td>0.036309</td>\n",
       "      <td>0.038813</td>\n",
       "      <td>0.040399</td>\n",
       "      <td>0.000000</td>\n",
       "      <td>0.004938</td>\n",
       "      <td>0.067305</td>\n",
       "      <td>0.071630</td>\n",
       "      <td>0.022816</td>\n",
       "      <td>0.057800</td>\n",
       "    </tr>\n",
       "    <tr>\n",
       "      <th>2019-12-29</th>\n",
       "      <td>0.056799</td>\n",
       "      <td>0.015028</td>\n",
       "      <td>0.018571</td>\n",
       "      <td>0.060776</td>\n",
       "      <td>0.010287</td>\n",
       "      <td>0.339958</td>\n",
       "      <td>0.062570</td>\n",
       "      <td>0.016988</td>\n",
       "      <td>0.236767</td>\n",
       "      <td>0.003961</td>\n",
       "      <td>...</td>\n",
       "      <td>0.036256</td>\n",
       "      <td>0.029047</td>\n",
       "      <td>0.038813</td>\n",
       "      <td>0.080799</td>\n",
       "      <td>0.000000</td>\n",
       "      <td>0.012346</td>\n",
       "      <td>0.067305</td>\n",
       "      <td>0.071630</td>\n",
       "      <td>0.022816</td>\n",
       "      <td>0.028900</td>\n",
       "    </tr>\n",
       "    <tr>\n",
       "      <th>2019-12-30</th>\n",
       "      <td>0.031555</td>\n",
       "      <td>0.030056</td>\n",
       "      <td>0.024761</td>\n",
       "      <td>0.055251</td>\n",
       "      <td>0.011756</td>\n",
       "      <td>0.485654</td>\n",
       "      <td>0.031285</td>\n",
       "      <td>0.000000</td>\n",
       "      <td>0.081644</td>\n",
       "      <td>0.011884</td>\n",
       "      <td>...</td>\n",
       "      <td>0.072512</td>\n",
       "      <td>0.021785</td>\n",
       "      <td>0.017250</td>\n",
       "      <td>0.000000</td>\n",
       "      <td>0.011689</td>\n",
       "      <td>0.012346</td>\n",
       "      <td>0.033653</td>\n",
       "      <td>0.071630</td>\n",
       "      <td>0.045632</td>\n",
       "      <td>0.036125</td>\n",
       "    </tr>\n",
       "    <tr>\n",
       "      <th>2019-12-31</th>\n",
       "      <td>0.000000</td>\n",
       "      <td>0.000000</td>\n",
       "      <td>0.000000</td>\n",
       "      <td>0.000000</td>\n",
       "      <td>0.001470</td>\n",
       "      <td>0.000000</td>\n",
       "      <td>0.000000</td>\n",
       "      <td>0.000000</td>\n",
       "      <td>0.008164</td>\n",
       "      <td>0.000000</td>\n",
       "      <td>...</td>\n",
       "      <td>0.000000</td>\n",
       "      <td>0.000000</td>\n",
       "      <td>0.000000</td>\n",
       "      <td>0.000000</td>\n",
       "      <td>0.000000</td>\n",
       "      <td>0.000000</td>\n",
       "      <td>0.000000</td>\n",
       "      <td>0.000000</td>\n",
       "      <td>0.000000</td>\n",
       "      <td>0.000000</td>\n",
       "    </tr>\n",
       "  </tbody>\n",
       "</table>\n",
       "<p>4018 rows × 30 columns</p>\n",
       "</div>"
      ],
      "text/plain": [
       "           nb_crimes                                                   \\\n",
       "AR          Anchieta     Bangu Barra da Tijuca  Botafogo Campo Grande   \n",
       "Date                                                                    \n",
       "2008-12-31  0.025522  0.009079        0.011007  0.000000     0.010674   \n",
       "2009-01-01  0.063703  0.047398        0.052289  0.057072     0.066402   \n",
       "2009-01-02  0.031852  0.015799        0.010458  0.009512     0.045433   \n",
       "2009-01-03  0.006370  0.040626        0.017430  0.014268     0.027959   \n",
       "2009-01-04  0.006370  0.029341        0.006972  0.014268     0.033201   \n",
       "...              ...       ...             ...       ...          ...   \n",
       "2019-12-27  0.031555  0.017175        0.028888  0.082877     0.016165   \n",
       "2019-12-28  0.044177  0.034350        0.022698  0.049726     0.019104   \n",
       "2019-12-29  0.056799  0.015028        0.018571  0.060776     0.010287   \n",
       "2019-12-30  0.031555  0.030056        0.024761  0.055251     0.011756   \n",
       "2019-12-31  0.000000  0.000000        0.000000  0.000000     0.001470   \n",
       "\n",
       "                                                                             \\\n",
       "AR            Centro Cidade de Deus Complexo do Alemao Copacabana Guaratiba   \n",
       "Date                                                                          \n",
       "2008-12-31  0.066617       0.000000           0.000000   0.034691  0.050378   \n",
       "2009-01-01  0.103458       0.198661           0.000000   0.070387  0.083396   \n",
       "2009-01-02  0.206917       0.000000           0.000000   0.056310  0.015163   \n",
       "2009-01-03  0.103458       0.198661           0.000000   0.042232  0.037907   \n",
       "2009-01-04  0.206917       0.099331           0.000000   0.035194  0.015163   \n",
       "...              ...            ...                ...        ...       ...   \n",
       "2019-12-27  1.117004       0.000000           0.000000   0.073479  0.007922   \n",
       "2019-12-28  0.777046       0.000000           0.000000   0.155123  0.011884   \n",
       "2019-12-29  0.339958       0.062570           0.016988   0.236767  0.003961   \n",
       "2019-12-30  0.485654       0.031285           0.000000   0.081644  0.011884   \n",
       "2019-12-31  0.000000       0.000000           0.000000   0.008164  0.000000   \n",
       "\n",
       "            ...                                                       \\\n",
       "AR          ... Portuaria     Ramos  Realengo Rio Comprido   Rocinha   \n",
       "Date        ...                                                        \n",
       "2008-12-31  ...  0.000000  0.006877  0.026449     0.015969  0.000000   \n",
       "2009-01-01  ...  0.029703  0.062168  0.046459     0.114169  0.014499   \n",
       "2009-01-02  ...  0.000000  0.034538  0.025811     0.016310  0.000000   \n",
       "2009-01-03  ...  0.059406  0.041445  0.041297     0.048929  0.014499   \n",
       "2009-01-04  ...  0.000000  0.034538  0.036135     0.114169  0.000000   \n",
       "...         ...       ...       ...       ...          ...       ...   \n",
       "2019-12-27  ...  0.108767  0.036309  0.047438     0.060599  0.000000   \n",
       "2019-12-28  ...  0.072512  0.036309  0.038813     0.040399  0.000000   \n",
       "2019-12-29  ...  0.036256  0.029047  0.038813     0.080799  0.000000   \n",
       "2019-12-30  ...  0.072512  0.021785  0.017250     0.000000  0.011689   \n",
       "2019-12-31  ...  0.000000  0.000000  0.000000     0.000000  0.000000   \n",
       "\n",
       "                                                                        \n",
       "AR         Santa Cruz Santa Teresa Sao Cristovao    Tijuca Vila Isabel  \n",
       "Date                                                                    \n",
       "2008-12-31   0.002863     0.057947      0.052674  0.006297    0.000000  \n",
       "2009-01-01   0.062111     0.000000      0.072225  0.012807    0.053311  \n",
       "2009-01-02   0.028232     0.192864      0.018056  0.025613    0.038079  \n",
       "2009-01-03   0.014116     0.096432      0.054169  0.019210    0.015232  \n",
       "2009-01-04   0.042349     0.000000      0.126394  0.012807    0.007616  \n",
       "...               ...          ...           ...       ...         ...  \n",
       "2019-12-27   0.007407     0.033653      0.071630  0.091264    0.050575  \n",
       "2019-12-28   0.004938     0.067305      0.071630  0.022816    0.057800  \n",
       "2019-12-29   0.012346     0.067305      0.071630  0.022816    0.028900  \n",
       "2019-12-30   0.012346     0.033653      0.071630  0.045632    0.036125  \n",
       "2019-12-31   0.000000     0.000000      0.000000  0.000000    0.000000  \n",
       "\n",
       "[4018 rows x 30 columns]"
      ]
     },
     "execution_count": 78,
     "metadata": {},
     "output_type": "execute_result"
    }
   ],
   "source": [
    "preproc_data_rate"
   ]
  },
  {
   "cell_type": "code",
   "execution_count": 69,
   "id": "fae19701",
   "metadata": {
    "hidden": true
   },
   "outputs": [
    {
     "data": {
      "text/plain": [
       "Date\n",
       "2008-12-31     4\n",
       "2009-01-01    21\n",
       "2009-01-02     7\n",
       "2009-01-03    18\n",
       "2009-01-04    13\n",
       "              ..\n",
       "2019-12-27     8\n",
       "2019-12-28    16\n",
       "2019-12-29     7\n",
       "2019-12-30    14\n",
       "2019-12-31     0\n",
       "Name: Bangu, Length: 4018, dtype: int64"
      ]
     },
     "execution_count": 69,
     "metadata": {},
     "output_type": "execute_result"
    }
   ],
   "source": [
    "preproc_data_n[\"nb_crimes\"].loc[:,\"Bangu\"]"
   ]
  },
  {
   "cell_type": "code",
   "execution_count": null,
   "id": "5c090d2a",
   "metadata": {
    "hidden": true
   },
   "outputs": [],
   "source": []
  },
  {
   "cell_type": "code",
   "execution_count": null,
   "id": "0c6089f6",
   "metadata": {
    "hidden": true
   },
   "outputs": [],
   "source": []
  },
  {
   "cell_type": "code",
   "execution_count": null,
   "id": "35c8103f",
   "metadata": {
    "hidden": true
   },
   "outputs": [],
   "source": []
  },
  {
   "cell_type": "code",
   "execution_count": 32,
   "id": "6b17008c",
   "metadata": {
    "hidden": true
   },
   "outputs": [],
   "source": [
    "import preproc\n",
    "from preproc import clean_pop_data"
   ]
  },
  {
   "cell_type": "code",
   "execution_count": 35,
   "id": "36824738",
   "metadata": {
    "hidden": true
   },
   "outputs": [],
   "source": [
    "pop_region = clean_pop_data()"
   ]
  },
  {
   "cell_type": "code",
   "execution_count": 79,
   "id": "ff040c7c",
   "metadata": {
    "hidden": true
   },
   "outputs": [
    {
     "data": {
      "text/html": [
       "<div>\n",
       "<style scoped>\n",
       "    .dataframe tbody tr th:only-of-type {\n",
       "        vertical-align: middle;\n",
       "    }\n",
       "\n",
       "    .dataframe tbody tr th {\n",
       "        vertical-align: top;\n",
       "    }\n",
       "\n",
       "    .dataframe thead th {\n",
       "        text-align: right;\n",
       "    }\n",
       "</style>\n",
       "<table border=\"1\" class=\"dataframe\">\n",
       "  <thead>\n",
       "    <tr style=\"text-align: right;\">\n",
       "      <th></th>\n",
       "      <th>Ano</th>\n",
       "      <th>Populacao</th>\n",
       "      <th>administrative_regions</th>\n",
       "    </tr>\n",
       "  </thead>\n",
       "  <tbody>\n",
       "    <tr>\n",
       "      <th>0</th>\n",
       "      <td>2000</td>\n",
       "      <td>39973.0</td>\n",
       "      <td>Portuaria</td>\n",
       "    </tr>\n",
       "    <tr>\n",
       "      <th>1</th>\n",
       "      <td>2001</td>\n",
       "      <td>39246.0</td>\n",
       "      <td>Portuaria</td>\n",
       "    </tr>\n",
       "    <tr>\n",
       "      <th>2</th>\n",
       "      <td>2002</td>\n",
       "      <td>38519.0</td>\n",
       "      <td>Portuaria</td>\n",
       "    </tr>\n",
       "    <tr>\n",
       "      <th>3</th>\n",
       "      <td>2003</td>\n",
       "      <td>37792.0</td>\n",
       "      <td>Portuaria</td>\n",
       "    </tr>\n",
       "    <tr>\n",
       "      <th>4</th>\n",
       "      <td>2004</td>\n",
       "      <td>37065.0</td>\n",
       "      <td>Portuaria</td>\n",
       "    </tr>\n",
       "    <tr>\n",
       "      <th>...</th>\n",
       "      <td>...</td>\n",
       "      <td>...</td>\n",
       "      <td>...</td>\n",
       "    </tr>\n",
       "    <tr>\n",
       "      <th>667</th>\n",
       "      <td>2016</td>\n",
       "      <td>32933.8</td>\n",
       "      <td>Cidade de Deus</td>\n",
       "    </tr>\n",
       "    <tr>\n",
       "      <th>668</th>\n",
       "      <td>2017</td>\n",
       "      <td>32610.6</td>\n",
       "      <td>Cidade de Deus</td>\n",
       "    </tr>\n",
       "    <tr>\n",
       "      <th>669</th>\n",
       "      <td>2018</td>\n",
       "      <td>32287.4</td>\n",
       "      <td>Cidade de Deus</td>\n",
       "    </tr>\n",
       "    <tr>\n",
       "      <th>670</th>\n",
       "      <td>2019</td>\n",
       "      <td>31964.2</td>\n",
       "      <td>Cidade de Deus</td>\n",
       "    </tr>\n",
       "    <tr>\n",
       "      <th>671</th>\n",
       "      <td>2020</td>\n",
       "      <td>31641.0</td>\n",
       "      <td>Cidade de Deus</td>\n",
       "    </tr>\n",
       "  </tbody>\n",
       "</table>\n",
       "<p>672 rows × 3 columns</p>\n",
       "</div>"
      ],
      "text/plain": [
       "      Ano  Populacao administrative_regions\n",
       "0    2000    39973.0              Portuaria\n",
       "1    2001    39246.0              Portuaria\n",
       "2    2002    38519.0              Portuaria\n",
       "3    2003    37792.0              Portuaria\n",
       "4    2004    37065.0              Portuaria\n",
       "..    ...        ...                    ...\n",
       "667  2016    32933.8         Cidade de Deus\n",
       "668  2017    32610.6         Cidade de Deus\n",
       "669  2018    32287.4         Cidade de Deus\n",
       "670  2019    31964.2         Cidade de Deus\n",
       "671  2020    31641.0         Cidade de Deus\n",
       "\n",
       "[672 rows x 3 columns]"
      ]
     },
     "execution_count": 79,
     "metadata": {},
     "output_type": "execute_result"
    }
   ],
   "source": [
    "pop_region"
   ]
  },
  {
   "cell_type": "code",
   "execution_count": 75,
   "id": "39dc2148",
   "metadata": {
    "hidden": true
   },
   "outputs": [],
   "source": [
    "total = pop_region[pop_region.Ano>=2009].Populacao.sum()"
   ]
  },
  {
   "cell_type": "code",
   "execution_count": 77,
   "id": "557bcbaf",
   "metadata": {
    "hidden": true
   },
   "outputs": [
    {
     "data": {
      "text/plain": [
       "Date\n",
       "2008-12-31    0.000928\n",
       "2009-01-01    0.004091\n",
       "2009-01-02    0.001940\n",
       "2009-01-03    0.002236\n",
       "2009-01-04    0.002053\n",
       "                ...   \n",
       "2019-12-27    0.003304\n",
       "2019-12-28    0.003149\n",
       "2019-12-29    0.002756\n",
       "2019-12-30    0.002601\n",
       "2019-12-31    0.000028\n",
       "Length: 4018, dtype: float64"
      ]
     },
     "execution_count": 77,
     "metadata": {},
     "output_type": "execute_result"
    }
   ],
   "source": [
    "preproc_data_n.T.sum()/total *1000"
   ]
  },
  {
   "cell_type": "code",
   "execution_count": 43,
   "id": "678ed140",
   "metadata": {
    "hidden": true
   },
   "outputs": [
    {
     "data": {
      "text/plain": [
       "array(['Portuaria', 'Centro', 'Rio Comprido', 'Botafogo', 'Copacabana',\n",
       "       'Lagoa', 'Sao Cristovao', 'Tijuca', 'Vila Isabel', 'Ramos',\n",
       "       'Penha (2)', 'Inhauma', 'Meier', 'Iraja', 'Madureira',\n",
       "       'Jacarepagua', 'Bangu', 'Campo Grande', 'Santa Cruz',\n",
       "       'Ilha do Governador', 'Ilha de Paqueta', 'Anchieta',\n",
       "       'Santa Teresa', 'Barra da Tijuca', 'Pavuna', 'Guaratiba',\n",
       "       'Rocinha', 'Jacarezinho', 'Complexo do Alemao', 'Mare', 'Realengo',\n",
       "       'Cidade de Deus'], dtype=object)"
      ]
     },
     "execution_count": 43,
     "metadata": {},
     "output_type": "execute_result"
    }
   ],
   "source": [
    "pop_region.administrative_regions.unique()"
   ]
  },
  {
   "cell_type": "code",
   "execution_count": 81,
   "id": "b572a7e1",
   "metadata": {
    "hidden": true
   },
   "outputs": [],
   "source": [
    "a=[1,2,3,4]"
   ]
  },
  {
   "cell_type": "code",
   "execution_count": 86,
   "id": "e35b811b",
   "metadata": {
    "hidden": true
   },
   "outputs": [
    {
     "data": {
      "text/plain": [
       "([3, 4], [1, 2])"
      ]
     },
     "execution_count": 86,
     "metadata": {},
     "output_type": "execute_result"
    }
   ],
   "source": [
    "a[2:],a[0:2]"
   ]
  },
  {
   "cell_type": "code",
   "execution_count": null,
   "id": "34cf5d1c",
   "metadata": {
    "hidden": true
   },
   "outputs": [],
   "source": []
  }
 ],
 "metadata": {
  "kernelspec": {
   "display_name": "Python 3 (ipykernel)",
   "language": "python",
   "name": "python3"
  },
  "language_info": {
   "codemirror_mode": {
    "name": "ipython",
    "version": 3
   },
   "file_extension": ".py",
   "mimetype": "text/x-python",
   "name": "python",
   "nbconvert_exporter": "python",
   "pygments_lexer": "ipython3",
   "version": "3.8.12"
  },
  "toc": {
   "base_numbering": 1,
   "nav_menu": {},
   "number_sections": true,
   "sideBar": true,
   "skip_h1_title": false,
   "title_cell": "Table of Contents",
   "title_sidebar": "Contents",
   "toc_cell": false,
   "toc_position": {},
   "toc_section_display": true,
   "toc_window_display": false
  }
 },
 "nbformat": 4,
 "nbformat_minor": 5
}
