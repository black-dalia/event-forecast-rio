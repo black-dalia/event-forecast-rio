{
 "cells": [
  {
   "cell_type": "markdown",
   "id": "9f0f82fc",
   "metadata": {},
   "source": [
    "## Imports"
   ]
  },
  {
   "cell_type": "code",
   "execution_count": 5,
   "id": "8dfd4e0a",
   "metadata": {},
   "outputs": [],
   "source": [
    "import numpy as np\n",
    "import pandas as pd\n",
    "import math"
   ]
  },
  {
   "cell_type": "code",
   "execution_count": 4,
   "id": "ef7f2af5",
   "metadata": {},
   "outputs": [],
   "source": [
    "#data cleaning\n",
    "import clean\n",
    "import preproc\n",
    "\n",
    "#RNN cleaning\n",
    "from RNN_preproc_uni import get_train_test\n"
   ]
  },
  {
   "cell_type": "code",
   "execution_count": 20,
   "id": "2f874cb8",
   "metadata": {},
   "outputs": [],
   "source": [
    "#model\n",
    "from tensorflow.keras import models\n",
    "from tensorflow.keras import layers\n",
    "from tensorflow.keras import optimizers, metrics\n",
    "from tensorflow.keras.callbacks import EarlyStopping\n",
    "from sklearn.preprocessing import RobustScaler\n",
    "import matplotlib.pyplot as plt\n",
    "plt.style.use('ggplot')\n",
    "import seaborn as sns\n",
    "import datetime\n",
    "from datetime import date, timedelta\n",
    "from clean import clean_all, get_data, get_bairros_data\n",
    "from preproc import get_format, get_popfile, clean_pop_data, extract_ts\n",
    "idx = pd.IndexSlice"
   ]
  },
  {
   "cell_type": "markdown",
   "id": "9b398b6c",
   "metadata": {},
   "source": [
    "## Data"
   ]
  },
  {
   "cell_type": "code",
   "execution_count": 7,
   "id": "a6b217bf",
   "metadata": {},
   "outputs": [],
   "source": [
    "data1, data2, data3, data4 = clean.get_data()\n",
    "data = clean.clean_all(data1, data2, data3, data4, clean.get_bairros_data())"
   ]
  },
  {
   "cell_type": "code",
   "execution_count": 99,
   "id": "d058d60c",
   "metadata": {},
   "outputs": [],
   "source": [
    "preproc_data_n, preproc_data_rate = preproc.get_format(data)"
   ]
  },
  {
   "cell_type": "code",
   "execution_count": 53,
   "id": "dcb9d2ba",
   "metadata": {},
   "outputs": [],
   "source": [
    "X_train, y_train, X_test, y_test = get_train_test(preproc_data_rate, 1000, 100, \"all_AR\")\n"
   ]
  },
  {
   "cell_type": "code",
   "execution_count": 122,
   "id": "1e2d7a7a",
   "metadata": {},
   "outputs": [
    {
     "data": {
      "text/plain": [
       "((30000, 69, 1), (30000, 31), (7500, 69, 1), (7500, 31))"
      ]
     },
     "execution_count": 122,
     "metadata": {},
     "output_type": "execute_result"
    }
   ],
   "source": [
    "X_train.shape,y_train.shape, X_test.shape, y_test.shape"
   ]
  },
  {
   "cell_type": "markdown",
   "id": "b14156ac",
   "metadata": {},
   "source": [
    "## Model"
   ]
  },
  {
   "cell_type": "code",
   "execution_count": 70,
   "id": "7d83ccce",
   "metadata": {},
   "outputs": [],
   "source": [
    "def init_model():\n",
    "    metric = metrics.MAPE\n",
    "    opt = optimizers.RMSprop(learning_rate=0.001)\n",
    "    \n",
    "    model = models.Sequential()\n",
    "    model.add(layers.LSTM(30, return_sequences=True, activation='tanh',input_shape = (69,1)))\n",
    "    model.add(layers.LSTM(10, activation='tanh'))\n",
    "    model.add(layers.Dense(5, activation='relu'))\n",
    "    model.add(layers.Dense(31, activation='linear'))\n",
    "    \n",
    "    model.compile(loss='mse', \n",
    "                  optimizer=opt, \n",
    "                  metrics=[metric])\n",
    "    \n",
    "    return model"
   ]
  },
  {
   "cell_type": "code",
   "execution_count": 71,
   "id": "6ea1b6a5",
   "metadata": {},
   "outputs": [],
   "source": [
    "es = EarlyStopping(monitor='val_loss', verbose=1, patience=20, restore_best_weights=True)"
   ]
  },
  {
   "cell_type": "code",
   "execution_count": 75,
   "id": "b33d5387",
   "metadata": {},
   "outputs": [],
   "source": [
    "# Fitting the model\n",
    "def fit(model,x,y):\n",
    "    hist = model.fit(x, y,\n",
    "            validation_split=0.3,\n",
    "            epochs=100, \n",
    "            batch_size=16,\n",
    "            callbacks=[es], verbose=1)\n",
    "    return hist"
   ]
  },
  {
   "cell_type": "code",
   "execution_count": 77,
   "id": "b4f2cda2",
   "metadata": {},
   "outputs": [
    {
     "name": "stdout",
     "output_type": "stream",
     "text": [
      "Epoch 1/100\n",
      "1313/1313 [==============================] - 28s 21ms/step - loss: 0.0629 - mean_absolute_percentage_error: 4616817.5000 - val_loss: 0.0373 - val_mean_absolute_percentage_error: 5478438.5000\n",
      "Epoch 2/100\n",
      "1313/1313 [==============================] - 26s 20ms/step - loss: 0.0575 - mean_absolute_percentage_error: 3387370.2500 - val_loss: 0.0368 - val_mean_absolute_percentage_error: 4789287.0000\n",
      "Epoch 3/100\n",
      "1313/1313 [==============================] - 27s 20ms/step - loss: 0.0572 - mean_absolute_percentage_error: 3305363.5000 - val_loss: 0.0372 - val_mean_absolute_percentage_error: 5730419.5000\n",
      "Epoch 4/100\n",
      "1313/1313 [==============================] - 27s 21ms/step - loss: 0.0569 - mean_absolute_percentage_error: 3017027.5000 - val_loss: 0.0371 - val_mean_absolute_percentage_error: 5263562.5000\n",
      "Epoch 5/100\n",
      "1313/1313 [==============================] - 29s 22ms/step - loss: 0.0564 - mean_absolute_percentage_error: 3055324.0000 - val_loss: 0.0365 - val_mean_absolute_percentage_error: 4825233.5000\n",
      "Epoch 6/100\n",
      "1313/1313 [==============================] - 27s 21ms/step - loss: 0.0563 - mean_absolute_percentage_error: 3108546.0000 - val_loss: 0.0370 - val_mean_absolute_percentage_error: 5599025.5000\n",
      "Epoch 7/100\n",
      "1313/1313 [==============================] - 27s 20ms/step - loss: 0.0560 - mean_absolute_percentage_error: 3122347.5000 - val_loss: 0.0366 - val_mean_absolute_percentage_error: 4388104.0000\n",
      "Epoch 8/100\n",
      "1313/1313 [==============================] - 27s 20ms/step - loss: 0.0559 - mean_absolute_percentage_error: 3204007.7500 - val_loss: 0.0369 - val_mean_absolute_percentage_error: 6749851.5000\n",
      "Epoch 9/100\n",
      "1313/1313 [==============================] - 27s 20ms/step - loss: 0.0557 - mean_absolute_percentage_error: 3230681.5000 - val_loss: 0.0376 - val_mean_absolute_percentage_error: 6266072.0000\n",
      "Epoch 10/100\n",
      "1313/1313 [==============================] - 28s 21ms/step - loss: 0.0562 - mean_absolute_percentage_error: 3274532.5000 - val_loss: 0.0366 - val_mean_absolute_percentage_error: 5523304.0000\n",
      "Restoring model weights from the end of the best epoch.\n",
      "Epoch 00010: early stopping\n"
     ]
    }
   ],
   "source": [
    "model = init_model()\n",
    "history = fit(model, X_train,y_train)"
   ]
  },
  {
   "cell_type": "code",
   "execution_count": null,
   "id": "ef6be3b2",
   "metadata": {},
   "outputs": [],
   "source": [
    "model.summary()"
   ]
  },
  {
   "cell_type": "code",
   "execution_count": 108,
   "id": "544b12ae",
   "metadata": {},
   "outputs": [],
   "source": [
    "y_pred = history.model.predict(X_test)"
   ]
  },
  {
   "cell_type": "code",
   "execution_count": 109,
   "id": "5b0d5853",
   "metadata": {},
   "outputs": [
    {
     "data": {
      "text/plain": [
       "[<matplotlib.lines.Line2D at 0x245e4baf0>]"
      ]
     },
     "execution_count": 109,
     "metadata": {},
     "output_type": "execute_result"
    },
    {
     "data": {
      "image/png": "[encoded data removed]",
      "text/plain": [
       "<Figure size 432x288 with 1 Axes>"
      ]
     },
     "metadata": {},
     "output_type": "display_data"
    }
   ],
   "source": [
    "plt.plot(history.history[\"loss\"],c=\"red\")\n",
    "plt.plot(history.history[\"val_loss\"], c=\"blue\")"
   ]
  },
  {
   "cell_type": "code",
   "execution_count": 110,
   "id": "c39ab8d1",
   "metadata": {},
   "outputs": [
    {
     "data": {
      "text/plain": [
       "array([0.06694505, 0.05708362, 0.06478121, 0.0646767 , 0.07124957,\n",
       "       0.0748716 , 0.07639346, 0.06429172, 0.068132  , 0.0657177 ,\n",
       "       0.06321584, 0.06258178, 0.05841917, 0.07591002, 0.0572112 ,\n",
       "       0.06980667, 0.0551866 , 0.07127147, 0.06655423, 0.06241835,\n",
       "       0.06208825, 0.06504498, 0.07422002, 0.06994797, 0.06799629,\n",
       "       0.07231959, 0.06371002, 0.06010365, 0.07260268, 0.06860343,\n",
       "       0.06529902], dtype=float32)"
      ]
     },
     "execution_count": 110,
     "metadata": {},
     "output_type": "execute_result"
    }
   ],
   "source": [
    "y_pred[0]"
   ]
  },
  {
   "cell_type": "code",
   "execution_count": 123,
   "id": "d03d7a98",
   "metadata": {},
   "outputs": [
    {
     "data": {
      "text/plain": [
       "((7500, 31), (7500, 31))"
      ]
     },
     "execution_count": 123,
     "metadata": {},
     "output_type": "execute_result"
    }
   ],
   "source": [
    "y_test.shape, y_pred.shape"
   ]
  },
  {
   "cell_type": "code",
   "execution_count": 125,
   "id": "3c16b296",
   "metadata": {},
   "outputs": [
    {
     "data": {
      "text/plain": [
       "[<matplotlib.lines.Line2D at 0x2465440a0>]"
      ]
     },
     "execution_count": 125,
     "metadata": {},
     "output_type": "execute_result"
    },
    {
     "data": {
      "image/png": "[encoded data removed]",
      "text/plain": [
       "<Figure size 432x288 with 1 Axes>"
      ]
     },
     "metadata": {},
     "output_type": "display_data"
    }
   ],
   "source": [
    "plt.plot(range(31),y_pred[6000],color=\"r\")\n",
    "plt.plot(range(31),y_test[6000],color=\"b\")"
   ]
  },
  {
   "cell_type": "code",
   "execution_count": 126,
   "id": "6f60f35c",
   "metadata": {},
   "outputs": [],
   "source": [
    "data=preproc_data_rate.droplevel(level=0,axis=1)"
   ]
  },
  {
   "cell_type": "code",
   "execution_count": 134,
   "id": "faad1076",
   "metadata": {},
   "outputs": [
    {
     "data": {
      "text/plain": [
       "(69, 30)"
      ]
     },
     "execution_count": 134,
     "metadata": {},
     "output_type": "execute_result"
    }
   ],
   "source": [
    "sample_len = 100\n",
    "df = data\n",
    "\n",
    "pred_len = 31\n",
    "len_ = int(0.8*df.shape[0])\n",
    "df_test = df[len_:]\n",
    "size = int((df_test.shape[0]-(sample_len-pred_len))/pred_len)+1\n",
    "for i in range(size):\n",
    "    data_select = np.array(df_test[i*pred_len:i*pred_len+(sample_len-pred_len)])\n",
    "    #order_test_data = \n",
    "data_select.shape"
   ]
  },
  {
   "cell_type": "code",
   "execution_count": 101,
   "id": "0c60f40d",
   "metadata": {},
   "outputs": [
    {
     "ename": "ValueError",
     "evalue": "cannot reshape array of size 2070 into shape (1,69,1)",
     "output_type": "error",
     "traceback": [
      "\u001b[0;31m---------------------------------------------------------------------------\u001b[0m",
      "\u001b[0;31mValueError\u001b[0m                                Traceback (most recent call last)",
      "\u001b[0;32m/var/folders/9s/md4xnzf949vc59xqd_slzxy00000gn/T/ipykernel_76334/696079874.py\u001b[0m in \u001b[0;36m<module>\u001b[0;34m\u001b[0m\n\u001b[1;32m      6\u001b[0m     \u001b[0mdata_test_temp\u001b[0m \u001b[0;34m=\u001b[0m \u001b[0mdata_test\u001b[0m\u001b[0;34m[\u001b[0m\u001b[0mi\u001b[0m\u001b[0;34m*\u001b[0m\u001b[0;36m31\u001b[0m\u001b[0;34m:\u001b[0m\u001b[0mi\u001b[0m\u001b[0;34m*\u001b[0m\u001b[0;36m31\u001b[0m\u001b[0;34m+\u001b[0m\u001b[0;34m(\u001b[0m\u001b[0mlength\u001b[0m\u001b[0;34m-\u001b[0m\u001b[0;36m31\u001b[0m\u001b[0;34m)\u001b[0m\u001b[0;34m]\u001b[0m\u001b[0;34m\u001b[0m\u001b[0;34m\u001b[0m\u001b[0m\n\u001b[1;32m      7\u001b[0m     \u001b[0mdata_test_temp\u001b[0m \u001b[0;34m=\u001b[0m \u001b[0mnp\u001b[0m\u001b[0;34m.\u001b[0m\u001b[0marray\u001b[0m\u001b[0;34m(\u001b[0m\u001b[0mdata_test_temp\u001b[0m\u001b[0;34m)\u001b[0m\u001b[0;34m\u001b[0m\u001b[0;34m\u001b[0m\u001b[0m\n\u001b[0;32m----> 8\u001b[0;31m     \u001b[0mdata_test_temp\u001b[0m \u001b[0;34m=\u001b[0m \u001b[0mdata_test_temp\u001b[0m\u001b[0;34m.\u001b[0m\u001b[0mreshape\u001b[0m\u001b[0;34m(\u001b[0m\u001b[0;36m1\u001b[0m\u001b[0;34m,\u001b[0m\u001b[0;34m(\u001b[0m\u001b[0mlength\u001b[0m\u001b[0;34m-\u001b[0m\u001b[0;36m31\u001b[0m\u001b[0;34m)\u001b[0m\u001b[0;34m,\u001b[0m\u001b[0;36m1\u001b[0m\u001b[0;34m)\u001b[0m\u001b[0;34m\u001b[0m\u001b[0;34m\u001b[0m\u001b[0m\n\u001b[0m\u001b[1;32m      9\u001b[0m     \u001b[0my_pred_temp\u001b[0m \u001b[0;34m=\u001b[0m \u001b[0mhistory\u001b[0m\u001b[0;34m.\u001b[0m\u001b[0mmodel\u001b[0m\u001b[0;34m.\u001b[0m\u001b[0mpredict\u001b[0m\u001b[0;34m(\u001b[0m\u001b[0mdata_test_temp\u001b[0m\u001b[0;34m)\u001b[0m\u001b[0;34m.\u001b[0m\u001b[0mtolist\u001b[0m\u001b[0;34m(\u001b[0m\u001b[0;34m)\u001b[0m\u001b[0;34m[\u001b[0m\u001b[0;36m0\u001b[0m\u001b[0;34m]\u001b[0m\u001b[0;34m\u001b[0m\u001b[0;34m\u001b[0m\u001b[0m\n\u001b[1;32m     10\u001b[0m     \u001b[0my_pred\u001b[0m \u001b[0;34m=\u001b[0m \u001b[0my_pred\u001b[0m \u001b[0;34m+\u001b[0m \u001b[0my_pred_tem\u001b[0m\u001b[0;34m\u001b[0m\u001b[0;34m\u001b[0m\u001b[0m\n",
      "\u001b[0;31mValueError\u001b[0m: cannot reshape array of size 2070 into shape (1,69,1)"
     ]
    }
   ],
   "source": [
    "length = 100\n",
    "y_pred = []\n",
    "len_ = int(0.8*data.shape[0])\n",
    "data_test = data[len_:]\n",
    "for i in range(int((804-(length-31))/31)+1):\n",
    "    data_test_temp = data_test[i*31:i*31+(length-31)]\n",
    "    data_test_temp = np.array(data_test_temp)\n",
    "    data_test_temp = data_test_temp.reshape(1,(length-31),1)\n",
    "    y_pred_temp = history.model.predict(data_test_temp).tolist()[0]\n",
    "    y_pred = y_pred + y_pred_tem\n",
    "y_pred_df = pd.DataFrame(y_pred)\n",
    "y_pred_df[\"index\"] = y_pred_df.index + 3214+(length-31) # create index that will match input table\n",
    "y_pred_df = y_pred_df.set_index(\"index\")\n",
    "actual = data_test[(length-31):]# take first predicted value from actual data until the end\n",
    "plt.figure(figsize=(16,6))\n",
    "plt.plot(actual, c= \"blue\")\n",
    "plt.plot(y_pred_df, c=\"red\")"
   ]
  },
  {
   "cell_type": "code",
   "execution_count": 102,
   "id": "414443a2",
   "metadata": {},
   "outputs": [],
   "source": [
    "i=0\n",
    "data_test_temp = data_test[i*31:i*31+(length-31)]\n",
    "data_test_temp = np.array(data_test_temp)"
   ]
  },
  {
   "cell_type": "code",
   "execution_count": 78,
   "id": "153cad75",
   "metadata": {},
   "outputs": [
    {
     "ename": "SyntaxError",
     "evalue": "invalid syntax (550237795.py, line 22)",
     "output_type": "error",
     "traceback": [
      "\u001b[0;36m  File \u001b[0;32m\"/var/folders/9s/md4xnzf949vc59xqd_slzxy00000gn/T/ipykernel_76334/550237795.py\"\u001b[0;36m, line \u001b[0;32m22\u001b[0m\n\u001b[0;31m    _, _, X_test, y_test = get_train_test(data,2000,length)\u001b[0m\n\u001b[0m    ^\u001b[0m\n\u001b[0;31mSyntaxError\u001b[0m\u001b[0;31m:\u001b[0m invalid syntax\n"
     ]
    }
   ],
   "source": [
    "def compute_plot_pred(data,length):\n",
    "    \n",
    "    '''compute and plot prediction over test time period and overlay with actual data'''\n",
    "    y_pred = []\n",
    "    len_ = int(0.8*data.shape[0])\n",
    "    data_test = data[len_:]\n",
    "    for i in range(int((804-(length-31))/31)+1):\n",
    "        data_test_temp = data_test[i*31:i*31+(length-31)]\n",
    "        data_test_temp = data_test_temp\n",
    "        data_test_temp = np.array(data_test_temp)\n",
    "        data_test_temp = data_test_temp.reshape(1,(length-31),1)\n",
    "        y_pred_temp = history.model.predict(data_test_temp).tolist()[0]\n",
    "        y_pred = y_pred + y_pred_tem\n",
    "    y_pred_df = pd.DataFrame(y_pred)\n",
    "    y_pred_df[\"index\"] = y_pred_df.index + 3214+(length-31) # create index that will match input table\n",
    "    y_pred_df = y_pred_df.set_index(\"index\")\n",
    "    actual = data_test[(length-31):]# take first predicted value from actual data until the end\n",
    "    #actual =actual\n",
    "    plt.figure(figsize=(16,6))\n",
    "    plt.plot(actual, c= \"blue\")\n",
    "    plt.plot(y_pred_df, c=\"red\"\n",
    "    _, _, X_test, y_test = get_train_test(data,2000,length)\n",
    "    res = model.evaluate(X_test, y_test, verbose=0)\n",
    "    print(f\"performances computed on test set:{res}\")\n",
    "    return y_pre"
   ]
  },
  {
   "cell_type": "code",
   "execution_count": null,
   "id": "9da50702",
   "metadata": {},
   "outputs": [],
   "source": []
  },
  {
   "cell_type": "code",
   "execution_count": null,
   "id": "73715afb",
   "metadata": {},
   "outputs": [],
   "source": []
  }
 ],
 "metadata": {
  "kernelspec": {
   "display_name": "Python 3 (ipykernel)",
   "language": "python",
   "name": "python3"
  },
  "language_info": {
   "codemirror_mode": {
    "name": "ipython",
    "version": 3
   },
   "file_extension": ".py",
   "mimetype": "text/x-python",
   "name": "python",
   "nbconvert_exporter": "python",
   "pygments_lexer": "ipython3",
   "version": "3.8.12"
  },
  "toc": {
   "base_numbering": 1,
   "nav_menu": {},
   "number_sections": true,
   "sideBar": true,
   "skip_h1_title": false,
   "title_cell": "Table of Contents",
   "title_sidebar": "Contents",
   "toc_cell": false,
   "toc_position": {},
   "toc_section_display": true,
   "toc_window_display": false
  }
 },
 "nbformat": 4,
 "nbformat_minor": 5
}
