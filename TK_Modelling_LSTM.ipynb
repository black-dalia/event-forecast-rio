{
 "cells": [
  {
   "cell_type": "code",
   "execution_count": 106,
   "id": "ffafcb84",
   "metadata": {},
   "outputs": [],
   "source": [
    "# Import section\n",
    "from tensorflow.keras import models\n",
    "from tensorflow.keras import layers\n",
    "from tensorflow.keras import optimizers, metrics\n",
    "from tensorflow.keras.layers import Normalization\n",
    "from tensorflow.keras.callbacks import EarlyStopping\n",
    "from sklearn.preprocessing import RobustScaler\n",
    "import pandas as pd\n",
    "import numpy as np \n",
    "import math\n",
    "import matplotlib.pyplot as plt\n",
    "plt.style.use('ggplot')\n",
    "import seaborn as sns\n",
    "import datetime\n",
    "from datetime import date, timedelta\n",
    "from clean import clean_all, get_data, get_bairros_data\n",
    "from preproc import get_format, get_popfile, clean_pop_data, extract_ts\n",
    "idx = pd.IndexSlice"
   ]
  },
  {
   "cell_type": "code",
   "execution_count": 100,
   "id": "4618337e",
   "metadata": {},
   "outputs": [
    {
     "name": "stderr",
     "output_type": "stream",
     "text": [
      "\n",
      "KeyboardInterrupt\n",
      "\n"
     ]
    }
   ],
   "source": [
    "# Data loading\n",
    "data1, data2, data3, data4 = get_data()\n",
    "data = clean_all(data1, data2, data3, data4, get_bairros_data())\n",
    "preprocessed_data, preprocessed_data_1000 = get_format(data)\n",
    "pop_clean = clean_pop_data()"
   ]
  },
  {
   "cell_type": "code",
   "execution_count": null,
   "id": "35bbfe93",
   "metadata": {},
   "outputs": [],
   "source": [
    "# Preprocessing data\n",
    "def subsample_sequence(data, length, AR): # Return a shorter dataframe with specified \n",
    "                                                 # length for a specific barrio\n",
    "    last_possible = data.shape[0] - length\n",
    "    random_start = np.random.randint(0, last_possible)\n",
    "    data_sample = data[random_start: random_start+length]\n",
    "    data_sample = data_sample.loc[:,idx[:,AR]]\n",
    "\n",
    "    return data_sample\n",
    "\n",
    "def split_subsample_sequence(data, length, AR): # Return a random sequence of specified length\n",
    "\n",
    "    data_subsample = subsample_sequence(data, length, AR)\n",
    "    y_sample = data_subsample.iloc[length-31:]\n",
    "    \n",
    "    X_sample = data_subsample[0:length-31]\n",
    "    X_sample = X_sample.values\n",
    "    return np.array(X_sample), np.array(y_sample)\n",
    "\n",
    "def get_X_y(data, n_sequences, length, AR): # Return a sepcific number of (X,y) samples of specified length\n",
    "                                                   # for a specified bairro\n",
    "\n",
    "    X, y = [], []\n",
    "\n",
    "    for i in range(n_sequences):\n",
    "        (xi, yi) = split_subsample_sequence(data, length, AR)\n",
    "        X.append(xi)\n",
    "        y.append(yi)\n",
    "        \n",
    "    X = np.array(X)\n",
    "    y = np.array(y)\n",
    "    return X, y\n",
    "\n",
    "def get_train_test(data,n_sequences,length, AR): # Return train and test data\n",
    "\n",
    "    len_ = int(0.8*data.shape[0])\n",
    "    data_train = data[:len_]\n",
    "    data_test = data[len_:]\n",
    "    \n",
    "    test_seq = math.floor(n_sequences/4)\n",
    "    \n",
    "    X_train, y_train = get_X_y(data_train, n_sequences, length, AR)\n",
    "    X_test, y_test = get_X_y(data_test, test_seq, length, AR)\n",
    "    \n",
    "    X_train = X_train.reshape(X_train.shape[0], X_train.shape[1],1)\n",
    "    X_test = X_test.reshape(X_test.shape[0], X_test.shape[1],1)\n",
    "    \n",
    "    return X_train, y_train, X_test, y_test"
   ]
  },
  {
   "cell_type": "code",
   "execution_count": null,
   "id": "e76c23e2",
   "metadata": {},
   "outputs": [],
   "source": [
    " # Loading X_train/test, y_train/test for each AR in a global dictionnary\n",
    "\n",
    "AR_list = preprocessed_data_1000.columns.levels[1].tolist()\n",
    "all_data = {}\n",
    "\n",
    "for AR in AR_list:\n",
    "    data = get_train_test(preprocessed_data_1000, 2000, 200, AR)\n",
    "    all_data[AR] = data"
   ]
  },
  {
   "cell_type": "code",
   "execution_count": 148,
   "id": "a42e60ce",
   "metadata": {},
   "outputs": [
    {
     "data": {
      "text/plain": [
       "['Anchieta',\n",
       " 'Bangu',\n",
       " 'Barra da Tijuca',\n",
       " 'Botafogo',\n",
       " 'Campo Grande',\n",
       " 'Centro',\n",
       " 'Cidade de Deus',\n",
       " 'Complexo do Alemao',\n",
       " 'Copacabana',\n",
       " 'Guaratiba',\n",
       " 'Ilha do Governador',\n",
       " 'Inhauma',\n",
       " 'Iraja',\n",
       " 'Jacarepagua',\n",
       " 'Jacarezinho',\n",
       " 'Lagoa',\n",
       " 'Madureira',\n",
       " 'Mare',\n",
       " 'Meier',\n",
       " 'Pavuna',\n",
       " 'Portuaria',\n",
       " 'Ramos',\n",
       " 'Realengo',\n",
       " 'Rio Comprido',\n",
       " 'Rocinha',\n",
       " 'Santa Cruz',\n",
       " 'Santa Teresa',\n",
       " 'Sao Cristovao',\n",
       " 'Tijuca',\n",
       " 'Vila Isabel']"
      ]
     },
     "execution_count": 148,
     "metadata": {},
     "output_type": "execute_result"
    }
   ],
   "source": [
    "AR_list"
   ]
  },
  {
   "cell_type": "code",
   "execution_count": 115,
   "id": "fb4f96fb",
   "metadata": {},
   "outputs": [],
   "source": [
    "# Outside preprocessing \n",
    "\n",
    "for AR in AR_list:\n",
    "    X_norm = Normalization()\n",
    "    normalizer.adapt(all_data[AR][0])\n",
    "    normalizer.adapt(all_data[AR][2])"
   ]
  },
  {
   "cell_type": "code",
   "execution_count": 145,
   "id": "e26b055f",
   "metadata": {},
   "outputs": [],
   "source": [
    "# Creating a model\n",
    "def init_model(AR):\n",
    "    metric = metrics.MAPE\n",
    "    opt = optimizers.RMSprop(learning_rate=0.005)\n",
    "    \n",
    "    model = models.Sequential()\n",
    "    model.add(layers.LSTM(30, return_sequences=True, activation='tanh'))\n",
    "    model.add(layers.Dense(5, activation='relu'))\n",
    "    model.add(layers.Dense(31, activation='linear'))\n",
    "    \n",
    "    model.compile(loss='mse', \n",
    "                  optimizer=opt, \n",
    "                  metrics=[metric])\n",
    "    \n",
    "    return model\n",
    "\n",
    "# Parameters\n",
    "# def get_parameters(): \n",
    "es = EarlyStopping(monitor='val_loss', verbose=1, patience=5, restore_best_weights=True)\n",
    "\n",
    "# Fitting the model\n",
    "def fit(model, AR):\n",
    "    hist = model.fit(all_data[AR][0], all_data[AR][1],\n",
    "            validation_split=0.3,\n",
    "            epochs=5, \n",
    "            batch_size=32,\n",
    "            callbacks=[es], verbose=0)\n",
    "    return hist\n",
    "\n",
    "# # Evaluating the model \n",
    "# def evaluate(hist, AR):\n",
    "#     results = hist.model.evaluate(all_data[AR][2], all_data[AR][3])\n",
    "#     return results\n",
    "\n",
    "# # All-in-1\n",
    "# def modelling(AR):\n",
    "#     results = evaluate(fit(init_model(AR), AR), AR)\n",
    "#     return results"
   ]
  },
  {
   "cell_type": "code",
   "execution_count": 138,
   "id": "d0edec0a",
   "metadata": {},
   "outputs": [],
   "source": [
    "model = init_model('Centro')\n",
    "fitted_model = fit(model, 'Centro')"
   ]
  },
  {
   "cell_type": "code",
   "execution_count": 146,
   "id": "069f3d8e",
   "metadata": {},
   "outputs": [
    {
     "name": "stdout",
     "output_type": "stream",
     "text": [
      "16/16 [==============================] - 0s 26ms/step - loss: 0.6859 - mean_absolute_percentage_error: 29.7326\n"
     ]
    },
    {
     "data": {
      "text/plain": [
       "[0.685863733291626, 29.732606887817383]"
      ]
     },
     "execution_count": 146,
     "metadata": {},
     "output_type": "execute_result"
    }
   ],
   "source": [
    "results = evaluate(fitted_model, 'Centro')\n",
    "results"
   ]
  },
  {
   "cell_type": "code",
   "execution_count": 147,
   "id": "222a8adc",
   "metadata": {},
   "outputs": [
    {
     "name": "stdout",
     "output_type": "stream",
     "text": [
      "16/16 [==============================] - 0s 25ms/step - loss: 7.0523e-04 - mean_absolute_percentage_error: 43.1922\n",
      "16/16 [==============================] - 0s 24ms/step - loss: 3.8059e-04 - mean_absolute_percentage_error: 31.2998\n",
      "16/16 [==============================] - 0s 24ms/step - loss: 4.8362e-04 - mean_absolute_percentage_error: 49.0359\n",
      "16/16 [==============================] - 0s 27ms/step - loss: 0.0023 - mean_absolute_percentage_error: 30.5775\n",
      "16/16 [==============================] - 0s 26ms/step - loss: 5.7489e-05 - mean_absolute_percentage_error: 31.5374\n",
      "16/16 [==============================] - 0s 25ms/step - loss: 0.7551 - mean_absolute_percentage_error: 28.6833\n",
      "16/16 [==============================] - 0s 28ms/step - loss: 9.0844e-04 - mean_absolute_percentage_error: 19729296.0000\n",
      "16/16 [==============================] - 0s 28ms/step - loss: 1.3194e-04 - mean_absolute_percentage_error: 6677155.5000\n",
      "16/16 [==============================] - 0s 27ms/step - loss: 0.0109 - mean_absolute_percentage_error: 55.9541\n",
      "16/16 [==============================] - 0s 24ms/step - loss: 6.9010e-05 - mean_absolute_percentage_error: 777216.3125\n",
      "16/16 [==============================] - 0s 25ms/step - loss: 1.7347e-04 - mean_absolute_percentage_error: 349548.1562\n",
      "16/16 [==============================] - 0s 25ms/step - loss: 0.0011 - mean_absolute_percentage_error: 295615.8125\n",
      "16/16 [==============================] - 0s 26ms/step - loss: 0.0010 - mean_absolute_percentage_error: 28.0637\n",
      "16/16 [==============================] - 0s 24ms/step - loss: 1.1031e-04 - mean_absolute_percentage_error: 27.3256\n",
      "16/16 [==============================] - 0s 24ms/step - loss: 5.9099e-05 - mean_absolute_percentage_error: 3595526.7500\n",
      "16/16 [==============================] - 0s 29ms/step - loss: 0.6943 - mean_absolute_percentage_error: 76.9420\n",
      "16/16 [==============================] - 0s 27ms/step - loss: 7.4114e-04 - mean_absolute_percentage_error: 25.9245\n",
      "16/16 [==============================] - 0s 25ms/step - loss: 1.2757e-04 - mean_absolute_percentage_error: 1373322.5000\n",
      "16/16 [==============================] - 0s 27ms/step - loss: 5.2221e-04 - mean_absolute_percentage_error: 24.7224\n",
      "16/16 [==============================] - 0s 24ms/step - loss: 8.1715e-04 - mean_absolute_percentage_error: 31.8124\n",
      "16/16 [==============================] - 0s 25ms/step - loss: 0.0135 - mean_absolute_percentage_error: 1996757.3750\n",
      "16/16 [==============================] - 0s 26ms/step - loss: 0.0019 - mean_absolute_percentage_error: 36.5756\n",
      "16/16 [==============================] - 1s 36ms/step - loss: 8.4874e-04 - mean_absolute_percentage_error: 34.0704\n",
      "16/16 [==============================] - 0s 27ms/step - loss: 0.0034 - mean_absolute_percentage_error: 987230.1250\n",
      "16/16 [==============================] - 0s 26ms/step - loss: 4.8599e-05 - mean_absolute_percentage_error: 2640745.2500\n",
      "16/16 [==============================] - 0s 24ms/step - loss: 8.2077e-05 - mean_absolute_percentage_error: 73225.3750\n",
      "16/16 [==============================] - 0s 25ms/step - loss: 0.0043 - mean_absolute_percentage_error: 15606547.0000\n",
      "16/16 [==============================] - 0s 25ms/step - loss: 0.0086 - mean_absolute_percentage_error: 457307.6875\n",
      "16/16 [==============================] - 0s 25ms/step - loss: 0.0014 - mean_absolute_percentage_error: 117672.1406\n",
      "16/16 [==============================] - 0s 25ms/step - loss: 0.0030 - mean_absolute_percentage_error: 6907.5859\n"
     ]
    },
    {
     "data": {
      "text/plain": [
       "{'Anchieta': [0.0007052274304442108, 43.19216537475586],\n",
       " 'Bangu': [0.00038059073267504573, 31.299766540527344],\n",
       " 'Barra da Tijuca': [0.000483615614939481, 49.03586959838867],\n",
       " 'Botafogo': [0.0023192802909761667, 30.577455520629883],\n",
       " 'Campo Grande': [5.748889816459268e-05, 31.537446975708008],\n",
       " 'Centro': [0.7550690770149231, 28.683307647705078],\n",
       " 'Cidade de Deus': [0.000908440153580159, 19729296.0],\n",
       " 'Complexo do Alemao': [0.00013193904305808246, 6677155.5],\n",
       " 'Copacabana': [0.010875527746975422, 55.954063415527344],\n",
       " 'Guaratiba': [6.901000597281381e-05, 777216.3125],\n",
       " 'Ilha do Governador': [0.00017346777894999832, 349548.15625],\n",
       " 'Inhauma': [0.0011083482531830668, 295615.8125],\n",
       " 'Iraja': [0.0010068053379654884, 28.063663482666016],\n",
       " 'Jacarepagua': [0.000110312677861657, 27.325624465942383],\n",
       " 'Jacarezinho': [5.9099231293657795e-05, 3595526.75],\n",
       " 'Lagoa': [0.6943167448043823, 76.94197082519531],\n",
       " 'Madureira': [0.0007411403930746019, 25.924497604370117],\n",
       " 'Mare': [0.0001275737740797922, 1373322.5],\n",
       " 'Meier': [0.0005222137551754713, 24.722360610961914],\n",
       " 'Pavuna': [0.0008171490044333041, 31.81241798400879],\n",
       " 'Portuaria': [0.013500697910785675, 1996757.375],\n",
       " 'Ramos': [0.0019332262454554439, 36.575618743896484],\n",
       " 'Realengo': [0.0008487386512570083, 34.0704345703125],\n",
       " 'Rio Comprido': [0.003390316618606448, 987230.125],\n",
       " 'Rocinha': [4.859931505052373e-05, 2640745.25],\n",
       " 'Santa Cruz': [8.207665814552456e-05, 73225.375],\n",
       " 'Santa Teresa': [0.0042831324972212315, 15606547.0],\n",
       " 'Sao Cristovao': [0.008564470335841179, 457307.6875],\n",
       " 'Tijuca': [0.0014015528140589595, 117672.140625],\n",
       " 'Vila Isabel': [0.0030177924782037735, 6907.5859375]}"
      ]
     },
     "execution_count": 147,
     "metadata": {},
     "output_type": "execute_result"
    }
   ],
   "source": [
    "# Getting the results for each AR\n",
    "\n",
    "all_results = {}\n",
    "\n",
    "for AR in AR_list:\n",
    "    all_results[AR] = modelling(AR)\n",
    "    \n",
    "all_results"
   ]
  },
  {
   "cell_type": "code",
   "execution_count": 152,
   "id": "5b5b77b3",
   "metadata": {},
   "outputs": [
    {
     "data": {
      "text/plain": [
       "1822820.9762325287"
      ]
     },
     "execution_count": 152,
     "metadata": {},
     "output_type": "execute_result"
    }
   ],
   "source": [
    "# getting the mean of all the results\n",
    "mape = [all_results[AR][1] for AR in all_results]\n",
    "mape_overall = np.mean(mape)\n",
    "mape_overall"
   ]
  },
  {
   "cell_type": "code",
   "execution_count": 113,
   "id": "3f743912",
   "metadata": {},
   "outputs": [
    {
     "ename": "NameError",
     "evalue": "name 'history' is not defined",
     "output_type": "error",
     "traceback": [
      "\u001b[0;31m---------------------------------------------------------------------------\u001b[0m",
      "\u001b[0;31mNameError\u001b[0m                                 Traceback (most recent call last)",
      "Input \u001b[0;32mIn [113]\u001b[0m, in \u001b[0;36m<cell line: 3>\u001b[0;34m()\u001b[0m\n\u001b[1;32m      1\u001b[0m \u001b[38;5;66;03m# Plotting the results\u001b[39;00m\n\u001b[1;32m      2\u001b[0m \u001b[38;5;28;01mimport\u001b[39;00m \u001b[38;5;21;01mmatplotlib\u001b[39;00m\u001b[38;5;21;01m.\u001b[39;00m\u001b[38;5;21;01mpyplot\u001b[39;00m \u001b[38;5;28;01mas\u001b[39;00m \u001b[38;5;21;01mplt\u001b[39;00m\n\u001b[0;32m----> 3\u001b[0m plt\u001b[38;5;241m.\u001b[39mplot(\u001b[43mhistory\u001b[49m\u001b[38;5;241m.\u001b[39mhistory[\u001b[38;5;124m'\u001b[39m\u001b[38;5;124mmean_absolute_percentage_error\u001b[39m\u001b[38;5;124m'\u001b[39m])\n\u001b[1;32m      4\u001b[0m plt\u001b[38;5;241m.\u001b[39mplot(history\u001b[38;5;241m.\u001b[39mhistory[\u001b[38;5;124m'\u001b[39m\u001b[38;5;124mval_mean_absolute_percentage_error\u001b[39m\u001b[38;5;124m'\u001b[39m])\n",
      "\u001b[0;31mNameError\u001b[0m: name 'history' is not defined"
     ]
    }
   ],
   "source": [
    "# Plotting the results\n",
    "import matplotlib.pyplot as plt\n",
    "plt.plot(history.history['mean_absolute_percentage_error'])\n",
    "plt.plot(history.history['val_mean_absolute_percentage_error'])"
   ]
  },
  {
   "cell_type": "code",
   "execution_count": null,
   "id": "cf6c9e4d",
   "metadata": {},
   "outputs": [],
   "source": [
    "# Printing the results\n",
    "\n",
    "res = model.evaluate(X_test, y_test, verbose=0)\n",
    "print(f'MAPE on the test set : {res[1]:.0f} %')"
   ]
  }
 ],
 "metadata": {
  "kernelspec": {
   "display_name": "Python 3 (ipykernel)",
   "language": "python",
   "name": "python3"
  },
  "language_info": {
   "codemirror_mode": {
    "name": "ipython",
    "version": 3
   },
   "file_extension": ".py",
   "mimetype": "text/x-python",
   "name": "python",
   "nbconvert_exporter": "python",
   "pygments_lexer": "ipython3",
   "version": "3.8.12"
  },
  "toc": {
   "base_numbering": 1,
   "nav_menu": {},
   "number_sections": true,
   "sideBar": true,
   "skip_h1_title": false,
   "title_cell": "Table of Contents",
   "title_sidebar": "Contents",
   "toc_cell": false,
   "toc_position": {},
   "toc_section_display": true,
   "toc_window_display": false
  }
 },
 "nbformat": 4,
 "nbformat_minor": 5
}
