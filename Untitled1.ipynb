{
 "cells": [
  {
   "cell_type": "code",
   "execution_count": 23,
   "id": "7f763231",
   "metadata": {},
   "outputs": [
    {
     "name": "stdout",
     "output_type": "stream",
     "text": [
      "The autoreload extension is already loaded. To reload it, use:\n",
      "  %reload_ext autoreload\n"
     ]
    }
   ],
   "source": [
    "%load_ext autoreload\n",
    "%autoreload 2"
   ]
  },
  {
   "cell_type": "code",
   "execution_count": 24,
   "id": "8ae0ad4e",
   "metadata": {},
   "outputs": [],
   "source": [
    "import pandas as pd\n",
    "import clean\n",
    "import preproc\n",
    "import unidecode"
   ]
  },
  {
   "cell_type": "code",
   "execution_count": 25,
   "id": "12fc6fe7",
   "metadata": {},
   "outputs": [],
   "source": [
    "data1, data2, data3, data4 = clean.get_data()"
   ]
  },
  {
   "cell_type": "code",
   "execution_count": 26,
   "id": "f22f595a",
   "metadata": {},
   "outputs": [],
   "source": [
    "def merge_clean_debug(data1, data2, data3, data4):\n",
    "    # Merging\n",
    "    data = pd.concat([data1, data2, data3, data4]) # Merging all datasets\n",
    "    # Focusing on Rio de Janeiro only\n",
    "    data = data[data[\"municipio_fato\"] == \"Rio de Janeiro (Capital)\"] # Filtering on Rio de Janeiro only\n",
    "    # Columns transforming\n",
    "    data = data[[\"controle\", \"titulo_do\", \"total_rbft\", \"cisp\", \"data_fato\",\\\n",
    "        \"hora_fato\", \"local\", \"bairro_fato\"]] # Removing useless columns\n",
    "    data.columns = [\"Crime_ID\", \"Crime_sub_type\", \"Crime_type\",\\\n",
    "        \"Police_station\", \"Date\", \"Time\", \"Place_type\", \"Neighborhood\"]  # Renaming columns in English\n",
    "    # Date and Time preprocessing\n",
    "    data = data[data[\"Time\"] != \"99\"] # Removing invalid time format\n",
    "    \n",
    "    # Part added to debugging - only one part of the issue\n",
    "    data = data.dropna(subset = ['Date'])\n",
    "    \n",
    "    data[\"Test_Date_Time\"] = data[\"Date\"] + \" \" + data[\"Time\"]\n",
    "    data[\"Date_Time\"] = pd.to_datetime(data[\"Test_Date_Time\"])\n",
    "    \n",
    "    data.drop(columns=[\"Date\", \"Time\"], inplace=True) # Removing time and date columns once the Date_Time is created\n",
    "    data = data[data[\"Date_Time\"] > \"2008-12-31\"] # Removing irrelevant date samples\n",
    "\n",
    "    data = data.drop_duplicates(subset=\"Crime_ID\")\n",
    "    data[\"Neighborhood\"] = data[\"Neighborhood\"].map(lambda x: unidecode.unidecode(x)) # Removing accents\n",
    "    data = data[data[\"Neighborhood\"] != \"sem informacao\"] # Removing missing values for neighborhood\n",
    "    return data"
   ]
  },
  {
   "cell_type": "code",
   "execution_count": 12,
   "id": "b2c08839",
   "metadata": {},
   "outputs": [],
   "source": [
    "data = merge_clean_debug(data1, data2, data3, data4)"
   ]
  },
  {
   "cell_type": "code",
   "execution_count": 27,
   "id": "bbb7ab22",
   "metadata": {},
   "outputs": [
    {
     "name": "stdout",
     "output_type": "stream",
     "text": [
      "<class 'pandas.core.frame.DataFrame'>\n",
      "Int64Index: 1219368 entries, 0 to 701663\n",
      "Data columns (total 8 columns):\n",
      " #   Column          Non-Null Count    Dtype         \n",
      "---  ------          --------------    -----         \n",
      " 0   Crime_ID        1219368 non-null  object        \n",
      " 1   Crime_sub_type  1219368 non-null  object        \n",
      " 2   Crime_type      1219368 non-null  object        \n",
      " 3   Police_station  1219368 non-null  object        \n",
      " 4   Place_type      1219368 non-null  object        \n",
      " 5   Neighborhood    1219368 non-null  object        \n",
      " 6   Test_Date_Time  1219368 non-null  object        \n",
      " 7   Date_Time       1219368 non-null  datetime64[ns]\n",
      "dtypes: datetime64[ns](1), object(7)\n",
      "memory usage: 83.7+ MB\n"
     ]
    }
   ],
   "source": [
    "data.info()"
   ]
  },
  {
   "cell_type": "code",
   "execution_count": 28,
   "id": "2f6fc27b",
   "metadata": {},
   "outputs": [
    {
     "name": "stderr",
     "output_type": "stream",
     "text": [
      "/var/folders/7b/hgztdlzd4k76rwydg33k1vhm0000gn/T/ipykernel_65875/3175101911.py:1: FutureWarning: Treating datetime data as categorical rather than numeric in `.describe` is deprecated and will be removed in a future version of pandas. Specify `datetime_is_numeric=True` to silence this warning and adopt the future behavior now.\n",
      "  data.describe()\n"
     ]
    },
    {
     "data": {
      "text/html": [
       "<div>\n",
       "<style scoped>\n",
       "    .dataframe tbody tr th:only-of-type {\n",
       "        vertical-align: middle;\n",
       "    }\n",
       "\n",
       "    .dataframe tbody tr th {\n",
       "        vertical-align: top;\n",
       "    }\n",
       "\n",
       "    .dataframe thead th {\n",
       "        text-align: right;\n",
       "    }\n",
       "</style>\n",
       "<table border=\"1\" class=\"dataframe\">\n",
       "  <thead>\n",
       "    <tr style=\"text-align: right;\">\n",
       "      <th></th>\n",
       "      <th>Crime_ID</th>\n",
       "      <th>Crime_sub_type</th>\n",
       "      <th>Crime_type</th>\n",
       "      <th>Police_station</th>\n",
       "      <th>Place_type</th>\n",
       "      <th>Neighborhood</th>\n",
       "      <th>Test_Date_Time</th>\n",
       "      <th>Date_Time</th>\n",
       "    </tr>\n",
       "  </thead>\n",
       "  <tbody>\n",
       "    <tr>\n",
       "      <th>count</th>\n",
       "      <td>1219368</td>\n",
       "      <td>1219368</td>\n",
       "      <td>1219368</td>\n",
       "      <td>1219368</td>\n",
       "      <td>1219368</td>\n",
       "      <td>1219368</td>\n",
       "      <td>1219368</td>\n",
       "      <td>1219368</td>\n",
       "    </tr>\n",
       "    <tr>\n",
       "      <th>unique</th>\n",
       "      <td>1219368</td>\n",
       "      <td>27</td>\n",
       "      <td>3</td>\n",
       "      <td>42</td>\n",
       "      <td>68</td>\n",
       "      <td>14206</td>\n",
       "      <td>448010</td>\n",
       "      <td>448010</td>\n",
       "    </tr>\n",
       "    <tr>\n",
       "      <th>top</th>\n",
       "      <td>00787401-2009</td>\n",
       "      <td>Roubo a transeunte</td>\n",
       "      <td>Roubo</td>\n",
       "      <td>034a. Bangu</td>\n",
       "      <td>Via pública</td>\n",
       "      <td>CENTRO</td>\n",
       "      <td>2018-02-10 00:00</td>\n",
       "      <td>2018-02-10 00:00:00</td>\n",
       "    </tr>\n",
       "    <tr>\n",
       "      <th>freq</th>\n",
       "      <td>1</td>\n",
       "      <td>353411</td>\n",
       "      <td>698094</td>\n",
       "      <td>71675</td>\n",
       "      <td>875865</td>\n",
       "      <td>52952</td>\n",
       "      <td>279</td>\n",
       "      <td>279</td>\n",
       "    </tr>\n",
       "    <tr>\n",
       "      <th>first</th>\n",
       "      <td>NaN</td>\n",
       "      <td>NaN</td>\n",
       "      <td>NaN</td>\n",
       "      <td>NaN</td>\n",
       "      <td>NaN</td>\n",
       "      <td>NaN</td>\n",
       "      <td>NaN</td>\n",
       "      <td>2008-12-31 01:00:00</td>\n",
       "    </tr>\n",
       "    <tr>\n",
       "      <th>last</th>\n",
       "      <td>NaN</td>\n",
       "      <td>NaN</td>\n",
       "      <td>NaN</td>\n",
       "      <td>NaN</td>\n",
       "      <td>NaN</td>\n",
       "      <td>NaN</td>\n",
       "      <td>NaN</td>\n",
       "      <td>2020-01-01 00:30:00</td>\n",
       "    </tr>\n",
       "  </tbody>\n",
       "</table>\n",
       "</div>"
      ],
      "text/plain": [
       "             Crime_ID      Crime_sub_type Crime_type Police_station  \\\n",
       "count         1219368             1219368    1219368        1219368   \n",
       "unique        1219368                  27          3             42   \n",
       "top     00787401-2009  Roubo a transeunte      Roubo    034a. Bangu   \n",
       "freq                1              353411     698094          71675   \n",
       "first             NaN                 NaN        NaN            NaN   \n",
       "last              NaN                 NaN        NaN            NaN   \n",
       "\n",
       "         Place_type Neighborhood    Test_Date_Time            Date_Time  \n",
       "count       1219368      1219368           1219368              1219368  \n",
       "unique           68        14206            448010               448010  \n",
       "top     Via pública       CENTRO  2018-02-10 00:00  2018-02-10 00:00:00  \n",
       "freq         875865        52952               279                  279  \n",
       "first           NaN          NaN               NaN  2008-12-31 01:00:00  \n",
       "last            NaN          NaN               NaN  2020-01-01 00:30:00  "
      ]
     },
     "execution_count": 28,
     "metadata": {},
     "output_type": "execute_result"
    }
   ],
   "source": [
    "data.describe()"
   ]
  },
  {
   "cell_type": "code",
   "execution_count": 29,
   "id": "e87f0251",
   "metadata": {},
   "outputs": [],
   "source": [
    "data = clean.get_AR(data, clean.get_bairros_data())"
   ]
  },
  {
   "cell_type": "code",
   "execution_count": 21,
   "id": "73a83fce",
   "metadata": {},
   "outputs": [
    {
     "data": {
      "text/plain": [
       "(1188504, 9)"
      ]
     },
     "execution_count": 21,
     "metadata": {},
     "output_type": "execute_result"
    }
   ],
   "source": [
    "data.shape"
   ]
  },
  {
   "cell_type": "code",
   "execution_count": null,
   "id": "00f91314",
   "metadata": {},
   "outputs": [],
   "source": []
  }
 ],
 "metadata": {
  "kernelspec": {
   "display_name": "Python 3 (ipykernel)",
   "language": "python",
   "name": "python3"
  },
  "language_info": {
   "codemirror_mode": {
    "name": "ipython",
    "version": 3
   },
   "file_extension": ".py",
   "mimetype": "text/x-python",
   "name": "python",
   "nbconvert_exporter": "python",
   "pygments_lexer": "ipython3",
   "version": "3.8.12"
  },
  "toc": {
   "base_numbering": 1,
   "nav_menu": {},
   "number_sections": true,
   "sideBar": true,
   "skip_h1_title": false,
   "title_cell": "Table of Contents",
   "title_sidebar": "Contents",
   "toc_cell": false,
   "toc_position": {},
   "toc_section_display": true,
   "toc_window_display": false
  }
 },
 "nbformat": 4,
 "nbformat_minor": 5
}
